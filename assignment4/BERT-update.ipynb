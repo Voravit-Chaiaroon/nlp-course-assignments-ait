{
 "cells": [
  {
   "attachments": {},
   "cell_type": "markdown",
   "metadata": {
    "id": "bSz5jzj61nHc"
   },
   "source": [
    "# BERT (Updated 1 Feb 2025, Available CUDA)\n",
    "\n",
    "We shall implement BERT.  For this tutorial, you may want to first look at my Transformers tutorial to get a basic understanding of Transformers. \n",
    "\n",
    "For BERT, the main difference is on how we process the datasets, i.e., masking.   Aside from that, the backbone model is still the Transformers."
   ]
  },
  {
   "cell_type": "code",
   "execution_count": 31,
   "metadata": {
    "id": "-8kZmr4ItGUj"
   },
   "outputs": [],
   "source": [
    "import math\n",
    "import re\n",
    "from   random import *\n",
    "import numpy as np\n",
    "import torch\n",
    "import torch.nn as nn\n",
    "import torch.optim as optim\n",
    "import torch.nn.functional as F\n",
    "import os"
   ]
  },
  {
   "cell_type": "code",
   "execution_count": 32,
   "metadata": {},
   "outputs": [
    {
     "name": "stdout",
     "output_type": "stream",
     "text": [
      "cuda\n"
     ]
    }
   ],
   "source": [
    "# Set GPU device\n",
    "os.environ[\"CUDA_VISIBLE_DEVICES\"] = \"2\"\n",
    "\n",
    "os.environ['http_proxy']  = 'http://192.41.170.23:3128'\n",
    "os.environ['https_proxy'] = 'http://192.41.170.23:3128'\n",
    "device = torch.device(\"cuda\" if torch.cuda.is_available() else \"cpu\")\n",
    "device\n",
    "print(device)\n",
    "\n",
    "#make our work comparable if restarted the kernel\n",
    "SEED = 1234\n",
    "torch.manual_seed(SEED)\n",
    "torch.backends.cudnn.deterministic = True\n",
    "\n",
    "# torch.cuda.get_device_name(0)"
   ]
  },
  {
   "cell_type": "markdown",
   "metadata": {},
   "source": [
    "## 1. Data\n",
    "\n",
    "For simplicity, we shall use very simple data like this."
   ]
  },
  {
   "cell_type": "code",
   "execution_count": 33,
   "metadata": {},
   "outputs": [
    {
     "data": {
      "text/plain": [
       "Dataset({\n",
       "    features: ['text'],\n",
       "    num_rows: 740042\n",
       "})"
      ]
     },
     "execution_count": 33,
     "metadata": {},
     "output_type": "execute_result"
    }
   ],
   "source": [
    "from datasets import load_dataset\n",
    "\n",
    "# Load BookCorpus dataset\n",
    "# The first 1% of `train` split.\n",
    "dataset = load_dataset('bookcorpus', split='train[:1%]')\n",
    "#set dataset to 100k rows\n",
    "# dataset = dataset.select(range(100000))\n",
    "dataset"
   ]
  },
  {
   "cell_type": "code",
   "execution_count": 34,
   "metadata": {},
   "outputs": [],
   "source": [
    "sentences = dataset['text']\n",
    "text = [x.lower() for x in sentences] #lower case\n",
    "text = [re.sub(\"[.,!?\\\\-]\", '', x) for x in text] #clean all symbols\n",
    "# text"
   ]
  },
  {
   "cell_type": "code",
   "execution_count": 35,
   "metadata": {},
   "outputs": [
    {
     "name": "stdout",
     "output_type": "stream",
     "text": [
      "usually  he would be tearing around the living room  playing with his toys  _____\n",
      "['usually', 'he', 'would', 'be', 'tearing', 'around', 'the', 'living', 'room', 'playing', 'with', 'his', 'toys']\n"
     ]
    }
   ],
   "source": [
    "for sentence in text:\n",
    "    print(sentence, \"_____\")\n",
    "    words = sentence.split()\n",
    "    print(words)\n",
    "    break"
   ]
  },
  {
   "attachments": {},
   "cell_type": "markdown",
   "metadata": {},
   "source": [
    "### Making vocabs\n",
    "\n",
    "Before making the vocabs, let's remove all question marks and perios, etc, then turn everything to lowercase, and then simply split the text. "
   ]
  },
  {
   "cell_type": "code",
   "execution_count": 36,
   "metadata": {},
   "outputs": [
    {
     "data": {
      "application/vnd.jupyter.widget-view+json": {
       "model_id": "081a9439c5e64ffabb975f8d580c197b",
       "version_major": 2,
       "version_minor": 0
      },
      "text/plain": [
       "Creating word2id: 0it [00:00, ?it/s]"
      ]
     },
     "metadata": {},
     "output_type": "display_data"
    },
    {
     "data": {
      "text/plain": [
       "60305"
      ]
     },
     "execution_count": 36,
     "metadata": {},
     "output_type": "execute_result"
    }
   ],
   "source": [
    "from tqdm.auto import tqdm\n",
    "\n",
    "# Combine everything into one to make vocab\n",
    "word_list = list(set(\" \".join(text).split()))\n",
    "word2id = {'[PAD]': 0, '[CLS]': 1, '[SEP]': 2, '[MASK]': 3}  # special tokens\n",
    "\n",
    "# Create the word2id in a single pass\n",
    "for i, w in tqdm(enumerate(word_list), desc=\"Creating word2id\"):\n",
    "    word2id[w] = i + 4  # because 0-3 are already occupied\n",
    "\n",
    "# Precompute the id2word mapping (this can be done once after word2id is fully populated)\n",
    "id2word = {v: k for k, v in word2id.items()}\n",
    "vocab_size = len(word2id)\n",
    "vocab_size"
   ]
  },
  {
   "cell_type": "code",
   "execution_count": 37,
   "metadata": {},
   "outputs": [
    {
     "data": {
      "application/vnd.jupyter.widget-view+json": {
       "model_id": "cdd499f668ee4449aa89346b94cb7b0e",
       "version_major": 2,
       "version_minor": 0
      },
      "text/plain": [
       "Processing sentences:   0%|          | 0/740042 [00:00<?, ?it/s]"
      ]
     },
     "metadata": {},
     "output_type": "display_data"
    }
   ],
   "source": [
    "vocab_size = len(word2id)\n",
    "\n",
    "# List of all tokens for the whole text\n",
    "token_list = []\n",
    "\n",
    "# Process sentences more efficiently\n",
    "for sentence in tqdm(text, desc=\"Processing sentences\"):\n",
    "    token_list.append([word2id[word] for word in sentence.split()])\n",
    "\n",
    "# Now token_list contains the tokenized sentences"
   ]
  },
  {
   "cell_type": "code",
   "execution_count": 38,
   "metadata": {},
   "outputs": [
    {
     "data": {
      "text/plain": [
       "['usually , he would be tearing around the living room , playing with his toys .',\n",
       " 'but just one look at a minion sent him practically catatonic .']"
      ]
     },
     "execution_count": 38,
     "metadata": {},
     "output_type": "execute_result"
    }
   ],
   "source": [
    "#take a look at sentences\n",
    "sentences[:2]"
   ]
  },
  {
   "cell_type": "code",
   "execution_count": 39,
   "metadata": {
    "colab": {
     "base_uri": "https://localhost:8080/"
    },
    "id": "pZ42SFLKtsv_",
    "outputId": "16c28ac8-8349-48ab-f1d3-a9431e658349",
    "scrolled": true
   },
   "outputs": [
    {
     "data": {
      "text/plain": [
       "[[57487,\n",
       "  10486,\n",
       "  9988,\n",
       "  32256,\n",
       "  3424,\n",
       "  39492,\n",
       "  43931,\n",
       "  12407,\n",
       "  56993,\n",
       "  17357,\n",
       "  1047,\n",
       "  38040,\n",
       "  49112],\n",
       " [46221, 41677, 44727, 28685, 4630, 53663, 32550, 50279, 34206, 29679, 43566]]"
      ]
     },
     "execution_count": 39,
     "metadata": {},
     "output_type": "execute_result"
    }
   ],
   "source": [
    "#take a look at token_list\n",
    "token_list[:2]"
   ]
  },
  {
   "cell_type": "code",
   "execution_count": 40,
   "metadata": {},
   "outputs": [
    {
     "name": "stdout",
     "output_type": "stream",
     "text": [
      "usually\n",
      "he\n",
      "would\n",
      "be\n",
      "tearing\n",
      "around\n",
      "the\n",
      "living\n",
      "room\n",
      "playing\n",
      "with\n",
      "his\n",
      "toys\n"
     ]
    }
   ],
   "source": [
    "#testing one sentence\n",
    "for tokens in token_list[0]:\n",
    "    print(id2word[tokens])"
   ]
  },
  {
   "attachments": {},
   "cell_type": "markdown",
   "metadata": {},
   "source": [
    "## 2. Data loader\n",
    "\n",
    "We gonna make dataloader.  Inside here, we need to make two types of embeddings: **token embedding** and **segment embedding**\n",
    "\n",
    "1. **Token embedding** - Given “The cat is walking. The dog is barking”, we add [CLS] and [SEP] >> “[CLS] the cat is walking [SEP] the dog is barking”. \n",
    "\n",
    "2. **Segment embedding**\n",
    "A segment embedding separates two sentences, i.e., [0 0 0 0 1 1 1 1 ]\n",
    "\n",
    "3. **Masking**\n",
    "As mentioned in the original paper, BERT randomly assigns masks to 15% of the sequence. In this 15%, 80% is replaced with masks, while 10% is replaced with random tokens, and the rest 10% is left as is.  Here we specified `max_pred` \n",
    "\n",
    "4. **Padding**\n",
    "Once we mask, we will add padding. For simplicity, here we padded until some specified `max_len`. \n",
    "\n",
    "Note:  `positive` and `negative` are just simply counts to keep track of the batch size.  `positive` refers to two sentences that are really next to one another."
   ]
  },
  {
   "cell_type": "code",
   "execution_count": 41,
   "metadata": {},
   "outputs": [],
   "source": [
    "batch_size = 6\n",
    "max_mask   = 5  # max masked tokens when 15% exceed, it will only be max_pred\n",
    "max_len    = 1000 # maximum of length to be padded; "
   ]
  },
  {
   "cell_type": "code",
   "execution_count": 42,
   "metadata": {
    "id": "TtyOOmRntu8w"
   },
   "outputs": [],
   "source": [
    "def make_batch():\n",
    "    batch = []\n",
    "    positive = negative = 0  #count of batch size;  we want to have half batch that are positive pairs (i.e., next sentence pairs)\n",
    "    while positive != batch_size/2 or negative != batch_size/2:\n",
    "        \n",
    "        #randomly choose two sentence so we can put [SEP]\n",
    "        tokens_a_index, tokens_b_index = randrange(len(sentences)), randrange(len(sentences))\n",
    "        #retrieve the two sentences\n",
    "        tokens_a, tokens_b = token_list[tokens_a_index], token_list[tokens_b_index]\n",
    "\n",
    "        #1. token embedding - append CLS and SEP\n",
    "        input_ids = [word2id['[CLS]']] + tokens_a + [word2id['[SEP]']] + tokens_b + [word2id['[SEP]']]\n",
    "\n",
    "        #2. segment embedding - [0, 0, 0, 0, 0, 0, 0, 0, 0, 0, 1, 1, 1, 1, 1, 1, 1, 1]\n",
    "        segment_ids = [0] * (1 + len(tokens_a) + 1) + [1] * (len(tokens_b) + 1)\n",
    "\n",
    "        #3. mask language modeling\n",
    "        #masked 15%, but should be at least 1 but does not exceed max_mask\n",
    "        n_pred =  min(max_mask, max(1, int(round(len(input_ids) * 0.15))))\n",
    "        #get the pos that excludes CLS and SEP and shuffle them\n",
    "        cand_maked_pos = [i for i, token in enumerate(input_ids) if token != word2id['[CLS]'] and token != word2id['[SEP]']]\n",
    "        shuffle(cand_maked_pos)\n",
    "        masked_tokens, masked_pos = [], []\n",
    "        #simply loop and change the input_ids to [MASK]\n",
    "        for pos in cand_maked_pos[:n_pred]:\n",
    "            masked_pos.append(pos)  #remember the position\n",
    "            masked_tokens.append(input_ids[pos]) #remember the tokens\n",
    "            #80% replace with a [MASK], but 10% will replace with a random token\n",
    "            if random() < 0.1:  # 10%\n",
    "                index = randint(0, vocab_size - 1) # random index in vocabulary\n",
    "                input_ids[pos] = word2id[id2word[index]] # replace\n",
    "            elif random() < 0.9:  # 80%\n",
    "                input_ids[pos] = word2id['[MASK]'] # make mask\n",
    "            else:  #10% do nothing\n",
    "                pass\n",
    "\n",
    "        # pad the input_ids and segment ids until the max len\n",
    "        n_pad = max_len - len(input_ids)\n",
    "        input_ids.extend([0] * n_pad)\n",
    "        segment_ids.extend([0] * n_pad)\n",
    "\n",
    "        # pad the masked_tokens and masked_pos to make sure the lenth is max_mask\n",
    "        if max_mask > n_pred:\n",
    "            n_pad = max_mask - n_pred\n",
    "            masked_tokens.extend([0] * n_pad)\n",
    "            masked_pos.extend([0] * n_pad)\n",
    "\n",
    "        #check if first sentence is really comes before the second sentence\n",
    "        #also make sure positive is exactly half the batch size\n",
    "        if tokens_a_index + 1 == tokens_b_index and positive < batch_size / 2:\n",
    "            batch.append([input_ids, segment_ids, masked_tokens, masked_pos, True]) # IsNext\n",
    "            positive += 1\n",
    "        elif tokens_a_index + 1 != tokens_b_index and negative < batch_size/2:\n",
    "            batch.append([input_ids, segment_ids, masked_tokens, masked_pos, False]) # NotNext\n",
    "            negative += 1\n",
    "            \n",
    "    return batch"
   ]
  },
  {
   "cell_type": "code",
   "execution_count": 43,
   "metadata": {
    "id": "Q7_HC-Y0jC3K"
   },
   "outputs": [],
   "source": [
    "batch = make_batch()"
   ]
  },
  {
   "cell_type": "code",
   "execution_count": 44,
   "metadata": {},
   "outputs": [
    {
     "data": {
      "text/plain": [
       "6"
      ]
     },
     "execution_count": 44,
     "metadata": {},
     "output_type": "execute_result"
    }
   ],
   "source": [
    "#len of batch\n",
    "len(batch)"
   ]
  },
  {
   "cell_type": "code",
   "execution_count": 45,
   "metadata": {},
   "outputs": [
    {
     "data": {
      "text/plain": [
       "(torch.Size([6, 1000]),\n",
       " torch.Size([6, 1000]),\n",
       " torch.Size([6, 5]),\n",
       " torch.Size([6, 5]),\n",
       " torch.Size([6]))"
      ]
     },
     "execution_count": 45,
     "metadata": {},
     "output_type": "execute_result"
    }
   ],
   "source": [
    "#we can deconstruct using map and zip\n",
    "input_ids, segment_ids, masked_tokens, masked_pos, isNext = map(torch.LongTensor, zip(*batch))\n",
    "input_ids.shape, segment_ids.shape, masked_tokens.shape, masked_pos.shape, isNext.shape"
   ]
  },
  {
   "attachments": {},
   "cell_type": "markdown",
   "metadata": {},
   "source": [
    "## 3. Model\n",
    "\n",
    "Recall that BERT only uses the encoder.\n",
    "\n",
    "BERT has the following components:\n",
    "\n",
    "- Embedding layers\n",
    "- Attention Mask\n",
    "- Encoder layer\n",
    "- Multi-head attention\n",
    "- Scaled dot product attention\n",
    "- Position-wise feed-forward network\n",
    "- BERT (assembling all the components)"
   ]
  },
  {
   "attachments": {},
   "cell_type": "markdown",
   "metadata": {},
   "source": [
    "## 3.1 Embedding\n",
    "\n",
    "Here we simply generate the positional embedding, and sum the token embedding, positional embedding, and segment embedding together.\n",
    "\n",
    "<img src = \"figures/BERT_embed.png\" width=500>"
   ]
  },
  {
   "cell_type": "code",
   "execution_count": 46,
   "metadata": {},
   "outputs": [],
   "source": [
    "class Embedding(nn.Module):\n",
    "    def __init__(self, vocab_size, max_len, n_segments, d_model, device):\n",
    "        super(Embedding, self).__init__()\n",
    "        self.tok_embed = nn.Embedding(vocab_size, d_model)  # token embedding\n",
    "        self.pos_embed = nn.Embedding(max_len, d_model)      # position embedding\n",
    "        self.seg_embed = nn.Embedding(n_segments, d_model)  # segment(token type) embedding\n",
    "        self.norm = nn.LayerNorm(d_model)\n",
    "        self.device = device\n",
    "\n",
    "    def forward(self, x, seg):\n",
    "        #x, seg: (bs, len)\n",
    "        seq_len = x.size(1)\n",
    "        pos = torch.arange(seq_len, dtype=torch.long).to(self.device)\n",
    "        pos = pos.unsqueeze(0).expand_as(x)  # (len,) -> (bs, len)\n",
    "        embedding = self.tok_embed(x) + self.pos_embed(pos) + self.seg_embed(seg)\n",
    "        return self.norm(embedding)"
   ]
  },
  {
   "cell_type": "markdown",
   "metadata": {},
   "source": [
    "## 3.2 Attention mask"
   ]
  },
  {
   "cell_type": "code",
   "execution_count": 47,
   "metadata": {
    "id": "s1PGksqBNuZM"
   },
   "outputs": [],
   "source": [
    "def get_attn_pad_mask(seq_q, seq_k, device):\n",
    "    batch_size, len_q = seq_q.size()\n",
    "    batch_size, len_k = seq_k.size()\n",
    "    # eq(zero) is PAD token\n",
    "    pad_attn_mask = seq_k.data.eq(0).unsqueeze(1).to(device)  # batch_size x 1 x len_k(=len_q), one is masking\n",
    "    return pad_attn_mask.expand(batch_size, len_q, len_k)  # batch_size x len_q x len_k"
   ]
  },
  {
   "cell_type": "markdown",
   "metadata": {},
   "source": [
    "### Testing the attention mask"
   ]
  },
  {
   "cell_type": "code",
   "execution_count": 48,
   "metadata": {},
   "outputs": [
    {
     "name": "stdout",
     "output_type": "stream",
     "text": [
      "torch.Size([6, 1000, 1000])\n"
     ]
    }
   ],
   "source": [
    "print(get_attn_pad_mask(input_ids, input_ids, device).shape)"
   ]
  },
  {
   "attachments": {},
   "cell_type": "markdown",
   "metadata": {},
   "source": [
    "## 3.3 Encoder\n",
    "\n",
    "The encoder has two main components: \n",
    "\n",
    "- Multi-head Attention\n",
    "- Position-wise feed-forward network\n",
    "\n",
    "First let's make the wrapper called `EncoderLayer`"
   ]
  },
  {
   "cell_type": "code",
   "execution_count": 49,
   "metadata": {},
   "outputs": [],
   "source": [
    "class EncoderLayer(nn.Module):\n",
    "    def __init__(self, n_heads, d_model, d_ff, d_k, device):\n",
    "        super(EncoderLayer, self).__init__()\n",
    "        self.enc_self_attn = MultiHeadAttention(n_heads, d_model, d_k, device)\n",
    "        self.pos_ffn       = PoswiseFeedForwardNet(d_model, d_ff)\n",
    "\n",
    "    def forward(self, enc_inputs, enc_self_attn_mask):\n",
    "        enc_outputs, attn = self.enc_self_attn(enc_inputs, enc_inputs, enc_inputs, enc_self_attn_mask) # enc_inputs to same Q,K,V\n",
    "        enc_outputs = self.pos_ffn(enc_outputs) # enc_outputs: [batch_size x len_q x d_model]\n",
    "        return enc_outputs, attn"
   ]
  },
  {
   "cell_type": "markdown",
   "metadata": {},
   "source": [
    "Let's define the scaled dot attention, to be used inside the multihead attention"
   ]
  },
  {
   "cell_type": "code",
   "execution_count": 50,
   "metadata": {},
   "outputs": [],
   "source": [
    "class ScaledDotProductAttention(nn.Module):\n",
    "    def __init__(self, d_k, device):\n",
    "        super(ScaledDotProductAttention, self).__init__()\n",
    "        self.scale = torch.sqrt(torch.FloatTensor([d_k])).to(device)\n",
    "\n",
    "    def forward(self, Q, K, V, attn_mask):\n",
    "        scores = torch.matmul(Q, K.transpose(-1, -2)) / self.scale # scores : [batch_size x n_heads x len_q(=len_k) x len_k(=len_q)]\n",
    "        scores.masked_fill_(attn_mask, -1e9) # Fills elements of self tensor with value where mask is one.\n",
    "        attn = nn.Softmax(dim=-1)(scores)\n",
    "        context = torch.matmul(attn, V)\n",
    "        return context, attn "
   ]
  },
  {
   "cell_type": "markdown",
   "metadata": {},
   "source": [
    "Let's define the parameters first"
   ]
  },
  {
   "cell_type": "code",
   "execution_count": 51,
   "metadata": {},
   "outputs": [],
   "source": [
    "n_layers = 6    # number of Encoder of Encoder Layer\n",
    "n_heads  = 8    # number of heads in Multi-Head Attention\n",
    "d_model  = 768  # Embedding Size\n",
    "d_ff = 768 * 4  # 4*d_model, FeedForward dimension\n",
    "d_k = d_v = 64  # dimension of K(=Q), V\n",
    "n_segments = 2"
   ]
  },
  {
   "cell_type": "markdown",
   "metadata": {},
   "source": [
    "Here is the Multiheadattention."
   ]
  },
  {
   "cell_type": "code",
   "execution_count": 52,
   "metadata": {},
   "outputs": [],
   "source": [
    "class MultiHeadAttention(nn.Module):\n",
    "    def __init__(self, n_heads, d_model, d_k, device):\n",
    "        super(MultiHeadAttention, self).__init__()\n",
    "        self.n_heads = n_heads\n",
    "        self.d_model = d_model\n",
    "        self.d_k = d_k\n",
    "        self.d_v = d_k\n",
    "        self.W_Q = nn.Linear(d_model, d_k * n_heads)\n",
    "        self.W_K = nn.Linear(d_model, d_k * n_heads)\n",
    "        self.W_V = nn.Linear(d_model, self.d_v * n_heads)\n",
    "        self.device = device\n",
    "    def forward(self, Q, K, V, attn_mask):\n",
    "        # q: [batch_size x len_q x d_model], k: [batch_size x len_k x d_model], v: [batch_size x len_k x d_model]\n",
    "        residual, batch_size = Q, Q.size(0)\n",
    "        # (B, S, D) -proj-> (B, S, D) -split-> (B, S, H, W) -trans-> (B, H, S, W)\n",
    "        q_s = self.W_Q(Q).view(batch_size, -1, self.n_heads, self.d_k).transpose(1,2)  # q_s: [batch_size x n_heads x len_q x d_k]\n",
    "        k_s = self.W_K(K).view(batch_size, -1, self.n_heads, self.d_k).transpose(1,2)  # k_s: [batch_size x n_heads x len_k x d_k]\n",
    "        v_s = self.W_V(V).view(batch_size, -1, self.n_heads, self.d_v).transpose(1,2)  # v_s: [batch_size x n_heads x len_k x d_v]\n",
    "\n",
    "        attn_mask = attn_mask.unsqueeze(1).repeat(1, self.n_heads, 1, 1) # attn_mask : [batch_size x n_heads x len_q x len_k]\n",
    "\n",
    "        # context: [batch_size x n_heads x len_q x d_v], attn: [batch_size x n_heads x len_q(=len_k) x len_k(=len_q)]\n",
    "        context, attn = ScaledDotProductAttention(self.d_k, self.device)(q_s, k_s, v_s, attn_mask)\n",
    "        context = context.transpose(1, 2).contiguous().view(batch_size, -1, self.n_heads * self.d_v) # context: [batch_size x len_q x n_heads * d_v]\n",
    "        output = nn.Linear(self.n_heads * self.d_v, self.d_model, device=self.device)(context)\n",
    "        return nn.LayerNorm(self.d_model, device=self.device)(output + residual), attn # output: [batch_size x len_q x d_model]"
   ]
  },
  {
   "attachments": {},
   "cell_type": "markdown",
   "metadata": {},
   "source": [
    "Here is the PoswiseFeedForwardNet."
   ]
  },
  {
   "cell_type": "code",
   "execution_count": 53,
   "metadata": {},
   "outputs": [],
   "source": [
    "class PoswiseFeedForwardNet(nn.Module):\n",
    "    def __init__(self, d_model, d_ff):\n",
    "        super(PoswiseFeedForwardNet, self).__init__()\n",
    "        self.fc1 = nn.Linear(d_model, d_ff)\n",
    "        self.fc2 = nn.Linear(d_ff, d_model)\n",
    "\n",
    "    def forward(self, x):\n",
    "        # (batch_size, len_seq, d_model) -> (batch_size, len_seq, d_ff) -> (batch_size, len_seq, d_model)\n",
    "        return self.fc2(F.gelu(self.fc1(x)))"
   ]
  },
  {
   "cell_type": "markdown",
   "metadata": {},
   "source": [
    "## 3.4 Putting them together"
   ]
  },
  {
   "cell_type": "code",
   "execution_count": 54,
   "metadata": {
    "id": "OZ0TJ84W4SZw"
   },
   "outputs": [],
   "source": [
    "class BERT(nn.Module):\n",
    "    def __init__(self, n_layers, n_heads, d_model, d_ff, d_k, n_segments, vocab_size, max_len, device):\n",
    "        super(BERT, self).__init__()\n",
    "        self.params = {'n_layers': n_layers, 'n_heads': n_heads, 'd_model': d_model,\n",
    "                       'd_ff': d_ff, 'd_k': d_k, 'n_segments': n_segments,\n",
    "                       'vocab_size': vocab_size, 'max_len': max_len}\n",
    "        self.embedding = Embedding(vocab_size, max_len, n_segments, d_model, device)\n",
    "        self.layers = nn.ModuleList([EncoderLayer(n_heads, d_model, d_ff, d_k, device) for _ in range(n_layers)])\n",
    "        self.fc = nn.Linear(d_model, d_model)\n",
    "        self.activ = nn.Tanh()\n",
    "        self.linear = nn.Linear(d_model, d_model)\n",
    "        self.norm = nn.LayerNorm(d_model)\n",
    "        self.classifier = nn.Linear(d_model, 2)\n",
    "        # decoder is shared with embedding layer\n",
    "        embed_weight = self.embedding.tok_embed.weight\n",
    "        n_vocab, n_dim = embed_weight.size()\n",
    "        self.decoder = nn.Linear(n_dim, n_vocab, bias=False)\n",
    "        self.decoder.weight = embed_weight\n",
    "        self.decoder_bias = nn.Parameter(torch.zeros(n_vocab))\n",
    "        self.device = device\n",
    "\n",
    "    def forward(self, input_ids, segment_ids, masked_pos):\n",
    "        output = self.embedding(input_ids, segment_ids)\n",
    "        enc_self_attn_mask = get_attn_pad_mask(input_ids, input_ids, self.device)\n",
    "        for layer in self.layers:\n",
    "            output, enc_self_attn = layer(output, enc_self_attn_mask)\n",
    "        # output : [batch_size, len, d_model], attn : [batch_size, n_heads, d_mode, d_model]\n",
    "        \n",
    "        # 1. predict next sentence\n",
    "        # it will be decided by first token(CLS)\n",
    "        h_pooled   = self.activ(self.fc(output[:, 0])) # [batch_size, d_model]\n",
    "        logits_nsp = self.classifier(h_pooled) # [batch_size, 2]\n",
    "\n",
    "        # 2. predict the masked token\n",
    "        masked_pos = masked_pos[:, :, None].expand(-1, -1, output.size(-1)) # [batch_size, max_pred, d_model]\n",
    "        h_masked = torch.gather(output, 1, masked_pos) # masking position [batch_size, max_pred, d_model]\n",
    "        h_masked  = self.norm(F.gelu(self.linear(h_masked)))\n",
    "        logits_lm = self.decoder(h_masked) + self.decoder_bias # [batch_size, max_pred, n_vocab]\n",
    "\n",
    "        return logits_lm, logits_nsp\n",
    "    \n",
    "    def get_last_hidden_state(self, input_ids, segment_ids):\n",
    "        output = self.embedding(input_ids, segment_ids)\n",
    "        enc_self_attn_mask = get_attn_pad_mask(input_ids, input_ids, self.device)\n",
    "        for layer in self.layers:\n",
    "            output, enc_self_attn = layer(output, enc_self_attn_mask)\n",
    "\n",
    "        return output"
   ]
  },
  {
   "attachments": {},
   "cell_type": "markdown",
   "metadata": {},
   "source": [
    "## 4. Training"
   ]
  },
  {
   "cell_type": "code",
   "execution_count": 27,
   "metadata": {},
   "outputs": [],
   "source": [
    "from tqdm.auto import tqdm\n",
    "\n",
    "n_layers = 12    # number of Encoder of Encoder Layer\n",
    "n_heads  = 12    # number of heads in Multi-Head Attention\n",
    "d_model  = 768  # Embedding Size\n",
    "d_ff = d_model * 4  # 4*d_model, FeedForward dimension\n",
    "d_k = d_v = 64  # dimension of K(=Q), V\n",
    "n_segments = 2\n",
    "\n",
    "num_epoch = 1000\n",
    "model = BERT(\n",
    "    n_layers, \n",
    "    n_heads, \n",
    "    d_model, \n",
    "    d_ff, \n",
    "    d_k, \n",
    "    n_segments, \n",
    "    vocab_size, \n",
    "    max_len, \n",
    "    device\n",
    ").to(device)  # Move model to GPU"
   ]
  },
  {
   "cell_type": "code",
   "execution_count": 28,
   "metadata": {},
   "outputs": [],
   "source": [
    "criterion = nn.CrossEntropyLoss()\n",
    "optimizer = optim.Adam(model.parameters(), lr=0.001)"
   ]
  },
  {
   "cell_type": "code",
   "execution_count": 29,
   "metadata": {
    "colab": {
     "base_uri": "https://localhost:8080/"
    },
    "id": "8UAG3SEP4UbU",
    "outputId": "bc6f202f-df37-4fac-843c-fb86bdb777b2"
   },
   "outputs": [
    {
     "data": {
      "application/vnd.jupyter.widget-view+json": {
       "model_id": "1a964ce058684180aeef2de2f0e375ee",
       "version_major": 2,
       "version_minor": 0
      },
      "text/plain": [
       "Training Epochs:   0%|          | 0/1000 [00:00<?, ?it/s]"
      ]
     },
     "metadata": {},
     "output_type": "display_data"
    },
    {
     "name": "stdout",
     "output_type": "stream",
     "text": [
      "Epoch: 00 loss = 122.709877\n",
      "Epoch: 100 loss = 5.773489\n",
      "Epoch: 200 loss = 3.931206\n",
      "Epoch: 300 loss = 4.624311\n",
      "Epoch: 400 loss = 3.856100\n",
      "Epoch: 500 loss = 3.758019\n",
      "Epoch: 600 loss = 3.905877\n",
      "Epoch: 700 loss = 3.828730\n",
      "Epoch: 800 loss = 3.844019\n",
      "Epoch: 900 loss = 4.757391\n"
     ]
    }
   ],
   "source": [
    "batch = make_batch()\n",
    "input_ids, segment_ids, masked_tokens, masked_pos, isNext = map(torch.LongTensor, zip(*batch))\n",
    "\n",
    "# Move inputs to GPU\n",
    "input_ids = input_ids.to(device)\n",
    "segment_ids = segment_ids.to(device)\n",
    "masked_tokens = masked_tokens.to(device)\n",
    "masked_pos = masked_pos.to(device)\n",
    "isNext = isNext.to(device)\n",
    "\n",
    "# Wrap the epoch loop with tqdm\n",
    "for epoch in tqdm(range(num_epoch), desc=\"Training Epochs\"):\n",
    "    optimizer.zero_grad()\n",
    "    logits_lm, logits_nsp = model(input_ids, segment_ids, masked_pos)    \n",
    "    #logits_lm: (bs, max_mask, vocab_size) ==> (6, 5, 34)\n",
    "    #logits_nsp: (bs, yes/no) ==> (6, 2)\n",
    "\n",
    "    #1. mlm loss\n",
    "    #logits_lm.transpose: (bs, vocab_size, max_mask) vs. masked_tokens: (bs, max_mask)\n",
    "    loss_lm = criterion(logits_lm.transpose(1, 2), masked_tokens) # for masked LM\n",
    "    loss_lm = (loss_lm.float()).mean()\n",
    "    #2. nsp loss\n",
    "    #logits_nsp: (bs, 2) vs. isNext: (bs, )\n",
    "    loss_nsp = criterion(logits_nsp, isNext) # for sentence classification\n",
    "    \n",
    "    #3. combine loss\n",
    "    loss = loss_lm + loss_nsp\n",
    "    if epoch % 100 == 0:\n",
    "        print('Epoch:', '%02d' % (epoch), 'loss =', '{:.6f}'.format(loss))\n",
    "    loss.backward()\n",
    "    optimizer.step()"
   ]
  },
  {
   "cell_type": "code",
   "execution_count": null,
   "metadata": {},
   "outputs": [],
   "source": [
    "# Save the model after training\n",
    "torch.save(model.state_dict(), 'bert_model.pth')\n",
    "print(\"Model saved to bert_model.pth\")"
   ]
  },
  {
   "attachments": {},
   "cell_type": "markdown",
   "metadata": {},
   "source": [
    "## 5. Inference\n",
    "\n",
    "Since our dataset is very small, it won't work very well, but just for the sake of demonstration."
   ]
  },
  {
   "cell_type": "code",
   "execution_count": null,
   "metadata": {
    "colab": {
     "base_uri": "https://localhost:8080/"
    },
    "id": "uD3K8T6B4YJp",
    "outputId": "e057405b-1f78-431c-fa71-032a738fb848"
   },
   "outputs": [],
   "source": [
    "# Predict mask tokens ans isNext\n",
    "input_ids, segment_ids, masked_tokens, masked_pos, isNext = map(torch.LongTensor, zip(batch[2]))\n",
    "print([id2word[w.item()] for w in input_ids[0] if id2word[w.item()] != '[PAD]'])\n",
    "input_ids = input_ids.to(device)\n",
    "segment_ids = segment_ids.to(device)\n",
    "masked_tokens = masked_tokens.to(device)\n",
    "masked_pos = masked_pos.to(device)\n",
    "isNext = isNext.to(device)\n",
    "\n",
    "logits_lm, logits_nsp = model(input_ids, segment_ids, masked_pos)\n",
    "#logits_lm:  (1, max_mask, vocab_size) ==> (1, 5, 34)\n",
    "#logits_nsp: (1, yes/no) ==> (1, 2)\n",
    "\n",
    "#predict masked tokens\n",
    "#max the probability along the vocab dim (2), [1] is the indices of the max, and [0] is the first value\n",
    "logits_lm = logits_lm.data.cpu().max(2)[1][0].data.numpy() \n",
    "#note that zero is padding we add to the masked_tokens\n",
    "print('masked tokens (words) : ',[id2word[pos.item()] for pos in masked_tokens[0]])\n",
    "print('masked tokens list : ',[pos.item() for pos in masked_tokens[0]])\n",
    "print('masked tokens (words) : ',[id2word[pos.item()] for pos in logits_lm])\n",
    "print('predict masked tokens list : ', [pos for pos in logits_lm])\n",
    "\n",
    "#predict nsp\n",
    "logits_nsp = logits_nsp.cpu().data.max(1)[1][0].data.numpy()\n",
    "print(logits_nsp)\n",
    "print('isNext : ', True if isNext else False)\n",
    "print('predict isNext : ',True if logits_nsp else False)"
   ]
  },
  {
   "cell_type": "markdown",
   "metadata": {},
   "source": [
    "Trying a bigger dataset should be able to see the difference."
   ]
  },
  {
   "cell_type": "markdown",
   "metadata": {},
   "source": [
    "## TRY LOADING PRETRAINED PARAMS INTO BERT MODEL OF GOOGLE"
   ]
  },
  {
   "cell_type": "code",
   "execution_count": 55,
   "metadata": {},
   "outputs": [],
   "source": [
    "import math\n",
    "import re\n",
    "from   random import *\n",
    "import numpy as np\n",
    "import torch\n",
    "import torch.nn as nn\n",
    "import torch.optim as optim\n",
    "import torch.nn.functional as F\n",
    "import os"
   ]
  },
  {
   "cell_type": "code",
   "execution_count": 56,
   "metadata": {},
   "outputs": [],
   "source": [
    "vocab_size = 60305    \n",
    "max_len = 1000\n",
    "n_segments = 2\n",
    "d_model = 768\n",
    "device = torch.device(\"cuda\" if torch.cuda.is_available() else \"cpu\")"
   ]
  },
  {
   "cell_type": "code",
   "execution_count": 57,
   "metadata": {},
   "outputs": [],
   "source": [
    "n_layers = 12    # number of Encoder of Encoder Layer\n",
    "n_heads  = 12    # number of heads in Multi-Head Attention\n",
    "d_model  = 768  # Embedding Size\n",
    "d_ff = d_model * 4  # 4*d_model, FeedForward dimension\n",
    "d_k = d_v = 64  # dimension of K(=Q), V\n",
    "n_segments = 2\n",
    "\n",
    "num_epoch = 1000"
   ]
  },
  {
   "cell_type": "code",
   "execution_count": 58,
   "metadata": {},
   "outputs": [],
   "source": [
    "import torch\n",
    "import torch.nn as nn\n",
    "from transformers import BertModel"
   ]
  },
  {
   "cell_type": "code",
   "execution_count": 59,
   "metadata": {},
   "outputs": [],
   "source": [
    "# Initialize the model using these hyperparameters\n",
    "model = BERT(\n",
    "    n_layers, \n",
    "    n_heads, \n",
    "    d_model, \n",
    "    d_ff, \n",
    "    d_k, \n",
    "    n_segments, \n",
    "    vocab_size, \n",
    "    max_len, \n",
    "    device\n",
    ").to(device)  # Move model to GPU"
   ]
  },
  {
   "cell_type": "code",
   "execution_count": 61,
   "metadata": {},
   "outputs": [
    {
     "name": "stdout",
     "output_type": "stream",
     "text": [
      "Model loaded successfully!\n"
     ]
    }
   ],
   "source": [
    "# Load the state dictionary from file\n",
    "state_dict = torch.load(\"bert_model.pth\", map_location=device)\n",
    "\n",
    "# Load the state dict into the model\n",
    "model.load_state_dict(state_dict)\n",
    "\n",
    "# Set the model to evaluation mode (if needed)\n",
    "model.eval()\n",
    "\n",
    "print(\"Model loaded successfully!\")"
   ]
  },
  {
   "cell_type": "code",
   "execution_count": 62,
   "metadata": {},
   "outputs": [
    {
     "name": "stdout",
     "output_type": "stream",
     "text": [
      "decoder_bias: torch.Size([60305])\n",
      "embedding.tok_embed.weight: torch.Size([60305, 768])\n",
      "embedding.pos_embed.weight: torch.Size([1000, 768])\n",
      "embedding.seg_embed.weight: torch.Size([2, 768])\n",
      "embedding.norm.weight: torch.Size([768])\n",
      "embedding.norm.bias: torch.Size([768])\n",
      "layers.0.enc_self_attn.W_Q.weight: torch.Size([768, 768])\n",
      "layers.0.enc_self_attn.W_Q.bias: torch.Size([768])\n",
      "layers.0.enc_self_attn.W_K.weight: torch.Size([768, 768])\n",
      "layers.0.enc_self_attn.W_K.bias: torch.Size([768])\n",
      "layers.0.enc_self_attn.W_V.weight: torch.Size([768, 768])\n",
      "layers.0.enc_self_attn.W_V.bias: torch.Size([768])\n",
      "layers.0.pos_ffn.fc1.weight: torch.Size([3072, 768])\n",
      "layers.0.pos_ffn.fc1.bias: torch.Size([3072])\n",
      "layers.0.pos_ffn.fc2.weight: torch.Size([768, 3072])\n",
      "layers.0.pos_ffn.fc2.bias: torch.Size([768])\n",
      "layers.1.enc_self_attn.W_Q.weight: torch.Size([768, 768])\n",
      "layers.1.enc_self_attn.W_Q.bias: torch.Size([768])\n",
      "layers.1.enc_self_attn.W_K.weight: torch.Size([768, 768])\n",
      "layers.1.enc_self_attn.W_K.bias: torch.Size([768])\n",
      "layers.1.enc_self_attn.W_V.weight: torch.Size([768, 768])\n",
      "layers.1.enc_self_attn.W_V.bias: torch.Size([768])\n",
      "layers.1.pos_ffn.fc1.weight: torch.Size([3072, 768])\n",
      "layers.1.pos_ffn.fc1.bias: torch.Size([3072])\n",
      "layers.1.pos_ffn.fc2.weight: torch.Size([768, 3072])\n",
      "layers.1.pos_ffn.fc2.bias: torch.Size([768])\n",
      "layers.2.enc_self_attn.W_Q.weight: torch.Size([768, 768])\n",
      "layers.2.enc_self_attn.W_Q.bias: torch.Size([768])\n",
      "layers.2.enc_self_attn.W_K.weight: torch.Size([768, 768])\n",
      "layers.2.enc_self_attn.W_K.bias: torch.Size([768])\n",
      "layers.2.enc_self_attn.W_V.weight: torch.Size([768, 768])\n",
      "layers.2.enc_self_attn.W_V.bias: torch.Size([768])\n",
      "layers.2.pos_ffn.fc1.weight: torch.Size([3072, 768])\n",
      "layers.2.pos_ffn.fc1.bias: torch.Size([3072])\n",
      "layers.2.pos_ffn.fc2.weight: torch.Size([768, 3072])\n",
      "layers.2.pos_ffn.fc2.bias: torch.Size([768])\n",
      "layers.3.enc_self_attn.W_Q.weight: torch.Size([768, 768])\n",
      "layers.3.enc_self_attn.W_Q.bias: torch.Size([768])\n",
      "layers.3.enc_self_attn.W_K.weight: torch.Size([768, 768])\n",
      "layers.3.enc_self_attn.W_K.bias: torch.Size([768])\n",
      "layers.3.enc_self_attn.W_V.weight: torch.Size([768, 768])\n",
      "layers.3.enc_self_attn.W_V.bias: torch.Size([768])\n",
      "layers.3.pos_ffn.fc1.weight: torch.Size([3072, 768])\n",
      "layers.3.pos_ffn.fc1.bias: torch.Size([3072])\n",
      "layers.3.pos_ffn.fc2.weight: torch.Size([768, 3072])\n",
      "layers.3.pos_ffn.fc2.bias: torch.Size([768])\n",
      "layers.4.enc_self_attn.W_Q.weight: torch.Size([768, 768])\n",
      "layers.4.enc_self_attn.W_Q.bias: torch.Size([768])\n",
      "layers.4.enc_self_attn.W_K.weight: torch.Size([768, 768])\n",
      "layers.4.enc_self_attn.W_K.bias: torch.Size([768])\n",
      "layers.4.enc_self_attn.W_V.weight: torch.Size([768, 768])\n",
      "layers.4.enc_self_attn.W_V.bias: torch.Size([768])\n",
      "layers.4.pos_ffn.fc1.weight: torch.Size([3072, 768])\n",
      "layers.4.pos_ffn.fc1.bias: torch.Size([3072])\n",
      "layers.4.pos_ffn.fc2.weight: torch.Size([768, 3072])\n",
      "layers.4.pos_ffn.fc2.bias: torch.Size([768])\n",
      "layers.5.enc_self_attn.W_Q.weight: torch.Size([768, 768])\n",
      "layers.5.enc_self_attn.W_Q.bias: torch.Size([768])\n",
      "layers.5.enc_self_attn.W_K.weight: torch.Size([768, 768])\n",
      "layers.5.enc_self_attn.W_K.bias: torch.Size([768])\n",
      "layers.5.enc_self_attn.W_V.weight: torch.Size([768, 768])\n",
      "layers.5.enc_self_attn.W_V.bias: torch.Size([768])\n",
      "layers.5.pos_ffn.fc1.weight: torch.Size([3072, 768])\n",
      "layers.5.pos_ffn.fc1.bias: torch.Size([3072])\n",
      "layers.5.pos_ffn.fc2.weight: torch.Size([768, 3072])\n",
      "layers.5.pos_ffn.fc2.bias: torch.Size([768])\n",
      "layers.6.enc_self_attn.W_Q.weight: torch.Size([768, 768])\n",
      "layers.6.enc_self_attn.W_Q.bias: torch.Size([768])\n",
      "layers.6.enc_self_attn.W_K.weight: torch.Size([768, 768])\n",
      "layers.6.enc_self_attn.W_K.bias: torch.Size([768])\n",
      "layers.6.enc_self_attn.W_V.weight: torch.Size([768, 768])\n",
      "layers.6.enc_self_attn.W_V.bias: torch.Size([768])\n",
      "layers.6.pos_ffn.fc1.weight: torch.Size([3072, 768])\n",
      "layers.6.pos_ffn.fc1.bias: torch.Size([3072])\n",
      "layers.6.pos_ffn.fc2.weight: torch.Size([768, 3072])\n",
      "layers.6.pos_ffn.fc2.bias: torch.Size([768])\n",
      "layers.7.enc_self_attn.W_Q.weight: torch.Size([768, 768])\n",
      "layers.7.enc_self_attn.W_Q.bias: torch.Size([768])\n",
      "layers.7.enc_self_attn.W_K.weight: torch.Size([768, 768])\n",
      "layers.7.enc_self_attn.W_K.bias: torch.Size([768])\n",
      "layers.7.enc_self_attn.W_V.weight: torch.Size([768, 768])\n",
      "layers.7.enc_self_attn.W_V.bias: torch.Size([768])\n",
      "layers.7.pos_ffn.fc1.weight: torch.Size([3072, 768])\n",
      "layers.7.pos_ffn.fc1.bias: torch.Size([3072])\n",
      "layers.7.pos_ffn.fc2.weight: torch.Size([768, 3072])\n",
      "layers.7.pos_ffn.fc2.bias: torch.Size([768])\n",
      "layers.8.enc_self_attn.W_Q.weight: torch.Size([768, 768])\n",
      "layers.8.enc_self_attn.W_Q.bias: torch.Size([768])\n",
      "layers.8.enc_self_attn.W_K.weight: torch.Size([768, 768])\n",
      "layers.8.enc_self_attn.W_K.bias: torch.Size([768])\n",
      "layers.8.enc_self_attn.W_V.weight: torch.Size([768, 768])\n",
      "layers.8.enc_self_attn.W_V.bias: torch.Size([768])\n",
      "layers.8.pos_ffn.fc1.weight: torch.Size([3072, 768])\n",
      "layers.8.pos_ffn.fc1.bias: torch.Size([3072])\n",
      "layers.8.pos_ffn.fc2.weight: torch.Size([768, 3072])\n",
      "layers.8.pos_ffn.fc2.bias: torch.Size([768])\n",
      "layers.9.enc_self_attn.W_Q.weight: torch.Size([768, 768])\n",
      "layers.9.enc_self_attn.W_Q.bias: torch.Size([768])\n",
      "layers.9.enc_self_attn.W_K.weight: torch.Size([768, 768])\n",
      "layers.9.enc_self_attn.W_K.bias: torch.Size([768])\n",
      "layers.9.enc_self_attn.W_V.weight: torch.Size([768, 768])\n",
      "layers.9.enc_self_attn.W_V.bias: torch.Size([768])\n",
      "layers.9.pos_ffn.fc1.weight: torch.Size([3072, 768])\n",
      "layers.9.pos_ffn.fc1.bias: torch.Size([3072])\n",
      "layers.9.pos_ffn.fc2.weight: torch.Size([768, 3072])\n",
      "layers.9.pos_ffn.fc2.bias: torch.Size([768])\n",
      "layers.10.enc_self_attn.W_Q.weight: torch.Size([768, 768])\n",
      "layers.10.enc_self_attn.W_Q.bias: torch.Size([768])\n",
      "layers.10.enc_self_attn.W_K.weight: torch.Size([768, 768])\n",
      "layers.10.enc_self_attn.W_K.bias: torch.Size([768])\n",
      "layers.10.enc_self_attn.W_V.weight: torch.Size([768, 768])\n",
      "layers.10.enc_self_attn.W_V.bias: torch.Size([768])\n",
      "layers.10.pos_ffn.fc1.weight: torch.Size([3072, 768])\n",
      "layers.10.pos_ffn.fc1.bias: torch.Size([3072])\n",
      "layers.10.pos_ffn.fc2.weight: torch.Size([768, 3072])\n",
      "layers.10.pos_ffn.fc2.bias: torch.Size([768])\n",
      "layers.11.enc_self_attn.W_Q.weight: torch.Size([768, 768])\n",
      "layers.11.enc_self_attn.W_Q.bias: torch.Size([768])\n",
      "layers.11.enc_self_attn.W_K.weight: torch.Size([768, 768])\n",
      "layers.11.enc_self_attn.W_K.bias: torch.Size([768])\n",
      "layers.11.enc_self_attn.W_V.weight: torch.Size([768, 768])\n",
      "layers.11.enc_self_attn.W_V.bias: torch.Size([768])\n",
      "layers.11.pos_ffn.fc1.weight: torch.Size([3072, 768])\n",
      "layers.11.pos_ffn.fc1.bias: torch.Size([3072])\n",
      "layers.11.pos_ffn.fc2.weight: torch.Size([768, 3072])\n",
      "layers.11.pos_ffn.fc2.bias: torch.Size([768])\n",
      "fc.weight: torch.Size([768, 768])\n",
      "fc.bias: torch.Size([768])\n",
      "linear.weight: torch.Size([768, 768])\n",
      "linear.bias: torch.Size([768])\n",
      "norm.weight: torch.Size([768])\n",
      "norm.bias: torch.Size([768])\n",
      "classifier.weight: torch.Size([2, 768])\n",
      "classifier.bias: torch.Size([2])\n"
     ]
    }
   ],
   "source": [
    "# Assuming 'model' is your pretrained model\n",
    "for name, param in model.named_parameters():\n",
    "    print(f\"{name}: {param.size()}\")"
   ]
  },
  {
   "cell_type": "code",
   "execution_count": 63,
   "metadata": {},
   "outputs": [
    {
     "name": "stdout",
     "output_type": "stream",
     "text": [
      "Configuration: {'vocab_size': 60305, 'max_len': 1000, 'n_segments': 2, 'd_model': 768, 'n_layers': 12, 'n_heads': 12, 'd_ff': 3072, 'd_k': 64, 'num_epoch': 1000}\n"
     ]
    }
   ],
   "source": [
    "import json\n",
    "\n",
    "with open(\"config.json\", \"r\") as f:\n",
    "    config = json.load(f)\n",
    "\n",
    "print(\"Configuration:\", config)"
   ]
  },
  {
   "cell_type": "code",
   "execution_count": 67,
   "metadata": {},
   "outputs": [],
   "source": [
    "from transformers import BertConfig, BertModel, BertTokenizer, BertForPreTraining\n",
    "\n",
    "# Create a configuration using the dimensions from your printed parameters\n",
    "config = BertConfig(\n",
    "    vocab_size=60305,                 # from embedding.tok_embed.weight shape\n",
    "    hidden_size=768,                  # from most parameters (e.g., attention weights)\n",
    "    num_hidden_layers=12,             # layers.0 to layers.11\n",
    "    num_attention_heads=12,           # typically 768 / 64 = 12 heads\n",
    "    intermediate_size=3072,           # from fc1 and fc2 shapes (3072)\n",
    "    max_position_embeddings=1000,     # from embedding.pos_embed.weight shape\n",
    "    type_vocab_size=2                 # from embedding.seg_embed.weight shape\n",
    ")\n",
    "\n",
    "# Instantiate the model with the custom configuration\n",
    "model = BertModel(config)\n",
    "\n",
    "# (Optionally) load your custom vocabulary file into a tokenizer.\n",
    "# If you don't have a pre-built vocab.txt, you'll need to create one.\n",
    "tokenizer = BertTokenizer.from_pretrained(\"bert-base-uncased\")\n",
    "# Alternatively, if you have your own vocab file:\n",
    "# tokenizer = BertTokenizer(vocab_file=\"path/to/vocab.txt\")\n"
   ]
  },
  {
   "cell_type": "code",
   "execution_count": 68,
   "metadata": {},
   "outputs": [
    {
     "name": "stdout",
     "output_type": "stream",
     "text": [
      "BertConfig {\n",
      "  \"_attn_implementation_autoset\": true,\n",
      "  \"attention_probs_dropout_prob\": 0.1,\n",
      "  \"classifier_dropout\": null,\n",
      "  \"hidden_act\": \"gelu\",\n",
      "  \"hidden_dropout_prob\": 0.1,\n",
      "  \"hidden_size\": 768,\n",
      "  \"initializer_range\": 0.02,\n",
      "  \"intermediate_size\": 3072,\n",
      "  \"layer_norm_eps\": 1e-12,\n",
      "  \"max_position_embeddings\": 1000,\n",
      "  \"model_type\": \"bert\",\n",
      "  \"num_attention_heads\": 12,\n",
      "  \"num_hidden_layers\": 12,\n",
      "  \"pad_token_id\": 0,\n",
      "  \"position_embedding_type\": \"absolute\",\n",
      "  \"transformers_version\": \"4.49.0\",\n",
      "  \"type_vocab_size\": 2,\n",
      "  \"use_cache\": true,\n",
      "  \"vocab_size\": 60305\n",
      "}\n",
      "\n"
     ]
    }
   ],
   "source": [
    "print(model.config)"
   ]
  },
  {
   "cell_type": "code",
   "execution_count": 85,
   "metadata": {},
   "outputs": [
    {
     "name": "stdout",
     "output_type": "stream",
     "text": [
      "Custom weights loaded into Hugging Face BertModel.\n"
     ]
    }
   ],
   "source": [
    "import torch\n",
    "from transformers import BertConfig, BertModel\n",
    "\n",
    "# Load your custom state dict\n",
    "custom_state = torch.load(\"bert_model.pth\", map_location=\"cpu\")\n",
    "new_state = {}\n",
    "\n",
    "# Remap the embedding layers:\n",
    "new_state[\"embeddings.word_embeddings.weight\"] = custom_state[\"embedding.tok_embed.weight\"]\n",
    "new_state[\"embeddings.position_embeddings.weight\"] = custom_state[\"embedding.pos_embed.weight\"]\n",
    "new_state[\"embeddings.token_type_embeddings.weight\"] = custom_state[\"embedding.seg_embed.weight\"]\n",
    "new_state[\"embeddings.LayerNorm.weight\"] = custom_state[\"embedding.norm.weight\"]\n",
    "new_state[\"embeddings.LayerNorm.bias\"] = custom_state[\"embedding.norm.bias\"]\n",
    "\n",
    "# Loop over the 12 transformer layers:\n",
    "for layer in range(12):\n",
    "    prefix_custom = f\"layers.{layer}\"\n",
    "    prefix_hf = f\"encoder.layer.{layer}\"\n",
    "    \n",
    "    # Map self-attention weights:\n",
    "    new_state[f\"{prefix_hf}.attention.self.query.weight\"] = custom_state[f\"{prefix_custom}.enc_self_attn.W_Q.weight\"]\n",
    "    new_state[f\"{prefix_hf}.attention.self.query.bias\"]   = custom_state[f\"{prefix_custom}.enc_self_attn.W_Q.bias\"]\n",
    "    new_state[f\"{prefix_hf}.attention.self.key.weight\"]   = custom_state[f\"{prefix_custom}.enc_self_attn.W_K.weight\"]\n",
    "    new_state[f\"{prefix_hf}.attention.self.key.bias\"]     = custom_state[f\"{prefix_custom}.enc_self_attn.W_K.bias\"]\n",
    "    new_state[f\"{prefix_hf}.attention.self.value.weight\"] = custom_state[f\"{prefix_custom}.enc_self_attn.W_V.weight\"]\n",
    "    new_state[f\"{prefix_hf}.attention.self.value.bias\"]   = custom_state[f\"{prefix_custom}.enc_self_attn.W_V.bias\"]\n",
    "    \n",
    "    # Do NOT map the attention output dense layer here.\n",
    "    # Let the Hugging Face model initialize these parameters.\n",
    "    \n",
    "    # Map the feed-forward (FFN) block:\n",
    "    new_state[f\"{prefix_hf}.intermediate.dense.weight\"] = custom_state[f\"{prefix_custom}.pos_ffn.fc1.weight\"]\n",
    "    new_state[f\"{prefix_hf}.intermediate.dense.bias\"]   = custom_state[f\"{prefix_custom}.pos_ffn.fc1.bias\"]\n",
    "    \n",
    "    new_state[f\"{prefix_hf}.output.dense.weight\"] = custom_state[f\"{prefix_custom}.pos_ffn.fc2.weight\"]\n",
    "    new_state[f\"{prefix_hf}.output.dense.bias\"]   = custom_state[f\"{prefix_custom}.pos_ffn.fc2.bias\"]\n",
    "    \n",
    "    # Map layer norms (using the global norm from the checkpoint)\n",
    "    new_state[f\"{prefix_hf}.attention.output.LayerNorm.weight\"] = custom_state[\"embedding.norm.weight\"]\n",
    "    new_state[f\"{prefix_hf}.attention.output.LayerNorm.bias\"]   = custom_state[\"embedding.norm.bias\"]\n",
    "    new_state[f\"{prefix_hf}.output.LayerNorm.weight\"]           = custom_state[\"embedding.norm.weight\"]\n",
    "    new_state[f\"{prefix_hf}.output.LayerNorm.bias\"]             = custom_state[\"embedding.norm.bias\"]\n",
    "\n",
    "# Create a configuration matching your parameters:\n",
    "config = BertConfig(\n",
    "    vocab_size=60305,\n",
    "    hidden_size=768,\n",
    "    num_hidden_layers=12,\n",
    "    num_attention_heads=12,\n",
    "    intermediate_size=3072,\n",
    "    max_position_embeddings=1000,\n",
    "    type_vocab_size=2\n",
    ")\n",
    "\n",
    "# Instantiate the Hugging Face model:\n",
    "model = BertModel(config)\n",
    "\n",
    "# Load the remapped state dict.\n",
    "# The attention output dense weights will remain as their default initialization.\n",
    "model.load_state_dict(new_state, strict=False)\n",
    "print(\"Custom weights loaded into Hugging Face BertModel.\")"
   ]
  },
  {
   "cell_type": "code",
   "execution_count": 86,
   "metadata": {},
   "outputs": [
    {
     "name": "stdout",
     "output_type": "stream",
     "text": [
      "Model saved to gg_bert_model.pth\n"
     ]
    }
   ],
   "source": [
    "# Save the model after training\n",
    "torch.save(model.state_dict(), 'gg_bert_model.pth')\n",
    "print(\"Model saved to gg_bert_model.pth\")"
   ]
  },
  {
   "cell_type": "code",
   "execution_count": 88,
   "metadata": {},
   "outputs": [
    {
     "data": {
      "text/plain": [
       "BertModel(\n",
       "  (embeddings): BertEmbeddings(\n",
       "    (word_embeddings): Embedding(60305, 768, padding_idx=0)\n",
       "    (position_embeddings): Embedding(1000, 768)\n",
       "    (token_type_embeddings): Embedding(2, 768)\n",
       "    (LayerNorm): LayerNorm((768,), eps=1e-12, elementwise_affine=True)\n",
       "    (dropout): Dropout(p=0.1, inplace=False)\n",
       "  )\n",
       "  (encoder): BertEncoder(\n",
       "    (layer): ModuleList(\n",
       "      (0-11): 12 x BertLayer(\n",
       "        (attention): BertAttention(\n",
       "          (self): BertSdpaSelfAttention(\n",
       "            (query): Linear(in_features=768, out_features=768, bias=True)\n",
       "            (key): Linear(in_features=768, out_features=768, bias=True)\n",
       "            (value): Linear(in_features=768, out_features=768, bias=True)\n",
       "            (dropout): Dropout(p=0.1, inplace=False)\n",
       "          )\n",
       "          (output): BertSelfOutput(\n",
       "            (dense): Linear(in_features=768, out_features=768, bias=True)\n",
       "            (LayerNorm): LayerNorm((768,), eps=1e-12, elementwise_affine=True)\n",
       "            (dropout): Dropout(p=0.1, inplace=False)\n",
       "          )\n",
       "        )\n",
       "        (intermediate): BertIntermediate(\n",
       "          (dense): Linear(in_features=768, out_features=3072, bias=True)\n",
       "          (intermediate_act_fn): GELUActivation()\n",
       "        )\n",
       "        (output): BertOutput(\n",
       "          (dense): Linear(in_features=3072, out_features=768, bias=True)\n",
       "          (LayerNorm): LayerNorm((768,), eps=1e-12, elementwise_affine=True)\n",
       "          (dropout): Dropout(p=0.1, inplace=False)\n",
       "        )\n",
       "      )\n",
       "    )\n",
       "  )\n",
       "  (pooler): BertPooler(\n",
       "    (dense): Linear(in_features=768, out_features=768, bias=True)\n",
       "    (activation): Tanh()\n",
       "  )\n",
       ")"
      ]
     },
     "execution_count": 88,
     "metadata": {},
     "output_type": "execute_result"
    }
   ],
   "source": [
    "model.to(device)"
   ]
  },
  {
   "cell_type": "code",
   "execution_count": 89,
   "metadata": {},
   "outputs": [
    {
     "name": "stdout",
     "output_type": "stream",
     "text": [
      "embeddings.word_embeddings.weight: torch.Size([60305, 768])\n",
      "embeddings.position_embeddings.weight: torch.Size([1000, 768])\n",
      "embeddings.token_type_embeddings.weight: torch.Size([2, 768])\n",
      "embeddings.LayerNorm.weight: torch.Size([768])\n",
      "embeddings.LayerNorm.bias: torch.Size([768])\n",
      "encoder.layer.0.attention.self.query.weight: torch.Size([768, 768])\n",
      "encoder.layer.0.attention.self.query.bias: torch.Size([768])\n",
      "encoder.layer.0.attention.self.key.weight: torch.Size([768, 768])\n",
      "encoder.layer.0.attention.self.key.bias: torch.Size([768])\n",
      "encoder.layer.0.attention.self.value.weight: torch.Size([768, 768])\n",
      "encoder.layer.0.attention.self.value.bias: torch.Size([768])\n",
      "encoder.layer.0.attention.output.dense.weight: torch.Size([768, 768])\n",
      "encoder.layer.0.attention.output.dense.bias: torch.Size([768])\n",
      "encoder.layer.0.attention.output.LayerNorm.weight: torch.Size([768])\n",
      "encoder.layer.0.attention.output.LayerNorm.bias: torch.Size([768])\n",
      "encoder.layer.0.intermediate.dense.weight: torch.Size([3072, 768])\n",
      "encoder.layer.0.intermediate.dense.bias: torch.Size([3072])\n",
      "encoder.layer.0.output.dense.weight: torch.Size([768, 3072])\n",
      "encoder.layer.0.output.dense.bias: torch.Size([768])\n",
      "encoder.layer.0.output.LayerNorm.weight: torch.Size([768])\n",
      "encoder.layer.0.output.LayerNorm.bias: torch.Size([768])\n",
      "encoder.layer.1.attention.self.query.weight: torch.Size([768, 768])\n",
      "encoder.layer.1.attention.self.query.bias: torch.Size([768])\n",
      "encoder.layer.1.attention.self.key.weight: torch.Size([768, 768])\n",
      "encoder.layer.1.attention.self.key.bias: torch.Size([768])\n",
      "encoder.layer.1.attention.self.value.weight: torch.Size([768, 768])\n",
      "encoder.layer.1.attention.self.value.bias: torch.Size([768])\n",
      "encoder.layer.1.attention.output.dense.weight: torch.Size([768, 768])\n",
      "encoder.layer.1.attention.output.dense.bias: torch.Size([768])\n",
      "encoder.layer.1.attention.output.LayerNorm.weight: torch.Size([768])\n",
      "encoder.layer.1.attention.output.LayerNorm.bias: torch.Size([768])\n",
      "encoder.layer.1.intermediate.dense.weight: torch.Size([3072, 768])\n",
      "encoder.layer.1.intermediate.dense.bias: torch.Size([3072])\n",
      "encoder.layer.1.output.dense.weight: torch.Size([768, 3072])\n",
      "encoder.layer.1.output.dense.bias: torch.Size([768])\n",
      "encoder.layer.1.output.LayerNorm.weight: torch.Size([768])\n",
      "encoder.layer.1.output.LayerNorm.bias: torch.Size([768])\n",
      "encoder.layer.2.attention.self.query.weight: torch.Size([768, 768])\n",
      "encoder.layer.2.attention.self.query.bias: torch.Size([768])\n",
      "encoder.layer.2.attention.self.key.weight: torch.Size([768, 768])\n",
      "encoder.layer.2.attention.self.key.bias: torch.Size([768])\n",
      "encoder.layer.2.attention.self.value.weight: torch.Size([768, 768])\n",
      "encoder.layer.2.attention.self.value.bias: torch.Size([768])\n",
      "encoder.layer.2.attention.output.dense.weight: torch.Size([768, 768])\n",
      "encoder.layer.2.attention.output.dense.bias: torch.Size([768])\n",
      "encoder.layer.2.attention.output.LayerNorm.weight: torch.Size([768])\n",
      "encoder.layer.2.attention.output.LayerNorm.bias: torch.Size([768])\n",
      "encoder.layer.2.intermediate.dense.weight: torch.Size([3072, 768])\n",
      "encoder.layer.2.intermediate.dense.bias: torch.Size([3072])\n",
      "encoder.layer.2.output.dense.weight: torch.Size([768, 3072])\n",
      "encoder.layer.2.output.dense.bias: torch.Size([768])\n",
      "encoder.layer.2.output.LayerNorm.weight: torch.Size([768])\n",
      "encoder.layer.2.output.LayerNorm.bias: torch.Size([768])\n",
      "encoder.layer.3.attention.self.query.weight: torch.Size([768, 768])\n",
      "encoder.layer.3.attention.self.query.bias: torch.Size([768])\n",
      "encoder.layer.3.attention.self.key.weight: torch.Size([768, 768])\n",
      "encoder.layer.3.attention.self.key.bias: torch.Size([768])\n",
      "encoder.layer.3.attention.self.value.weight: torch.Size([768, 768])\n",
      "encoder.layer.3.attention.self.value.bias: torch.Size([768])\n",
      "encoder.layer.3.attention.output.dense.weight: torch.Size([768, 768])\n",
      "encoder.layer.3.attention.output.dense.bias: torch.Size([768])\n",
      "encoder.layer.3.attention.output.LayerNorm.weight: torch.Size([768])\n",
      "encoder.layer.3.attention.output.LayerNorm.bias: torch.Size([768])\n",
      "encoder.layer.3.intermediate.dense.weight: torch.Size([3072, 768])\n",
      "encoder.layer.3.intermediate.dense.bias: torch.Size([3072])\n",
      "encoder.layer.3.output.dense.weight: torch.Size([768, 3072])\n",
      "encoder.layer.3.output.dense.bias: torch.Size([768])\n",
      "encoder.layer.3.output.LayerNorm.weight: torch.Size([768])\n",
      "encoder.layer.3.output.LayerNorm.bias: torch.Size([768])\n",
      "encoder.layer.4.attention.self.query.weight: torch.Size([768, 768])\n",
      "encoder.layer.4.attention.self.query.bias: torch.Size([768])\n",
      "encoder.layer.4.attention.self.key.weight: torch.Size([768, 768])\n",
      "encoder.layer.4.attention.self.key.bias: torch.Size([768])\n",
      "encoder.layer.4.attention.self.value.weight: torch.Size([768, 768])\n",
      "encoder.layer.4.attention.self.value.bias: torch.Size([768])\n",
      "encoder.layer.4.attention.output.dense.weight: torch.Size([768, 768])\n",
      "encoder.layer.4.attention.output.dense.bias: torch.Size([768])\n",
      "encoder.layer.4.attention.output.LayerNorm.weight: torch.Size([768])\n",
      "encoder.layer.4.attention.output.LayerNorm.bias: torch.Size([768])\n",
      "encoder.layer.4.intermediate.dense.weight: torch.Size([3072, 768])\n",
      "encoder.layer.4.intermediate.dense.bias: torch.Size([3072])\n",
      "encoder.layer.4.output.dense.weight: torch.Size([768, 3072])\n",
      "encoder.layer.4.output.dense.bias: torch.Size([768])\n",
      "encoder.layer.4.output.LayerNorm.weight: torch.Size([768])\n",
      "encoder.layer.4.output.LayerNorm.bias: torch.Size([768])\n",
      "encoder.layer.5.attention.self.query.weight: torch.Size([768, 768])\n",
      "encoder.layer.5.attention.self.query.bias: torch.Size([768])\n",
      "encoder.layer.5.attention.self.key.weight: torch.Size([768, 768])\n",
      "encoder.layer.5.attention.self.key.bias: torch.Size([768])\n",
      "encoder.layer.5.attention.self.value.weight: torch.Size([768, 768])\n",
      "encoder.layer.5.attention.self.value.bias: torch.Size([768])\n",
      "encoder.layer.5.attention.output.dense.weight: torch.Size([768, 768])\n",
      "encoder.layer.5.attention.output.dense.bias: torch.Size([768])\n",
      "encoder.layer.5.attention.output.LayerNorm.weight: torch.Size([768])\n",
      "encoder.layer.5.attention.output.LayerNorm.bias: torch.Size([768])\n",
      "encoder.layer.5.intermediate.dense.weight: torch.Size([3072, 768])\n",
      "encoder.layer.5.intermediate.dense.bias: torch.Size([3072])\n",
      "encoder.layer.5.output.dense.weight: torch.Size([768, 3072])\n",
      "encoder.layer.5.output.dense.bias: torch.Size([768])\n",
      "encoder.layer.5.output.LayerNorm.weight: torch.Size([768])\n",
      "encoder.layer.5.output.LayerNorm.bias: torch.Size([768])\n",
      "encoder.layer.6.attention.self.query.weight: torch.Size([768, 768])\n",
      "encoder.layer.6.attention.self.query.bias: torch.Size([768])\n",
      "encoder.layer.6.attention.self.key.weight: torch.Size([768, 768])\n",
      "encoder.layer.6.attention.self.key.bias: torch.Size([768])\n",
      "encoder.layer.6.attention.self.value.weight: torch.Size([768, 768])\n",
      "encoder.layer.6.attention.self.value.bias: torch.Size([768])\n",
      "encoder.layer.6.attention.output.dense.weight: torch.Size([768, 768])\n",
      "encoder.layer.6.attention.output.dense.bias: torch.Size([768])\n",
      "encoder.layer.6.attention.output.LayerNorm.weight: torch.Size([768])\n",
      "encoder.layer.6.attention.output.LayerNorm.bias: torch.Size([768])\n",
      "encoder.layer.6.intermediate.dense.weight: torch.Size([3072, 768])\n",
      "encoder.layer.6.intermediate.dense.bias: torch.Size([3072])\n",
      "encoder.layer.6.output.dense.weight: torch.Size([768, 3072])\n",
      "encoder.layer.6.output.dense.bias: torch.Size([768])\n",
      "encoder.layer.6.output.LayerNorm.weight: torch.Size([768])\n",
      "encoder.layer.6.output.LayerNorm.bias: torch.Size([768])\n",
      "encoder.layer.7.attention.self.query.weight: torch.Size([768, 768])\n",
      "encoder.layer.7.attention.self.query.bias: torch.Size([768])\n",
      "encoder.layer.7.attention.self.key.weight: torch.Size([768, 768])\n",
      "encoder.layer.7.attention.self.key.bias: torch.Size([768])\n",
      "encoder.layer.7.attention.self.value.weight: torch.Size([768, 768])\n",
      "encoder.layer.7.attention.self.value.bias: torch.Size([768])\n",
      "encoder.layer.7.attention.output.dense.weight: torch.Size([768, 768])\n",
      "encoder.layer.7.attention.output.dense.bias: torch.Size([768])\n",
      "encoder.layer.7.attention.output.LayerNorm.weight: torch.Size([768])\n",
      "encoder.layer.7.attention.output.LayerNorm.bias: torch.Size([768])\n",
      "encoder.layer.7.intermediate.dense.weight: torch.Size([3072, 768])\n",
      "encoder.layer.7.intermediate.dense.bias: torch.Size([3072])\n",
      "encoder.layer.7.output.dense.weight: torch.Size([768, 3072])\n",
      "encoder.layer.7.output.dense.bias: torch.Size([768])\n",
      "encoder.layer.7.output.LayerNorm.weight: torch.Size([768])\n",
      "encoder.layer.7.output.LayerNorm.bias: torch.Size([768])\n",
      "encoder.layer.8.attention.self.query.weight: torch.Size([768, 768])\n",
      "encoder.layer.8.attention.self.query.bias: torch.Size([768])\n",
      "encoder.layer.8.attention.self.key.weight: torch.Size([768, 768])\n",
      "encoder.layer.8.attention.self.key.bias: torch.Size([768])\n",
      "encoder.layer.8.attention.self.value.weight: torch.Size([768, 768])\n",
      "encoder.layer.8.attention.self.value.bias: torch.Size([768])\n",
      "encoder.layer.8.attention.output.dense.weight: torch.Size([768, 768])\n",
      "encoder.layer.8.attention.output.dense.bias: torch.Size([768])\n",
      "encoder.layer.8.attention.output.LayerNorm.weight: torch.Size([768])\n",
      "encoder.layer.8.attention.output.LayerNorm.bias: torch.Size([768])\n",
      "encoder.layer.8.intermediate.dense.weight: torch.Size([3072, 768])\n",
      "encoder.layer.8.intermediate.dense.bias: torch.Size([3072])\n",
      "encoder.layer.8.output.dense.weight: torch.Size([768, 3072])\n",
      "encoder.layer.8.output.dense.bias: torch.Size([768])\n",
      "encoder.layer.8.output.LayerNorm.weight: torch.Size([768])\n",
      "encoder.layer.8.output.LayerNorm.bias: torch.Size([768])\n",
      "encoder.layer.9.attention.self.query.weight: torch.Size([768, 768])\n",
      "encoder.layer.9.attention.self.query.bias: torch.Size([768])\n",
      "encoder.layer.9.attention.self.key.weight: torch.Size([768, 768])\n",
      "encoder.layer.9.attention.self.key.bias: torch.Size([768])\n",
      "encoder.layer.9.attention.self.value.weight: torch.Size([768, 768])\n",
      "encoder.layer.9.attention.self.value.bias: torch.Size([768])\n",
      "encoder.layer.9.attention.output.dense.weight: torch.Size([768, 768])\n",
      "encoder.layer.9.attention.output.dense.bias: torch.Size([768])\n",
      "encoder.layer.9.attention.output.LayerNorm.weight: torch.Size([768])\n",
      "encoder.layer.9.attention.output.LayerNorm.bias: torch.Size([768])\n",
      "encoder.layer.9.intermediate.dense.weight: torch.Size([3072, 768])\n",
      "encoder.layer.9.intermediate.dense.bias: torch.Size([3072])\n",
      "encoder.layer.9.output.dense.weight: torch.Size([768, 3072])\n",
      "encoder.layer.9.output.dense.bias: torch.Size([768])\n",
      "encoder.layer.9.output.LayerNorm.weight: torch.Size([768])\n",
      "encoder.layer.9.output.LayerNorm.bias: torch.Size([768])\n",
      "encoder.layer.10.attention.self.query.weight: torch.Size([768, 768])\n",
      "encoder.layer.10.attention.self.query.bias: torch.Size([768])\n",
      "encoder.layer.10.attention.self.key.weight: torch.Size([768, 768])\n",
      "encoder.layer.10.attention.self.key.bias: torch.Size([768])\n",
      "encoder.layer.10.attention.self.value.weight: torch.Size([768, 768])\n",
      "encoder.layer.10.attention.self.value.bias: torch.Size([768])\n",
      "encoder.layer.10.attention.output.dense.weight: torch.Size([768, 768])\n",
      "encoder.layer.10.attention.output.dense.bias: torch.Size([768])\n",
      "encoder.layer.10.attention.output.LayerNorm.weight: torch.Size([768])\n",
      "encoder.layer.10.attention.output.LayerNorm.bias: torch.Size([768])\n",
      "encoder.layer.10.intermediate.dense.weight: torch.Size([3072, 768])\n",
      "encoder.layer.10.intermediate.dense.bias: torch.Size([3072])\n",
      "encoder.layer.10.output.dense.weight: torch.Size([768, 3072])\n",
      "encoder.layer.10.output.dense.bias: torch.Size([768])\n",
      "encoder.layer.10.output.LayerNorm.weight: torch.Size([768])\n",
      "encoder.layer.10.output.LayerNorm.bias: torch.Size([768])\n",
      "encoder.layer.11.attention.self.query.weight: torch.Size([768, 768])\n",
      "encoder.layer.11.attention.self.query.bias: torch.Size([768])\n",
      "encoder.layer.11.attention.self.key.weight: torch.Size([768, 768])\n",
      "encoder.layer.11.attention.self.key.bias: torch.Size([768])\n",
      "encoder.layer.11.attention.self.value.weight: torch.Size([768, 768])\n",
      "encoder.layer.11.attention.self.value.bias: torch.Size([768])\n",
      "encoder.layer.11.attention.output.dense.weight: torch.Size([768, 768])\n",
      "encoder.layer.11.attention.output.dense.bias: torch.Size([768])\n",
      "encoder.layer.11.attention.output.LayerNorm.weight: torch.Size([768])\n",
      "encoder.layer.11.attention.output.LayerNorm.bias: torch.Size([768])\n",
      "encoder.layer.11.intermediate.dense.weight: torch.Size([3072, 768])\n",
      "encoder.layer.11.intermediate.dense.bias: torch.Size([3072])\n",
      "encoder.layer.11.output.dense.weight: torch.Size([768, 3072])\n",
      "encoder.layer.11.output.dense.bias: torch.Size([768])\n",
      "encoder.layer.11.output.LayerNorm.weight: torch.Size([768])\n",
      "encoder.layer.11.output.LayerNorm.bias: torch.Size([768])\n",
      "pooler.dense.weight: torch.Size([768, 768])\n",
      "pooler.dense.bias: torch.Size([768])\n"
     ]
    }
   ],
   "source": [
    "# Assuming 'model' is your pretrained model\n",
    "for name, param in model.named_parameters():\n",
    "    print(f\"{name}: {param.size()}\")"
   ]
  },
  {
   "cell_type": "code",
   "execution_count": null,
   "metadata": {},
   "outputs": [],
   "source": []
  }
 ],
 "metadata": {
  "colab": {
   "provenance": []
  },
  "kernelspec": {
   "display_name": "Python 3 (ipykernel)",
   "language": "python",
   "name": "python3"
  },
  "language_info": {
   "codemirror_mode": {
    "name": "ipython",
    "version": 3
   },
   "file_extension": ".py",
   "mimetype": "text/x-python",
   "name": "python",
   "nbconvert_exporter": "python",
   "pygments_lexer": "ipython3",
   "version": "3.12.6"
  }
 },
 "nbformat": 4,
 "nbformat_minor": 4
}
