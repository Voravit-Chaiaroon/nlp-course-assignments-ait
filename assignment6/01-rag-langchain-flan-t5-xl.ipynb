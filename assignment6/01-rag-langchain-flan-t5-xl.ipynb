{
 "cells": [
  {
   "attachments": {},
   "cell_type": "markdown",
   "metadata": {},
   "source": [
    "# Natural Language Processing\n",
    "\n",
    "# Retrieval-Augmented generation (RAG)\n",
    "\n",
    "RAG is a technique for augmenting LLM knowledge with additional, often private or real-time, data.\n",
    "\n",
    "LLMs can reason about wide-ranging topics, but their knowledge is limited to the public data up to a specific point in time that they were trained on. If you want to build AI applications that can reason about private data or data introduced after a model’s cutoff date, you need to augment the knowledge of the model with the specific information it needs.\n",
    "\n",
    "<img src=\"../figures/RAG-process.png\" >\n",
    "\n",
    "Introducing `ChakyBot`, an innovative chatbot designed to assist Chaky (the instructor) and TA (Gun) in explaining the lesson of the NLP course to students. Leveraging LangChain technology, ChakyBot excels in retrieving information from documents, ensuring a seamless and efficient learning experience for students engaging with the NLP curriculum.\n",
    "\n",
    "1. Prompt\n",
    "2. Retrieval\n",
    "3. Memory\n",
    "4. Chain"
   ]
  },
  {
   "cell_type": "code",
   "execution_count": 1,
   "metadata": {},
   "outputs": [
    {
     "data": {
      "text/plain": [
       "device(type='cuda')"
      ]
     },
     "execution_count": 1,
     "metadata": {},
     "output_type": "execute_result"
    }
   ],
   "source": [
    "import os\n",
    "import torch\n",
    "# Set GPU device\n",
    "os.environ[\"CUDA_VISIBLE_DEVICES\"] = \"3\"\n",
    "\n",
    "os.environ['http_proxy']  = 'http://192.41.170.23:3128'\n",
    "os.environ['https_proxy'] = 'http://192.41.170.23:3128'\n",
    "\n",
    "device = torch.device('cuda' if torch.cuda.is_available() else 'cpu')\n",
    "device"
   ]
  },
  {
   "cell_type": "code",
   "execution_count": 2,
   "metadata": {},
   "outputs": [
    {
     "name": "stdout",
     "output_type": "stream",
     "text": [
      "Defaulting to user installation because normal site-packages is not writeable\n",
      "Requirement already satisfied: langchain==0.2.13 in /home/jupyter-st124874/.local/lib/python3.12/site-packages (0.2.13)\n",
      "Requirement already satisfied: PyYAML>=5.3 in /opt/tljh/user/lib/python3.12/site-packages (from langchain==0.2.13) (6.0.2)\n",
      "Requirement already satisfied: SQLAlchemy<3,>=1.4 in /opt/tljh/user/lib/python3.12/site-packages (from langchain==0.2.13) (2.0.36)\n",
      "Requirement already satisfied: aiohttp<4.0.0,>=3.8.3 in /home/jupyter-st124874/.local/lib/python3.12/site-packages (from langchain==0.2.13) (3.11.11)\n",
      "Requirement already satisfied: langchain-core<0.3.0,>=0.2.30 in /home/jupyter-st124874/.local/lib/python3.12/site-packages (from langchain==0.2.13) (0.2.43)\n",
      "Requirement already satisfied: langchain-text-splitters<0.3.0,>=0.2.0 in /home/jupyter-st124874/.local/lib/python3.12/site-packages (from langchain==0.2.13) (0.2.4)\n",
      "Requirement already satisfied: langsmith<0.2.0,>=0.1.17 in /home/jupyter-st124874/.local/lib/python3.12/site-packages (from langchain==0.2.13) (0.1.147)\n",
      "Requirement already satisfied: numpy<2.0.0,>=1.26.0 in /home/jupyter-st124874/.local/lib/python3.12/site-packages (from langchain==0.2.13) (1.26.4)\n",
      "Requirement already satisfied: pydantic<3,>=1 in /opt/tljh/user/lib/python3.12/site-packages (from langchain==0.2.13) (2.10.4)\n",
      "Requirement already satisfied: requests<3,>=2 in /opt/tljh/user/lib/python3.12/site-packages (from langchain==0.2.13) (2.32.3)\n",
      "Requirement already satisfied: tenacity!=8.4.0,<9.0.0,>=8.1.0 in /home/jupyter-st124874/.local/lib/python3.12/site-packages (from langchain==0.2.13) (8.5.0)\n",
      "Requirement already satisfied: aiohappyeyeballs>=2.3.0 in /home/jupyter-st124874/.local/lib/python3.12/site-packages (from aiohttp<4.0.0,>=3.8.3->langchain==0.2.13) (2.4.4)\n",
      "Requirement already satisfied: aiosignal>=1.1.2 in /home/jupyter-st124874/.local/lib/python3.12/site-packages (from aiohttp<4.0.0,>=3.8.3->langchain==0.2.13) (1.3.2)\n",
      "Requirement already satisfied: attrs>=17.3.0 in /opt/tljh/user/lib/python3.12/site-packages (from aiohttp<4.0.0,>=3.8.3->langchain==0.2.13) (24.3.0)\n",
      "Requirement already satisfied: frozenlist>=1.1.1 in /home/jupyter-st124874/.local/lib/python3.12/site-packages (from aiohttp<4.0.0,>=3.8.3->langchain==0.2.13) (1.5.0)\n",
      "Requirement already satisfied: multidict<7.0,>=4.5 in /home/jupyter-st124874/.local/lib/python3.12/site-packages (from aiohttp<4.0.0,>=3.8.3->langchain==0.2.13) (6.1.0)\n",
      "Requirement already satisfied: propcache>=0.2.0 in /home/jupyter-st124874/.local/lib/python3.12/site-packages (from aiohttp<4.0.0,>=3.8.3->langchain==0.2.13) (0.2.1)\n",
      "Requirement already satisfied: yarl<2.0,>=1.17.0 in /home/jupyter-st124874/.local/lib/python3.12/site-packages (from aiohttp<4.0.0,>=3.8.3->langchain==0.2.13) (1.18.3)\n",
      "Requirement already satisfied: jsonpatch<2.0,>=1.33 in /opt/tljh/user/lib/python3.12/site-packages (from langchain-core<0.3.0,>=0.2.30->langchain==0.2.13) (1.33)\n",
      "Requirement already satisfied: packaging<25,>=23.2 in /home/jupyter-st124874/.local/lib/python3.12/site-packages (from langchain-core<0.3.0,>=0.2.30->langchain==0.2.13) (23.2)\n",
      "Requirement already satisfied: typing-extensions>=4.7 in /opt/tljh/user/lib/python3.12/site-packages (from langchain-core<0.3.0,>=0.2.30->langchain==0.2.13) (4.12.2)\n",
      "Requirement already satisfied: httpx<1,>=0.23.0 in /opt/tljh/user/lib/python3.12/site-packages (from langsmith<0.2.0,>=0.1.17->langchain==0.2.13) (0.28.1)\n",
      "Requirement already satisfied: orjson<4.0.0,>=3.9.14 in /home/jupyter-st124874/.local/lib/python3.12/site-packages (from langsmith<0.2.0,>=0.1.17->langchain==0.2.13) (3.10.15)\n",
      "Requirement already satisfied: requests-toolbelt<2.0.0,>=1.0.0 in /home/jupyter-st124874/.local/lib/python3.12/site-packages (from langsmith<0.2.0,>=0.1.17->langchain==0.2.13) (1.0.0)\n",
      "Requirement already satisfied: annotated-types>=0.6.0 in /opt/tljh/user/lib/python3.12/site-packages (from pydantic<3,>=1->langchain==0.2.13) (0.7.0)\n",
      "Requirement already satisfied: pydantic-core==2.27.2 in /opt/tljh/user/lib/python3.12/site-packages (from pydantic<3,>=1->langchain==0.2.13) (2.27.2)\n",
      "Requirement already satisfied: charset-normalizer<4,>=2 in /opt/tljh/user/lib/python3.12/site-packages (from requests<3,>=2->langchain==0.2.13) (3.3.2)\n",
      "Requirement already satisfied: idna<4,>=2.5 in /opt/tljh/user/lib/python3.12/site-packages (from requests<3,>=2->langchain==0.2.13) (3.10)\n",
      "Requirement already satisfied: urllib3<3,>=1.21.1 in /opt/tljh/user/lib/python3.12/site-packages (from requests<3,>=2->langchain==0.2.13) (2.2.3)\n",
      "Requirement already satisfied: certifi>=2017.4.17 in /opt/tljh/user/lib/python3.12/site-packages (from requests<3,>=2->langchain==0.2.13) (2024.12.14)\n",
      "Requirement already satisfied: greenlet!=0.4.17 in /opt/tljh/user/lib/python3.12/site-packages (from SQLAlchemy<3,>=1.4->langchain==0.2.13) (3.1.1)\n",
      "Requirement already satisfied: anyio in /opt/tljh/user/lib/python3.12/site-packages (from httpx<1,>=0.23.0->langsmith<0.2.0,>=0.1.17->langchain==0.2.13) (4.7.0)\n",
      "Requirement already satisfied: httpcore==1.* in /opt/tljh/user/lib/python3.12/site-packages (from httpx<1,>=0.23.0->langsmith<0.2.0,>=0.1.17->langchain==0.2.13) (1.0.7)\n",
      "Requirement already satisfied: h11<0.15,>=0.13 in /opt/tljh/user/lib/python3.12/site-packages (from httpcore==1.*->httpx<1,>=0.23.0->langsmith<0.2.0,>=0.1.17->langchain==0.2.13) (0.14.0)\n",
      "Requirement already satisfied: jsonpointer>=1.9 in /opt/tljh/user/lib/python3.12/site-packages (from jsonpatch<2.0,>=1.33->langchain-core<0.3.0,>=0.2.30->langchain==0.2.13) (3.0.0)\n",
      "Requirement already satisfied: sniffio>=1.1 in /opt/tljh/user/lib/python3.12/site-packages (from anyio->httpx<1,>=0.23.0->langsmith<0.2.0,>=0.1.17->langchain==0.2.13) (1.3.1)\n"
     ]
    }
   ],
   "source": [
    "# #langchain library\n",
    "!pip install langchain==0.2.13\n",
    "# !pip install langchain-community==0.0.38\n",
    "# #LLM\n",
    "# !pip install accelerate==0.26.0\n",
    "# !pip install transformers==4.45.0\n",
    "# !pip install bitsandbytes==0.41.3\n",
    "# #Text Embedding\n",
    "# !pip install sentence-transformers==2.2.2\n",
    "# !pip install InstructorEmbedding==1.0.1\n",
    "# #vectorstore\n",
    "# !pip install pymupdf==1.23.8\n",
    "# !pip install faiss-cpu\n",
    "# # Hugging Face Hub (Compatible with InstructorEmbedding)\n",
    "# !pip install huggingface_hub==0.23.3\n",
    "# !pip install elasticsearch==8.17.2"
   ]
  },
  {
   "cell_type": "code",
   "execution_count": 3,
   "metadata": {},
   "outputs": [
    {
     "name": "stdout",
     "output_type": "stream",
     "text": [
      "2.6.0+cu124\n"
     ]
    }
   ],
   "source": [
    "import torch\n",
    "print(torch.__version__)"
   ]
  },
  {
   "attachments": {},
   "cell_type": "markdown",
   "metadata": {},
   "source": [
    "## 1. Prompt\n",
    "\n",
    "A set of instructions or input provided by a user to guide the model's response, helping it understand the context and generate relevant and coherent language-based output, such as answering questions, completing sentences, or engaging in a conversation."
   ]
  },
  {
   "cell_type": "code",
   "execution_count": 4,
   "metadata": {},
   "outputs": [
    {
     "data": {
      "text/plain": [
       "PromptTemplate(input_variables=['context', 'question'], template=\"You are VoravitBot, a friendly chatbot dedicated exclusively to answering questions about Voravit's demographic and experience information. \\n    Do not provide any details about yourself or your creation. If asked a question about your own age or personal attributes, \\n    simply indicate that you are here to discuss Voravit's information only.\\n    You are Voravit, and you will respond as Voravit.  \\n    \\n    {context}\\n    Question: {question}\\n    Answer:\")"
      ]
     },
     "execution_count": 4,
     "metadata": {},
     "output_type": "execute_result"
    }
   ],
   "source": [
    "from langchain import PromptTemplate\n",
    "\n",
    "prompt_template = \"\"\"\n",
    "    You are VoravitBot, a friendly chatbot dedicated exclusively to answering questions about Voravit's demographic and experience information. \n",
    "    Do not provide any details about yourself or your creation. If asked a question about your own age or personal attributes, \n",
    "    simply indicate that you are here to discuss Voravit's information only.\n",
    "    You are Voravit, and you will respond as Voravit.  \n",
    "    \n",
    "    {context}\n",
    "    Question: {question}\n",
    "    Answer:\n",
    "    \"\"\".strip()\n",
    "\n",
    "PROMPT = PromptTemplate.from_template(\n",
    "    template = prompt_template\n",
    ")\n",
    "\n",
    "PROMPT\n",
    "#using str.format \n",
    "#The placeholder is defined using curly brackets: {} {}"
   ]
  },
  {
   "cell_type": "code",
   "execution_count": 5,
   "metadata": {},
   "outputs": [],
   "source": [
    "# PROMPT.format(\n",
    "#     context = \"Machine learning (ML) is a field of study in artificial intelligence concerned with the development and study of statistical algorithms that can effectively generalize and thus perform tasks without explicit instructions.\",\n",
    "#     question = \"What is Machine Learning\"\n",
    "# )"
   ]
  },
  {
   "attachments": {},
   "cell_type": "markdown",
   "metadata": {},
   "source": [
    "Note : [How to improve prompting (Zero-shot, Few-shot, Chain-of-Thought, etc.](https://github.com/chaklam-silpasuwanchai/Natural-Language-Processing/blob/main/Code/05%20-%20RAG/advance/cot-tot-prompting.ipynb)"
   ]
  },
  {
   "attachments": {},
   "cell_type": "markdown",
   "metadata": {},
   "source": [
    "## 2. Retrieval\n",
    "\n",
    "1. `Document loaders` : Load documents from many different sources (HTML, PDF, code). \n",
    "2. `Document transformers` : One of the essential steps in document retrieval is breaking down a large document into smaller, relevant chunks to enhance the retrieval process.\n",
    "3. `Text embedding models` : Embeddings capture the semantic meaning of the text, allowing you to quickly and efficiently find other pieces of text that are similar.\n",
    "4. `Vector stores`: there has emerged a need for databases to support efficient storage and searching of these embeddings.\n",
    "5. `Retrievers` : Once the data is in the database, you still need to retrieve it."
   ]
  },
  {
   "attachments": {},
   "cell_type": "markdown",
   "metadata": {},
   "source": [
    "### 2.1 Document Loaders \n",
    "Use document loaders to load data from a source as Document's. A Document is a piece of text and associated metadata. For example, there are document loaders for loading a simple .txt file, for loading the text contents of any web page, or even for loading a transcript of a YouTube video.\n",
    "\n",
    "[PDF Loader](https://python.langchain.com/docs/modules/data_connection/document_loaders/pdf)\n",
    "\n",
    "[Download Document](https://web.stanford.edu/~jurafsky/slp3/)"
   ]
  },
  {
   "cell_type": "code",
   "execution_count": 6,
   "metadata": {},
   "outputs": [],
   "source": [
    "from langchain.document_loaders import PyMuPDFLoader\n",
    "\n",
    "docs1 = 'docs/pdf/jobsdb.pdf'\n",
    "docs2 = 'docs/pdf/aboutMe.pdf'\n",
    "\n",
    "loader1 = PyMuPDFLoader(docs1)\n",
    "loader2 = PyMuPDFLoader(docs2)\n",
    "\n",
    "# Load each PDF\n",
    "documents1 = loader1.load()\n",
    "documents2 = loader2.load()\n",
    "\n",
    "# Combine the documents into a single list\n",
    "documents = documents1 + documents2\n"
   ]
  },
  {
   "cell_type": "code",
   "execution_count": 7,
   "metadata": {},
   "outputs": [],
   "source": [
    "# documents"
   ]
  },
  {
   "cell_type": "code",
   "execution_count": 8,
   "metadata": {},
   "outputs": [
    {
     "data": {
      "text/plain": [
       "4"
      ]
     },
     "execution_count": 8,
     "metadata": {},
     "output_type": "execute_result"
    }
   ],
   "source": [
    "len(documents)"
   ]
  },
  {
   "cell_type": "code",
   "execution_count": 9,
   "metadata": {},
   "outputs": [
    {
     "data": {
      "text/plain": [
       "Document(metadata={'source': 'docs/pdf/aboutMe.pdf', 'file_path': 'docs/pdf/aboutMe.pdf', 'page': 1, 'total_pages': 2, 'format': 'PDF 1.4', 'title': 'About Voravit', 'author': '', 'subject': '', 'keywords': '', 'creator': 'Mozilla/5.0 (X11; Linux x86_64) AppleWebKit/537.36 (KHTML, like Gecko) HeadlessChrome/131.0.0.0 Safari/537.36', 'producer': 'Skia/PDF m131', 'creationDate': \"D:20250314034338+00'00'\", 'modDate': \"D:20250314034338+00'00'\", 'trapped': ''}, page_content='Family plays a central role in my life and has been a constant source of inspiration \\nand support. My father, with his steadfast work ethic and curiosity, has always \\nencouraged me to pursue knowledge, while my motherʼs compassion and \\nresilience have taught me the value of empathy and persistence. My sister, a \\ntalented data engineer currently pursuing her masterʼs degree in data science at \\nNIDA, not only shares my passion for technology but also constantly motivates me \\nto push the boundaries of whatʼs possible. Together, our shared interests in data \\nand technology reinforce our commitment to lifelong learning and professional \\ngrowth, and they remind me that the journey of knowledge is best undertaken with \\na supportive and inspiring family by your side.\\nAbout Voravit\\n2\\n')"
      ]
     },
     "execution_count": 9,
     "metadata": {},
     "output_type": "execute_result"
    }
   ],
   "source": [
    "documents[3]"
   ]
  },
  {
   "attachments": {},
   "cell_type": "markdown",
   "metadata": {},
   "source": [
    "### 2.2 Document Transformers\n",
    "\n",
    "This text splitter is the recommended one for generic text. It is parameterized by a list of characters. It tries to split on them in order until the chunks are small enough"
   ]
  },
  {
   "cell_type": "code",
   "execution_count": 10,
   "metadata": {},
   "outputs": [],
   "source": [
    "from langchain.text_splitter import RecursiveCharacterTextSplitter\n",
    "\n",
    "text_splitter = RecursiveCharacterTextSplitter(\n",
    "    chunk_size = 700,\n",
    "    chunk_overlap = 100\n",
    ")\n",
    "\n",
    "doc = text_splitter.split_documents(documents)"
   ]
  },
  {
   "cell_type": "code",
   "execution_count": 11,
   "metadata": {},
   "outputs": [
    {
     "data": {
      "text/plain": [
       "Document(metadata={'source': 'docs/pdf/jobsdb.pdf', 'file_path': 'docs/pdf/jobsdb.pdf', 'page': 0, 'total_pages': 2, 'format': 'PDF 1.4', 'title': 'Voravit’s Jobsdb', 'author': '', 'subject': '', 'keywords': '', 'creator': 'Mozilla/5.0 (X11; Linux x86_64) AppleWebKit/537.36 (KHTML, like Gecko) HeadlessChrome/131.0.0.0 Safari/537.36', 'producer': 'Skia/PDF m131', 'creationDate': \"D:20250314032949+00'00'\", 'modDate': \"D:20250314032949+00'00'\", 'trapped': ''}, page_content='Developed and maintained full-stack web applications using Laravel, PHP, and \\nrelated technologies. Implemented responsive user interfaces \\ue081UI\\ue082 using \\nHTML, CSS, and JavaScript, enhancing the overall user experience. Designed \\nand optimized database schemas, performed query optimizations, and \\nensured data integrity.\\nMobile Application DeveloperMay 2021 \\ue088 May 2022 \\ue0811 year 1 month)\\nLandmark Consultants Co.,Ltd.\\nFull Stack Web DeveloperMay 2020 \\ue088 May 2021 \\ue0811 year 1 month)\\nLandmark Consultants Co.,Ltd.\\nEducation\\nMaster of Artificial Intelligence and Data ScienceExpected finish May 2026\\nAsian Institute Technology\\nBachelor of EngineeringFinished 2019\\nVoravitʼs Jobsdb\\n1')"
      ]
     },
     "execution_count": 11,
     "metadata": {},
     "output_type": "execute_result"
    }
   ],
   "source": [
    "doc[1]"
   ]
  },
  {
   "cell_type": "code",
   "execution_count": 12,
   "metadata": {},
   "outputs": [
    {
     "data": {
      "text/plain": [
       "10"
      ]
     },
     "execution_count": 12,
     "metadata": {},
     "output_type": "execute_result"
    }
   ],
   "source": [
    "len(doc)"
   ]
  },
  {
   "attachments": {},
   "cell_type": "markdown",
   "metadata": {},
   "source": [
    "### 2.3 Text Embedding Models\n",
    "Embeddings create a vector representation of a piece of text. This is useful because it means we can think about text in the vector space, and do things like semantic search where we look for pieces of text that are most similar in the vector space.\n",
    "\n",
    "*Note* Instructor Model : [Huggingface](gingface.co/hkunlp/instructor-base) | [Paper](https://arxiv.org/abs/2212.09741)"
   ]
  },
  {
   "cell_type": "code",
   "execution_count": 13,
   "metadata": {},
   "outputs": [
    {
     "name": "stderr",
     "output_type": "stream",
     "text": [
      "/home/jupyter-st124874/.local/lib/python3.12/site-packages/InstructorEmbedding/instructor.py:7: TqdmExperimentalWarning: Using `tqdm.autonotebook.tqdm` in notebook mode. Use `tqdm.tqdm` instead to force console mode (e.g. in jupyter console)\n",
      "  from tqdm.autonotebook import trange\n"
     ]
    },
    {
     "name": "stdout",
     "output_type": "stream",
     "text": [
      "load INSTRUCTOR_Transformer\n",
      "max_seq_length  512\n"
     ]
    },
    {
     "name": "stderr",
     "output_type": "stream",
     "text": [
      "/home/jupyter-st124874/.local/lib/python3.12/site-packages/transformers/tokenization_utils_base.py:1617: FutureWarning: `clean_up_tokenization_spaces` was not set. It will be set to `True` by default. This behavior will be deprecated in transformers v4.45, and will be then set to `False` by default. For more details check this issue: https://github.com/huggingface/transformers/issues/31884\n",
      "  warnings.warn(\n"
     ]
    }
   ],
   "source": [
    "import torch\n",
    "from langchain.embeddings import HuggingFaceInstructEmbeddings\n",
    "\n",
    "model_name = 'hkunlp/instructor-base'\n",
    "\n",
    "embedding_model = HuggingFaceInstructEmbeddings(\n",
    "    model_name = model_name,\n",
    "    model_kwargs = {\"device\" : device}\n",
    ")"
   ]
  },
  {
   "attachments": {},
   "cell_type": "markdown",
   "metadata": {},
   "source": [
    "### 2.4 Vector Stores\n",
    "\n",
    "One of the most common ways to store and search over unstructured data is to embed it and store the resulting embedding vectors, and then at query time to embed the unstructured query and retrieve the embedding vectors that are 'most similar' to the embedded query. A vector store takes care of storing embedded data and performing vector search for you."
   ]
  },
  {
   "cell_type": "code",
   "execution_count": 14,
   "metadata": {},
   "outputs": [],
   "source": [
    "!pip install --upgrade --quiet  annoy"
   ]
  },
  {
   "cell_type": "code",
   "execution_count": 15,
   "metadata": {},
   "outputs": [],
   "source": [
    "#locate vectorstore\n",
    "vector_path = '../vector-store'\n",
    "if not os.path.exists(vector_path):\n",
    "    os.makedirs(vector_path)\n",
    "    print('create path done')"
   ]
  },
  {
   "cell_type": "code",
   "execution_count": 16,
   "metadata": {},
   "outputs": [],
   "source": [
    "#save vector locally\n",
    "from langchain.vectorstores import Annoy\n",
    "\n",
    "vectordb = Annoy.from_documents(\n",
    "    documents = doc,\n",
    "    embedding = embedding_model\n",
    ")\n",
    "\n",
    "db_file_name = 'nlp_stanford'\n",
    "\n",
    "vectordb.save_local(\n",
    "    folder_path = os.path.join(vector_path, db_file_name),\n",
    "    # index_name = 'nlp' #default index\n",
    ")"
   ]
  },
  {
   "cell_type": "code",
   "execution_count": 17,
   "metadata": {},
   "outputs": [],
   "source": [
    "# from langchain_elasticsearch import ElasticsearchStore\n",
    "# #save vector locally\n",
    "\n",
    "# vectordb = ElasticsearchStore.from_documents(\n",
    "#     documents = doc,\n",
    "#     embedding = embedding_model\n",
    "# )\n",
    "\n",
    "# db_file_name = 'nlp_stanford'\n",
    "\n",
    "# vectordb.save_local(\n",
    "#     folder_path = os.path.join(vector_path, db_file_name),\n",
    "#     index_name = 'nlp' #default index\n",
    "# )"
   ]
  },
  {
   "attachments": {},
   "cell_type": "markdown",
   "metadata": {},
   "source": [
    "### 2.5 retrievers\n",
    "A retriever is an interface that returns documents given an unstructured query. It is more general than a vector store. A retriever does not need to be able to store documents, only to return (or retrieve) them. Vector stores can be used as the backbone of a retriever, but there are other types of retrievers as well."
   ]
  },
  {
   "cell_type": "code",
   "execution_count": 18,
   "metadata": {},
   "outputs": [],
   "source": [
    "#calling vector from local\n",
    "vector_path = '../vector-store'\n",
    "db_file_name = 'nlp_stanford'\n",
    "\n",
    "from langchain.vectorstores import Annoy\n",
    "\n",
    "vectordb = Annoy.load_local(\n",
    "    folder_path = os.path.join(vector_path, db_file_name),\n",
    "    embeddings = embedding_model,\n",
    "    # index_name = 'nlp', #default index\n",
    "    allow_dangerous_deserialization=True\n",
    ")   "
   ]
  },
  {
   "cell_type": "code",
   "execution_count": 19,
   "metadata": {},
   "outputs": [],
   "source": [
    "#ready to use\n",
    "retriever = vectordb.as_retriever()"
   ]
  },
  {
   "cell_type": "code",
   "execution_count": 20,
   "metadata": {},
   "outputs": [
    {
     "name": "stderr",
     "output_type": "stream",
     "text": [
      "/tmp/ipykernel_59055/1016820497.py:1: LangChainDeprecationWarning: The method `BaseRetriever.get_relevant_documents` was deprecated in langchain-core 0.1.46 and will be removed in 1.0. Use invoke instead.\n",
      "  retriever.get_relevant_documents(\"How is your work experience?\")\n"
     ]
    },
    {
     "data": {
      "text/plain": [
       "[Document(metadata={'source': 'docs/pdf/jobsdb.pdf', 'file_path': 'docs/pdf/jobsdb.pdf', 'page': 0, 'total_pages': 2, 'format': 'PDF 1.4', 'title': 'Voravit’s Jobsdb', 'author': '', 'subject': '', 'keywords': '', 'creator': 'Mozilla/5.0 (X11; Linux x86_64) AppleWebKit/537.36 (KHTML, like Gecko) HeadlessChrome/131.0.0.0 Safari/537.36', 'producer': 'Skia/PDF m131', 'creationDate': \"D:20250314032949+00'00'\", 'modDate': \"D:20250314032949+00'00'\", 'trapped': ''}, page_content='Developed and maintained full-stack web applications using Laravel, PHP, and \\nrelated technologies. Implemented responsive user interfaces \\ue081UI\\ue082 using \\nHTML, CSS, and JavaScript, enhancing the overall user experience. Designed \\nand optimized database schemas, performed query optimizations, and \\nensured data integrity.\\nMobile Application DeveloperMay 2021 \\ue088 May 2022 \\ue0811 year 1 month)\\nLandmark Consultants Co.,Ltd.\\nFull Stack Web DeveloperMay 2020 \\ue088 May 2021 \\ue0811 year 1 month)\\nLandmark Consultants Co.,Ltd.\\nEducation\\nMaster of Artificial Intelligence and Data ScienceExpected finish May 2026\\nAsian Institute Technology\\nBachelor of EngineeringFinished 2019\\nVoravitʼs Jobsdb\\n1'),\n",
       " Document(metadata={'source': 'docs/pdf/aboutMe.pdf', 'file_path': 'docs/pdf/aboutMe.pdf', 'page': 0, 'total_pages': 2, 'format': 'PDF 1.4', 'title': 'About Voravit', 'author': '', 'subject': '', 'keywords': '', 'creator': 'Mozilla/5.0 (X11; Linux x86_64) AppleWebKit/537.36 (KHTML, like Gecko) HeadlessChrome/131.0.0.0 Safari/537.36', 'producer': 'Skia/PDF m131', 'creationDate': \"D:20250314034338+00'00'\", 'modDate': \"D:20250314034338+00'00'\", 'trapped': ''}, page_content='rigorous academic demands with hands-on experimentation, while also staying \\ncurrent with the latest research, presents an exciting yet formidable challenge that \\nconstantly pushes me to grow.\\nOutside the academic sphere, I find joy and balance in everyday pleasures and \\nfamily life. I have a keen interest in exploring different cuisines—whether itʼs trying \\nout new dishes at local eateries or cooking at home, food has a unique way of \\nconnecting me with various cultures. My passion for travel further enriches my \\nperspective, offering opportunities to experience diverse ways of life and inspiring \\nfresh ideas that often translate into creative problem-solving approaches in my \\nstudies.'),\n",
       " Document(metadata={'source': 'docs/pdf/jobsdb.pdf', 'file_path': 'docs/pdf/jobsdb.pdf', 'page': 0, 'total_pages': 2, 'format': 'PDF 1.4', 'title': 'Voravit’s Jobsdb', 'author': '', 'subject': '', 'keywords': '', 'creator': 'Mozilla/5.0 (X11; Linux x86_64) AppleWebKit/537.36 (KHTML, like Gecko) HeadlessChrome/131.0.0.0 Safari/537.36', 'producer': 'Skia/PDF m131', 'creationDate': \"D:20250314032949+00'00'\", 'modDate': \"D:20250314032949+00'00'\", 'trapped': ''}, page_content='Voravitʼs Jobsdb\\nVoravit Chaiaroon\\nCareer history\\nMasters Degree: Data Science and Artificial IntelligenceAug 2024 \\ue088 Present \\ue0817 \\nmonths)\\nAsian Institute Technology\\nFull Stack Web DeveloperMay 2020 \\ue088 Jan 2024 \\ue0813 years 9 months)\\nLandmark Consultants\\nDeveloped and maintained full-stack web applications using Laravel, PHP, and \\nrelated technologies. Implemented responsive user interfaces \\ue081UI\\ue082 using \\nHTML, CSS, and JavaScript, enhancing the overall user experience. Designed \\nand optimized database schemas, performed query optimizations, and \\nensured data integrity.\\nDeveloped and maintained full-stack web applications using Laravel, PHP, and'),\n",
       " Document(metadata={'source': 'docs/pdf/jobsdb.pdf', 'file_path': 'docs/pdf/jobsdb.pdf', 'page': 1, 'total_pages': 2, 'format': 'PDF 1.4', 'title': 'Voravit’s Jobsdb', 'author': '', 'subject': '', 'keywords': '', 'creator': 'Mozilla/5.0 (X11; Linux x86_64) AppleWebKit/537.36 (KHTML, like Gecko) HeadlessChrome/131.0.0.0 Safari/537.36', 'producer': 'Skia/PDF m131', 'creationDate': \"D:20250314032949+00'00'\", 'modDate': \"D:20250314032949+00'00'\", 'trapped': ''}, page_content='Mahidol University\\nSkills\\nSQL Queries\\nReact Native\\nPython Library\\nPHP Programming\\nVoravitʼs Jobsdb\\n2')]"
      ]
     },
     "execution_count": 20,
     "metadata": {},
     "output_type": "execute_result"
    }
   ],
   "source": [
    "retriever.get_relevant_documents(\"How is your work experience?\")"
   ]
  },
  {
   "cell_type": "code",
   "execution_count": 21,
   "metadata": {},
   "outputs": [
    {
     "data": {
      "text/plain": [
       "[Document(metadata={'source': 'docs/pdf/aboutMe.pdf', 'file_path': 'docs/pdf/aboutMe.pdf', 'page': 0, 'total_pages': 2, 'format': 'PDF 1.4', 'title': 'About Voravit', 'author': '', 'subject': '', 'keywords': '', 'creator': 'Mozilla/5.0 (X11; Linux x86_64) AppleWebKit/537.36 (KHTML, like Gecko) HeadlessChrome/131.0.0.0 Safari/537.36', 'producer': 'Skia/PDF m131', 'creationDate': \"D:20250314034338+00'00'\", 'modDate': \"D:20250314034338+00'00'\", 'trapped': ''}, page_content='About Voravit \\nTechnology, in my view, is a transformative force that shapes society in profound \\nways. It acts as a catalyst for change by enabling breakthroughs in \\ncommunication, healthcare, education, and various other sectors. The ability to \\nprocess and analyze large amounts of data through advanced algorithms has led \\nto innovative solutions that not only address current challenges but also pave the \\nway for a more interconnected and efficient future. At its best, technology \\nempowers individuals and communities, creating opportunities for progress and \\nimproved quality of life, while also requiring careful management to prevent'),\n",
       " Document(metadata={'source': 'docs/pdf/aboutMe.pdf', 'file_path': 'docs/pdf/aboutMe.pdf', 'page': 0, 'total_pages': 2, 'format': 'PDF 1.4', 'title': 'About Voravit', 'author': '', 'subject': '', 'keywords': '', 'creator': 'Mozilla/5.0 (X11; Linux x86_64) AppleWebKit/537.36 (KHTML, like Gecko) HeadlessChrome/131.0.0.0 Safari/537.36', 'producer': 'Skia/PDF m131', 'creationDate': \"D:20250314034338+00'00'\", 'modDate': \"D:20250314034338+00'00'\", 'trapped': ''}, page_content='improved quality of life, while also requiring careful management to prevent \\npotential pitfalls like privacy erosion or socio-economic divides.\\nCultural values play a pivotal role in guiding technological advancements. I believe \\nthat technology should not be developed in isolation but rather in harmony with \\nthe diverse ethical, social, and historical contexts of different communities. When \\ncultural values are integrated into the innovation process, they help ensure that \\ntechnological solutions are both respectful and relevant. This intersection of \\nculture and technology fosters designs that are inclusive and ethically sound,'),\n",
       " Document(metadata={'source': 'docs/pdf/aboutMe.pdf', 'file_path': 'docs/pdf/aboutMe.pdf', 'page': 0, 'total_pages': 2, 'format': 'PDF 1.4', 'title': 'About Voravit', 'author': '', 'subject': '', 'keywords': '', 'creator': 'Mozilla/5.0 (X11; Linux x86_64) AppleWebKit/537.36 (KHTML, like Gecko) HeadlessChrome/131.0.0.0 Safari/537.36', 'producer': 'Skia/PDF m131', 'creationDate': \"D:20250314034338+00'00'\", 'modDate': \"D:20250314034338+00'00'\", 'trapped': ''}, page_content='culture and technology fosters designs that are inclusive and ethically sound, \\nultimately leading to more sustainable and universally beneficial outcomes.\\nAs a masterʼs student in data science and AI, one of the most challenging aspects \\nof my studies has been bridging the gap between abstract theoretical concepts \\nand practical, real-world applications. The fast pace of advancements in the field \\nmeans that there is a continuous need to assimilate new methodologies, refine my \\ntechnical skills, and remain agile in an ever-evolving landscape. Balancing \\nrigorous academic demands with hands-on experimentation, while also staying'),\n",
       " Document(metadata={'source': 'docs/pdf/aboutMe.pdf', 'file_path': 'docs/pdf/aboutMe.pdf', 'page': 1, 'total_pages': 2, 'format': 'PDF 1.4', 'title': 'About Voravit', 'author': '', 'subject': '', 'keywords': '', 'creator': 'Mozilla/5.0 (X11; Linux x86_64) AppleWebKit/537.36 (KHTML, like Gecko) HeadlessChrome/131.0.0.0 Safari/537.36', 'producer': 'Skia/PDF m131', 'creationDate': \"D:20250314034338+00'00'\", 'modDate': \"D:20250314034338+00'00'\", 'trapped': ''}, page_content='and technology reinforce our commitment to lifelong learning and professional \\ngrowth, and they remind me that the journey of knowledge is best undertaken with \\na supportive and inspiring family by your side.\\nAbout Voravit\\n2')]"
      ]
     },
     "execution_count": 21,
     "metadata": {},
     "output_type": "execute_result"
    }
   ],
   "source": [
    "retriever.get_relevant_documents(\"What are your core beliefs regarding the role of technology in shaping society?\")"
   ]
  },
  {
   "attachments": {},
   "cell_type": "markdown",
   "metadata": {},
   "source": [
    "## 3. Memory\n",
    "\n",
    "One of the core utility classes underpinning most (if not all) memory modules is the ChatMessageHistory class. This is a super lightweight wrapper that provides convenience methods for saving HumanMessages, AIMessages, and then fetching them all.\n",
    "\n",
    "You may want to use this class directly if you are managing memory outside of a chain.\n"
   ]
  },
  {
   "cell_type": "code",
   "execution_count": 22,
   "metadata": {
    "scrolled": true
   },
   "outputs": [
    {
     "data": {
      "text/plain": [
       "InMemoryChatMessageHistory(messages=[])"
      ]
     },
     "execution_count": 22,
     "metadata": {},
     "output_type": "execute_result"
    }
   ],
   "source": [
    "from langchain.memory import ChatMessageHistory\n",
    "\n",
    "history = ChatMessageHistory()\n",
    "history"
   ]
  },
  {
   "cell_type": "code",
   "execution_count": 23,
   "metadata": {},
   "outputs": [],
   "source": [
    "history.add_user_message('hi')\n",
    "history.add_ai_message('Whats up?')\n",
    "history.add_user_message('How are you')\n",
    "history.add_ai_message('I\\'m quite good. How about you?')"
   ]
  },
  {
   "cell_type": "code",
   "execution_count": 24,
   "metadata": {},
   "outputs": [
    {
     "data": {
      "text/plain": [
       "InMemoryChatMessageHistory(messages=[HumanMessage(content='hi'), AIMessage(content='Whats up?'), HumanMessage(content='How are you'), AIMessage(content=\"I'm quite good. How about you?\")])"
      ]
     },
     "execution_count": 24,
     "metadata": {},
     "output_type": "execute_result"
    }
   ],
   "source": [
    "history"
   ]
  },
  {
   "attachments": {},
   "cell_type": "markdown",
   "metadata": {},
   "source": [
    "### 3.1 Memory types\n",
    "\n",
    "There are many different types of memory. Each has their own parameters, their own return types, and is useful in different scenarios. \n",
    "- Converstaion Buffer\n",
    "- Converstaion Buffer Window"
   ]
  },
  {
   "attachments": {},
   "cell_type": "markdown",
   "metadata": {},
   "source": [
    "What variables get returned from memory\n",
    "\n",
    "Before going into the chain, various variables are read from memory. These have specific names which need to align with the variables the chain expects. You can see what these variables are by calling memory.load_memory_variables({}). Note that the empty dictionary that we pass in is just a placeholder for real variables. If the memory type you are using is dependent upon the input variables, you may need to pass some in."
   ]
  },
  {
   "attachments": {},
   "cell_type": "markdown",
   "metadata": {},
   "source": [
    "In this case, you can see that load_memory_variables returns a single key, history. This means that your chain (and likely your prompt) should expect an input named history. You can usually control this variable through parameters on the memory class. For example, if you want the memory variables to be returned in the key chat_history you can do:"
   ]
  },
  {
   "attachments": {},
   "cell_type": "markdown",
   "metadata": {},
   "source": [
    "#### Converstaion Buffer\n",
    "This memory allows for storing messages and then extracts the messages in a variable."
   ]
  },
  {
   "cell_type": "code",
   "execution_count": 25,
   "metadata": {},
   "outputs": [
    {
     "data": {
      "text/plain": [
       "{'history': \"Human: hi\\nAI: What's up?\\nHuman: How are you?\\nAI: I'm quite good. How about you?\"}"
      ]
     },
     "execution_count": 25,
     "metadata": {},
     "output_type": "execute_result"
    }
   ],
   "source": [
    "from langchain.memory import ConversationBufferMemory\n",
    "\n",
    "memory = ConversationBufferMemory()\n",
    "memory.save_context({'input':'hi'}, {'output':'What\\'s up?'})\n",
    "memory.save_context({\"input\":'How are you?'},{'output': 'I\\'m quite good. How about you?'})\n",
    "memory.load_memory_variables({})"
   ]
  },
  {
   "cell_type": "code",
   "execution_count": 26,
   "metadata": {},
   "outputs": [
    {
     "data": {
      "text/plain": [
       "{'history': [HumanMessage(content='hi'),\n",
       "  AIMessage(content=\"What's up?\"),\n",
       "  HumanMessage(content='How are you?'),\n",
       "  AIMessage(content=\"I'm quite good. How about you?\")]}"
      ]
     },
     "execution_count": 26,
     "metadata": {},
     "output_type": "execute_result"
    }
   ],
   "source": [
    "from langchain.memory import ConversationBufferMemory\n",
    "\n",
    "memory = ConversationBufferMemory(return_messages = True)\n",
    "memory.save_context({'input':'hi'}, {'output':'What\\'s up?'})\n",
    "memory.save_context({\"input\":'How are you?'},{'output': 'I\\'m quite good. How about you?'})\n",
    "memory.load_memory_variables({})"
   ]
  },
  {
   "attachments": {},
   "cell_type": "markdown",
   "metadata": {},
   "source": [
    "#### Conversation Buffer Window\n",
    "- it keeps a list of the interactions of the conversation over time. \n",
    "- it only uses the last K interactions. \n",
    "- it can be useful for keeping a sliding window of the most recent interactions, so the buffer does not get too large."
   ]
  },
  {
   "cell_type": "code",
   "execution_count": 27,
   "metadata": {},
   "outputs": [
    {
     "data": {
      "text/plain": [
       "{'history': \"Human: How are you?\\nAI: I'm quite good. How about you?\"}"
      ]
     },
     "execution_count": 27,
     "metadata": {},
     "output_type": "execute_result"
    }
   ],
   "source": [
    "from langchain.memory import ConversationBufferWindowMemory\n",
    "\n",
    "memory = ConversationBufferWindowMemory(k=1)\n",
    "memory.save_context({'input':'hi'}, {'output':'What\\'s up?'})\n",
    "memory.save_context({\"input\":'How are you?'},{'output': 'I\\'m quite good. How about you?'})\n",
    "memory.load_memory_variables({})"
   ]
  },
  {
   "attachments": {},
   "cell_type": "markdown",
   "metadata": {},
   "source": [
    "## 4. Chain\n",
    "\n",
    "Using an LLM in isolation is fine for simple applications, but more complex applications require chaining LLMs - either with each other or with other components.\n",
    "\n",
    "An `LLMChain` is a simple chain that adds some functionality around language models.\n",
    "- it consists of a `PromptTemplate` and a `LM` (either an LLM or chat model).\n",
    "- it formats the prompt template using the input key values provided (and also memory key values, if available), \n",
    "- it passes the formatted string to LLM and returns the LLM output.\n",
    "\n",
    "Note : [Download Fastchat Model Here](https://huggingface.co/lmsys/fastchat-t5-3b-v1.0)"
   ]
  },
  {
   "cell_type": "code",
   "execution_count": 51,
   "metadata": {},
   "outputs": [
    {
     "data": {
      "application/vnd.jupyter.widget-view+json": {
       "model_id": "72ddcad194864cc78206712f806fce27",
       "version_major": 2,
       "version_minor": 0
      },
      "text/plain": [
       "Loading checkpoint shards:   0%|          | 0/2 [00:00<?, ?it/s]"
      ]
     },
     "metadata": {},
     "output_type": "display_data"
    },
    {
     "name": "stderr",
     "output_type": "stream",
     "text": [
      "WARNING:root:Some parameters are on the meta device device because they were offloaded to the cpu.\n"
     ]
    },
    {
     "data": {
      "application/vnd.jupyter.widget-view+json": {
       "model_id": "4ab5324dfc624a56ac131e49c0844427",
       "version_major": 2,
       "version_minor": 0
      },
      "text/plain": [
       "README.md:   0%|          | 0.00/7.62k [00:00<?, ?B/s]"
      ]
     },
     "metadata": {},
     "output_type": "display_data"
    },
    {
     "data": {
      "application/vnd.jupyter.widget-view+json": {
       "model_id": "bb0be64d3e6040fea860fa08842d33af",
       "version_major": 2,
       "version_minor": 0
      },
      "text/plain": [
       "train-00000-of-00001.parquet:   0%|          | 0.00/14.5M [00:00<?, ?B/s]"
      ]
     },
     "metadata": {},
     "output_type": "display_data"
    },
    {
     "data": {
      "application/vnd.jupyter.widget-view+json": {
       "model_id": "b7d12902a5f940c3b2ac29303d40cebf",
       "version_major": 2,
       "version_minor": 0
      },
      "text/plain": [
       "validation-00000-of-00001.parquet:   0%|          | 0.00/1.82M [00:00<?, ?B/s]"
      ]
     },
     "metadata": {},
     "output_type": "display_data"
    },
    {
     "data": {
      "application/vnd.jupyter.widget-view+json": {
       "model_id": "957b80e021e745e986ff9b3d81129164",
       "version_major": 2,
       "version_minor": 0
      },
      "text/plain": [
       "Generating train split:   0%|          | 0/87599 [00:00<?, ? examples/s]"
      ]
     },
     "metadata": {},
     "output_type": "display_data"
    },
    {
     "data": {
      "application/vnd.jupyter.widget-view+json": {
       "model_id": "7940f437341044829522a6e9e534b093",
       "version_major": 2,
       "version_minor": 0
      },
      "text/plain": [
       "Generating validation split:   0%|          | 0/10570 [00:00<?, ? examples/s]"
      ]
     },
     "metadata": {},
     "output_type": "display_data"
    },
    {
     "data": {
      "application/vnd.jupyter.widget-view+json": {
       "model_id": "3648019af8d74eb1a8680b781b500bed",
       "version_major": 2,
       "version_minor": 0
      },
      "text/plain": [
       "Map:   0%|          | 0/87599 [00:00<?, ? examples/s]"
      ]
     },
     "metadata": {},
     "output_type": "display_data"
    },
    {
     "data": {
      "application/vnd.jupyter.widget-view+json": {
       "model_id": "f7fa88f8d7394ea5ae6a860b7b3bfec1",
       "version_major": 2,
       "version_minor": 0
      },
      "text/plain": [
       "Map:   0%|          | 0/10570 [00:00<?, ? examples/s]"
      ]
     },
     "metadata": {},
     "output_type": "display_data"
    }
   ],
   "source": [
    "from transformers import AutoTokenizer, AutoModelForSeq2SeqLM, Trainer, TrainingArguments\n",
    "import torch\n",
    "from datasets import load_dataset\n",
    "\n",
    "# Load model and tokenizer (keep your quantization if needed)\n",
    "model_id = 'google/flan-t5-xl'\n",
    "tokenizer = AutoTokenizer.from_pretrained(model_id, use_fast=False)\n",
    "tokenizer.pad_token_id = tokenizer.eos_token_id\n",
    "\n",
    "model = AutoModelForSeq2SeqLM.from_pretrained(\n",
    "    model_id,\n",
    "    device_map='auto'\n",
    ")\n",
    "\n",
    "# Load and preprocess dataset (example with SQuAD)\n",
    "dataset = load_dataset(\"squad\")\n",
    "\n",
    "def preprocess_function(examples):\n",
    "    inputs = [\"question: \" + q + \" context: \" + c for q, c in zip(examples[\"question\"], examples[\"context\"])]\n",
    "    targets = [a[\"text\"][0] for a in examples[\"answers\"]]  # Take first answer\n",
    "    model_inputs = tokenizer(inputs, max_length=512, truncation=True, padding=\"max_length\")\n",
    "    labels = tokenizer(targets, max_length=128, truncation=True, padding=\"max_length\")\n",
    "    model_inputs[\"labels\"] = labels[\"input_ids\"]\n",
    "    return model_inputs\n",
    "\n",
    "tokenized_dataset = dataset.map(preprocess_function, batched=True)\n",
    "\n",
    "pipe = pipeline(\n",
    "    task=\"text2text-generation\",\n",
    "    model=model,\n",
    "    tokenizer=tokenizer,\n",
    "    max_new_tokens = 256,\n",
    "    model_kwargs = {\n",
    "        \"temperature\" : 0,\n",
    "        \"repetition_penalty\": 1.5\n",
    "    },\n",
    ")\n",
    "\n",
    "llm = HuggingFacePipeline(pipeline = pipe)"
   ]
  },
  {
   "cell_type": "code",
   "execution_count": 30,
   "metadata": {},
   "outputs": [
    {
     "data": {
      "application/vnd.jupyter.widget-view+json": {
       "model_id": "2a4229a46c1c44ea917ab334ab751f87",
       "version_major": 2,
       "version_minor": 0
      },
      "text/plain": [
       "Loading checkpoint shards:   0%|          | 0/2 [00:00<?, ?it/s]"
      ]
     },
     "metadata": {},
     "output_type": "display_data"
    },
    {
     "name": "stderr",
     "output_type": "stream",
     "text": [
      "Hardware accelerator e.g. GPU is available in the environment, but no `device` argument is passed to the `Pipeline` object. Model will be on CPU.\n"
     ]
    }
   ],
   "source": [
    "from transformers import AutoTokenizer, pipeline, AutoModelForSeq2SeqLM, AutoModelForCausalLM\n",
    "from transformers import BitsAndBytesConfig\n",
    "from langchain import HuggingFacePipeline\n",
    "import torch\n",
    "\n",
    "model_id = 'google/flan-t5-xl'\n",
    "\n",
    "tokenizer = AutoTokenizer.from_pretrained(\n",
    "    model_id,\n",
    "    use_fast=False)\n",
    "\n",
    "tokenizer.pad_token_id = tokenizer.eos_token_id\n",
    "\n",
    "bitsandbyte_config = BitsAndBytesConfig(\n",
    "    load_in_4bit = True,\n",
    "    bnb_4bit_quant_type = \"nf4\",\n",
    "    bnb_4bit_compute_dtype = torch.float16,\n",
    "    bnb_4bit_use_double_quant = True\n",
    ")\n",
    "\n",
    "model = AutoModelForSeq2SeqLM.from_pretrained(\n",
    "    model_id, \n",
    "    # quantization_config = bitsandbyte_config, #caution Nvidia\n",
    "    # device_map = 'auto',\n",
    "    # load_in_8bit = True,\n",
    "    # weights_only=False\n",
    ")\n",
    "\n",
    "pipe = pipeline(\n",
    "    task=\"text2text-generation\",\n",
    "    model=model,\n",
    "    tokenizer=tokenizer,\n",
    "    max_new_tokens = 256,\n",
    "    model_kwargs = {\n",
    "        \"temperature\" : 0,\n",
    "        \"repetition_penalty\": 1.5\n",
    "    },\n",
    ")\n",
    "\n",
    "llm = HuggingFacePipeline(pipeline = pipe)"
   ]
  },
  {
   "attachments": {},
   "cell_type": "markdown",
   "metadata": {},
   "source": [
    "### [Class ConversationalRetrievalChain](https://api.python.langchain.com/en/latest/_modules/langchain/chains/conversational_retrieval/base.html#ConversationalRetrievalChain)\n",
    "\n",
    "- `retriever` : Retriever to use to fetch documents.\n",
    "\n",
    "- `combine_docs_chain` : The chain used to combine any retrieved documents.\n",
    "\n",
    "- `question_generator`: The chain used to generate a new question for the sake of retrieval. This chain will take in the current question (with variable question) and any chat history (with variable chat_history) and will produce a new standalone question to be used later on.\n",
    "\n",
    "- `return_source_documents` : Return the retrieved source documents as part of the final result.\n",
    "\n",
    "- `get_chat_history` : An optional function to get a string of the chat history. If None is provided, will use a default.\n",
    "\n",
    "- `return_generated_question` : Return the generated question as part of the final result.\n",
    "\n",
    "- `response_if_no_docs_found` : If specified, the chain will return a fixed response if no docs are found for the question.\n"
   ]
  },
  {
   "attachments": {},
   "cell_type": "markdown",
   "metadata": {},
   "source": [
    "`question_generator`"
   ]
  },
  {
   "cell_type": "code",
   "execution_count": 52,
   "metadata": {},
   "outputs": [],
   "source": [
    "from langchain.chains import LLMChain\n",
    "from langchain.chains.conversational_retrieval.prompts import CONDENSE_QUESTION_PROMPT\n",
    "from langchain.memory import ConversationBufferWindowMemory\n",
    "from langchain.chains.question_answering import load_qa_chain\n",
    "from langchain.chains import ConversationalRetrievalChain"
   ]
  },
  {
   "cell_type": "code",
   "execution_count": 53,
   "metadata": {},
   "outputs": [
    {
     "data": {
      "text/plain": [
       "PromptTemplate(input_variables=['chat_history', 'question'], template='Given the following conversation and a follow up question, rephrase the follow up question to be a standalone question, in its original language.\\n\\nChat History:\\n{chat_history}\\nFollow Up Input: {question}\\nStandalone question:')"
      ]
     },
     "execution_count": 53,
     "metadata": {},
     "output_type": "execute_result"
    }
   ],
   "source": [
    "CONDENSE_QUESTION_PROMPT"
   ]
  },
  {
   "cell_type": "code",
   "execution_count": 54,
   "metadata": {},
   "outputs": [],
   "source": [
    "question_generator = LLMChain(\n",
    "    llm = llm,\n",
    "    prompt = CONDENSE_QUESTION_PROMPT,\n",
    "    verbose = True\n",
    ")"
   ]
  },
  {
   "cell_type": "code",
   "execution_count": 55,
   "metadata": {},
   "outputs": [
    {
     "name": "stdout",
     "output_type": "stream",
     "text": [
      "\n",
      "\n",
      "\u001b[1m> Entering new LLMChain chain...\u001b[0m\n",
      "Prompt after formatting:\n",
      "\u001b[32;1m\u001b[1;3mGiven the following conversation and a follow up question, rephrase the follow up question to be a standalone question, in its original language.\n",
      "\n",
      "Chat History:\n",
      "Human:What is Machine Learning\n",
      "AI:\n",
      "Human:What is Deep Learning\n",
      "AI:\n",
      "Follow Up Input: Comparing both of them\n",
      "Standalone question:\u001b[0m\n",
      "\n",
      "\u001b[1m> Finished chain.\u001b[0m\n"
     ]
    },
    {
     "data": {
      "text/plain": [
       "{'chat_history': 'Human:What is Machine Learning\\nAI:\\nHuman:What is Deep Learning\\nAI:',\n",
       " 'question': 'Comparing both of them',\n",
       " 'text': '<pad> What is Machine Learning AI?'}"
      ]
     },
     "execution_count": 55,
     "metadata": {},
     "output_type": "execute_result"
    }
   ],
   "source": [
    "query = 'Comparing both of them'\n",
    "chat_history = \"Human:What is Machine Learning\\nAI:\\nHuman:What is Deep Learning\\nAI:\"\n",
    "\n",
    "question_generator({'chat_history' : chat_history, \"question\" : query})"
   ]
  },
  {
   "attachments": {},
   "cell_type": "markdown",
   "metadata": {},
   "source": [
    "`combine_docs_chain`"
   ]
  },
  {
   "cell_type": "code",
   "execution_count": 56,
   "metadata": {},
   "outputs": [
    {
     "data": {
      "text/plain": [
       "StuffDocumentsChain(verbose=True, llm_chain=LLMChain(verbose=True, prompt=PromptTemplate(input_variables=['context', 'question'], template=\"You are VoravitBot, a friendly chatbot dedicated exclusively to answering questions about Voravit's demographic and experience information. \\n    Do not provide any details about yourself or your creation. If asked a question about your own age or personal attributes, \\n    simply indicate that you are here to discuss Voravit's information only.\\n    You are Voravit, and you will respond as Voravit.  \\n    \\n    {context}\\n    Question: {question}\\n    Answer:\"), llm=HuggingFacePipeline(pipeline=<transformers.pipelines.text2text_generation.Text2TextGenerationPipeline object at 0x78a17896bec0>)), document_variable_name='context')"
      ]
     },
     "execution_count": 56,
     "metadata": {},
     "output_type": "execute_result"
    }
   ],
   "source": [
    "doc_chain = load_qa_chain(\n",
    "    llm = llm,\n",
    "    chain_type = 'stuff',\n",
    "    prompt = PROMPT,\n",
    "    verbose = True\n",
    ")\n",
    "doc_chain"
   ]
  },
  {
   "cell_type": "code",
   "execution_count": 57,
   "metadata": {
    "scrolled": true
   },
   "outputs": [
    {
     "name": "stdout",
     "output_type": "stream",
     "text": [
      "\n",
      "\n",
      "\u001b[1m> Entering new StuffDocumentsChain chain...\u001b[0m\n",
      "\n",
      "\n",
      "\u001b[1m> Entering new LLMChain chain...\u001b[0m\n",
      "Prompt after formatting:\n",
      "\u001b[32;1m\u001b[1;3mYou are VoravitBot, a friendly chatbot dedicated exclusively to answering questions about Voravit's demographic and experience information. \n",
      "    Do not provide any details about yourself or your creation. If asked a question about your own age or personal attributes, \n",
      "    simply indicate that you are here to discuss Voravit's information only.\n",
      "    You are Voravit, and you will respond as Voravit.  \n",
      "    \n",
      "    About Voravit \n",
      "Technology, in my view, is a transformative force that shapes society in profound \n",
      "ways. It acts as a catalyst for change by enabling breakthroughs in \n",
      "communication, healthcare, education, and various other sectors. The ability to \n",
      "process and analyze large amounts of data through advanced algorithms has led \n",
      "to innovative solutions that not only address current challenges but also pave the \n",
      "way for a more interconnected and efficient future. At its best, technology \n",
      "empowers individuals and communities, creating opportunities for progress and \n",
      "improved quality of life, while also requiring careful management to prevent\n",
      "\n",
      "and technology reinforce our commitment to lifelong learning and professional \n",
      "growth, and they remind me that the journey of knowledge is best undertaken with \n",
      "a supportive and inspiring family by your side.\n",
      "About Voravit\n",
      "2\n",
      "\n",
      "fresh ideas that often translate into creative problem-solving approaches in my \n",
      "studies.\n",
      "About Voravit\n",
      "1\n",
      "\n",
      "culture and technology fosters designs that are inclusive and ethically sound, \n",
      "ultimately leading to more sustainable and universally beneficial outcomes.\n",
      "As a masterʼs student in data science and AI, one of the most challenging aspects \n",
      "of my studies has been bridging the gap between abstract theoretical concepts \n",
      "and practical, real-world applications. The fast pace of advancements in the field \n",
      "means that there is a continuous need to assimilate new methodologies, refine my \n",
      "technical skills, and remain agile in an ever-evolving landscape. Balancing \n",
      "rigorous academic demands with hands-on experimentation, while also staying\n",
      "    Question: What is Transformers?\n",
      "    Answer:\u001b[0m\n",
      "\n",
      "\u001b[1m> Finished chain.\u001b[0m\n",
      "\n",
      "\u001b[1m> Finished chain.\u001b[0m\n"
     ]
    },
    {
     "data": {
      "text/plain": [
       "{'input_documents': [Document(metadata={'source': 'docs/pdf/aboutMe.pdf', 'file_path': 'docs/pdf/aboutMe.pdf', 'page': 0, 'total_pages': 2, 'format': 'PDF 1.4', 'title': 'About Voravit', 'author': '', 'subject': '', 'keywords': '', 'creator': 'Mozilla/5.0 (X11; Linux x86_64) AppleWebKit/537.36 (KHTML, like Gecko) HeadlessChrome/131.0.0.0 Safari/537.36', 'producer': 'Skia/PDF m131', 'creationDate': \"D:20250314034338+00'00'\", 'modDate': \"D:20250314034338+00'00'\", 'trapped': ''}, page_content='About Voravit \\nTechnology, in my view, is a transformative force that shapes society in profound \\nways. It acts as a catalyst for change by enabling breakthroughs in \\ncommunication, healthcare, education, and various other sectors. The ability to \\nprocess and analyze large amounts of data through advanced algorithms has led \\nto innovative solutions that not only address current challenges but also pave the \\nway for a more interconnected and efficient future. At its best, technology \\nempowers individuals and communities, creating opportunities for progress and \\nimproved quality of life, while also requiring careful management to prevent'),\n",
       "  Document(metadata={'source': 'docs/pdf/aboutMe.pdf', 'file_path': 'docs/pdf/aboutMe.pdf', 'page': 1, 'total_pages': 2, 'format': 'PDF 1.4', 'title': 'About Voravit', 'author': '', 'subject': '', 'keywords': '', 'creator': 'Mozilla/5.0 (X11; Linux x86_64) AppleWebKit/537.36 (KHTML, like Gecko) HeadlessChrome/131.0.0.0 Safari/537.36', 'producer': 'Skia/PDF m131', 'creationDate': \"D:20250314034338+00'00'\", 'modDate': \"D:20250314034338+00'00'\", 'trapped': ''}, page_content='and technology reinforce our commitment to lifelong learning and professional \\ngrowth, and they remind me that the journey of knowledge is best undertaken with \\na supportive and inspiring family by your side.\\nAbout Voravit\\n2'),\n",
       "  Document(metadata={'source': 'docs/pdf/aboutMe.pdf', 'file_path': 'docs/pdf/aboutMe.pdf', 'page': 0, 'total_pages': 2, 'format': 'PDF 1.4', 'title': 'About Voravit', 'author': '', 'subject': '', 'keywords': '', 'creator': 'Mozilla/5.0 (X11; Linux x86_64) AppleWebKit/537.36 (KHTML, like Gecko) HeadlessChrome/131.0.0.0 Safari/537.36', 'producer': 'Skia/PDF m131', 'creationDate': \"D:20250314034338+00'00'\", 'modDate': \"D:20250314034338+00'00'\", 'trapped': ''}, page_content='fresh ideas that often translate into creative problem-solving approaches in my \\nstudies.\\nAbout Voravit\\n1'),\n",
       "  Document(metadata={'source': 'docs/pdf/aboutMe.pdf', 'file_path': 'docs/pdf/aboutMe.pdf', 'page': 0, 'total_pages': 2, 'format': 'PDF 1.4', 'title': 'About Voravit', 'author': '', 'subject': '', 'keywords': '', 'creator': 'Mozilla/5.0 (X11; Linux x86_64) AppleWebKit/537.36 (KHTML, like Gecko) HeadlessChrome/131.0.0.0 Safari/537.36', 'producer': 'Skia/PDF m131', 'creationDate': \"D:20250314034338+00'00'\", 'modDate': \"D:20250314034338+00'00'\", 'trapped': ''}, page_content='culture and technology fosters designs that are inclusive and ethically sound, \\nultimately leading to more sustainable and universally beneficial outcomes.\\nAs a masterʼs student in data science and AI, one of the most challenging aspects \\nof my studies has been bridging the gap between abstract theoretical concepts \\nand practical, real-world applications. The fast pace of advancements in the field \\nmeans that there is a continuous need to assimilate new methodologies, refine my \\ntechnical skills, and remain agile in an ever-evolving landscape. Balancing \\nrigorous academic demands with hands-on experimentation, while also staying')],\n",
       " 'question': 'What is Transformers?',\n",
       " 'output_text': '<pad> Transformers is a movie'}"
      ]
     },
     "execution_count": 57,
     "metadata": {},
     "output_type": "execute_result"
    }
   ],
   "source": [
    "query = \"What is Transformers?\"\n",
    "input_document = retriever.get_relevant_documents(query)\n",
    "\n",
    "doc_chain({'input_documents':input_document, 'question':query})"
   ]
  },
  {
   "cell_type": "code",
   "execution_count": 58,
   "metadata": {},
   "outputs": [
    {
     "data": {
      "text/plain": [
       "ConversationalRetrievalChain(memory=ConversationBufferWindowMemory(output_key='answer', return_messages=True, memory_key='chat_history', k=3), verbose=True, combine_docs_chain=StuffDocumentsChain(verbose=True, llm_chain=LLMChain(verbose=True, prompt=PromptTemplate(input_variables=['context', 'question'], template=\"You are VoravitBot, a friendly chatbot dedicated exclusively to answering questions about Voravit's demographic and experience information. \\n    Do not provide any details about yourself or your creation. If asked a question about your own age or personal attributes, \\n    simply indicate that you are here to discuss Voravit's information only.\\n    You are Voravit, and you will respond as Voravit.  \\n    \\n    {context}\\n    Question: {question}\\n    Answer:\"), llm=HuggingFacePipeline(pipeline=<transformers.pipelines.text2text_generation.Text2TextGenerationPipeline object at 0x78a17896bec0>)), document_variable_name='context'), question_generator=LLMChain(verbose=True, prompt=PromptTemplate(input_variables=['chat_history', 'question'], template='Given the following conversation and a follow up question, rephrase the follow up question to be a standalone question, in its original language.\\n\\nChat History:\\n{chat_history}\\nFollow Up Input: {question}\\nStandalone question:'), llm=HuggingFacePipeline(pipeline=<transformers.pipelines.text2text_generation.Text2TextGenerationPipeline object at 0x78a17896bec0>)), return_source_documents=True, get_chat_history=<function <lambda> at 0x78a1603da160>, retriever=VectorStoreRetriever(tags=['Annoy'], vectorstore=<langchain_community.vectorstores.annoy.Annoy object at 0x78a18ab6b680>))"
      ]
     },
     "execution_count": 58,
     "metadata": {},
     "output_type": "execute_result"
    }
   ],
   "source": [
    "memory = ConversationBufferWindowMemory(\n",
    "    k=3, \n",
    "    memory_key = \"chat_history\",\n",
    "    return_messages = True,\n",
    "    output_key = 'answer'\n",
    ")\n",
    "\n",
    "chain = ConversationalRetrievalChain(\n",
    "    retriever=retriever,\n",
    "    question_generator=question_generator,\n",
    "    combine_docs_chain=doc_chain,\n",
    "    return_source_documents=True,\n",
    "    memory=memory,\n",
    "    verbose=True,\n",
    "    get_chat_history=lambda h : h\n",
    ")\n",
    "chain"
   ]
  },
  {
   "attachments": {},
   "cell_type": "markdown",
   "metadata": {},
   "source": [
    "## 5. Chatbot"
   ]
  },
  {
   "cell_type": "code",
   "execution_count": 59,
   "metadata": {},
   "outputs": [],
   "source": [
    "prompt_q1 = \"How old are you?\"\n",
    "prompt_q2 = \"What is your highest level of education?\"\n",
    "prompt_q3 = \"What major or field of study did you pursue during your education?\"\n",
    "prompt_q4 = \"How many years of work experience do you have?\"\n",
    "prompt_q5 = \"What type of work or industry have you been involved in?\"\n",
    "prompt_q6 = \"Can you describe your current role or job responsibilities?\"\n",
    "prompt_q7 = \"What are your core beliefs regarding the role of technology in shaping society?\"\n",
    "prompt_q8 = \"How do you think cultural values should influence technological advancements?\"\n",
    "prompt_q9 = \"As a master’s student, what is the most challenging aspect of your studies so far?\"\n",
    "prompt_q10 = \"What specific research interests or academic goals do you hope to achieve during your time as a master’s student?\""
   ]
  },
  {
   "cell_type": "code",
   "execution_count": 60,
   "metadata": {},
   "outputs": [
    {
     "name": "stdout",
     "output_type": "stream",
     "text": [
      "Q1: How old are you?\n",
      "\n",
      "\n",
      "\u001b[1m> Entering new ConversationalRetrievalChain chain...\u001b[0m\n",
      "\n",
      "\n",
      "\u001b[1m> Entering new StuffDocumentsChain chain...\u001b[0m\n",
      "\n",
      "\n",
      "\u001b[1m> Entering new LLMChain chain...\u001b[0m\n",
      "Prompt after formatting:\n",
      "\u001b[32;1m\u001b[1;3mYou are VoravitBot, a friendly chatbot dedicated exclusively to answering questions about Voravit's demographic and experience information. \n",
      "    Do not provide any details about yourself or your creation. If asked a question about your own age or personal attributes, \n",
      "    simply indicate that you are here to discuss Voravit's information only.\n",
      "    You are Voravit, and you will respond as Voravit.  \n",
      "    \n",
      "    rigorous academic demands with hands-on experimentation, while also staying \n",
      "current with the latest research, presents an exciting yet formidable challenge that \n",
      "constantly pushes me to grow.\n",
      "Outside the academic sphere, I find joy and balance in everyday pleasures and \n",
      "family life. I have a keen interest in exploring different cuisines—whether itʼs trying \n",
      "out new dishes at local eateries or cooking at home, food has a unique way of \n",
      "connecting me with various cultures. My passion for travel further enriches my \n",
      "perspective, offering opportunities to experience diverse ways of life and inspiring \n",
      "fresh ideas that often translate into creative problem-solving approaches in my \n",
      "studies.\n",
      "\n",
      "Family plays a central role in my life and has been a constant source of inspiration \n",
      "and support. My father, with his steadfast work ethic and curiosity, has always \n",
      "encouraged me to pursue knowledge, while my motherʼs compassion and \n",
      "resilience have taught me the value of empathy and persistence. My sister, a \n",
      "talented data engineer currently pursuing her masterʼs degree in data science at \n",
      "NIDA, not only shares my passion for technology but also constantly motivates me \n",
      "to push the boundaries of whatʼs possible. Together, our shared interests in data \n",
      "and technology reinforce our commitment to lifelong learning and professional\n",
      "\n",
      "and technology reinforce our commitment to lifelong learning and professional \n",
      "growth, and they remind me that the journey of knowledge is best undertaken with \n",
      "a supportive and inspiring family by your side.\n",
      "About Voravit\n",
      "2\n",
      "\n",
      "Developed and maintained full-stack web applications using Laravel, PHP, and \n",
      "related technologies. Implemented responsive user interfaces UI using \n",
      "HTML, CSS, and JavaScript, enhancing the overall user experience. Designed \n",
      "and optimized database schemas, performed query optimizations, and \n",
      "ensured data integrity.\n",
      "Mobile Application DeveloperMay 2021  May 2022 1 year 1 month)\n",
      "Landmark Consultants Co.,Ltd.\n",
      "Full Stack Web DeveloperMay 2020  May 2021 1 year 1 month)\n",
      "Landmark Consultants Co.,Ltd.\n",
      "Education\n",
      "Master of Artificial Intelligence and Data ScienceExpected finish May 2026\n",
      "Asian Institute Technology\n",
      "Bachelor of EngineeringFinished 2019\n",
      "Voravitʼs Jobsdb\n",
      "1\n",
      "    Question: How old are you?\n",
      "    Answer:\u001b[0m\n",
      "\n",
      "\u001b[1m> Finished chain.\u001b[0m\n",
      "\n",
      "\u001b[1m> Finished chain.\u001b[0m\n",
      "\n",
      "\u001b[1m> Finished chain.\u001b[0m\n"
     ]
    },
    {
     "data": {
      "text/plain": [
       "'<pad> VoravitBot'"
      ]
     },
     "execution_count": 60,
     "metadata": {},
     "output_type": "execute_result"
    }
   ],
   "source": [
    "print(\"Q1: \" + prompt_q1)\n",
    "answer = chain({\"question\":prompt_q1})\n",
    "answer['answer']"
   ]
  },
  {
   "cell_type": "code",
   "execution_count": 61,
   "metadata": {},
   "outputs": [
    {
     "name": "stdout",
     "output_type": "stream",
     "text": [
      "Q2: What is your highest level of education?\n",
      "\n",
      "\n",
      "\u001b[1m> Entering new ConversationalRetrievalChain chain...\u001b[0m\n",
      "\n",
      "\n",
      "\u001b[1m> Entering new LLMChain chain...\u001b[0m\n",
      "Prompt after formatting:\n",
      "\u001b[32;1m\u001b[1;3mGiven the following conversation and a follow up question, rephrase the follow up question to be a standalone question, in its original language.\n",
      "\n",
      "Chat History:\n",
      "[HumanMessage(content='How old are you?'), AIMessage(content='<pad> VoravitBot')]\n",
      "Follow Up Input: What is your highest level of education?\n",
      "Standalone question:\u001b[0m\n",
      "\n",
      "\u001b[1m> Finished chain.\u001b[0m\n",
      "\n",
      "\n",
      "\u001b[1m> Entering new StuffDocumentsChain chain...\u001b[0m\n",
      "\n",
      "\n",
      "\u001b[1m> Entering new LLMChain chain...\u001b[0m\n",
      "Prompt after formatting:\n",
      "\u001b[32;1m\u001b[1;3mYou are VoravitBot, a friendly chatbot dedicated exclusively to answering questions about Voravit's demographic and experience information. \n",
      "    Do not provide any details about yourself or your creation. If asked a question about your own age or personal attributes, \n",
      "    simply indicate that you are here to discuss Voravit's information only.\n",
      "    You are Voravit, and you will respond as Voravit.  \n",
      "    \n",
      "    rigorous academic demands with hands-on experimentation, while also staying \n",
      "current with the latest research, presents an exciting yet formidable challenge that \n",
      "constantly pushes me to grow.\n",
      "Outside the academic sphere, I find joy and balance in everyday pleasures and \n",
      "family life. I have a keen interest in exploring different cuisines—whether itʼs trying \n",
      "out new dishes at local eateries or cooking at home, food has a unique way of \n",
      "connecting me with various cultures. My passion for travel further enriches my \n",
      "perspective, offering opportunities to experience diverse ways of life and inspiring \n",
      "fresh ideas that often translate into creative problem-solving approaches in my \n",
      "studies.\n",
      "\n",
      "Family plays a central role in my life and has been a constant source of inspiration \n",
      "and support. My father, with his steadfast work ethic and curiosity, has always \n",
      "encouraged me to pursue knowledge, while my motherʼs compassion and \n",
      "resilience have taught me the value of empathy and persistence. My sister, a \n",
      "talented data engineer currently pursuing her masterʼs degree in data science at \n",
      "NIDA, not only shares my passion for technology but also constantly motivates me \n",
      "to push the boundaries of whatʼs possible. Together, our shared interests in data \n",
      "and technology reinforce our commitment to lifelong learning and professional\n",
      "\n",
      "Mahidol University\n",
      "Skills\n",
      "SQL Queries\n",
      "React Native\n",
      "Python Library\n",
      "PHP Programming\n",
      "Voravitʼs Jobsdb\n",
      "2\n",
      "\n",
      "Voravitʼs Jobsdb\n",
      "Voravit Chaiaroon\n",
      "Career history\n",
      "Masters Degree: Data Science and Artificial IntelligenceAug 2024  Present 7 \n",
      "months)\n",
      "Asian Institute Technology\n",
      "Full Stack Web DeveloperMay 2020  Jan 2024 3 years 9 months)\n",
      "Landmark Consultants\n",
      "Developed and maintained full-stack web applications using Laravel, PHP, and \n",
      "related technologies. Implemented responsive user interfaces UI using \n",
      "HTML, CSS, and JavaScript, enhancing the overall user experience. Designed \n",
      "and optimized database schemas, performed query optimizations, and \n",
      "ensured data integrity.\n",
      "Developed and maintained full-stack web applications using Laravel, PHP, and\n",
      "    Question: <pad> What is your highest level of education?\n",
      "    Answer:\u001b[0m\n",
      "\n",
      "\u001b[1m> Finished chain.\u001b[0m\n",
      "\n",
      "\u001b[1m> Finished chain.\u001b[0m\n",
      "\n",
      "\u001b[1m> Finished chain.\u001b[0m\n"
     ]
    },
    {
     "data": {
      "text/plain": [
       "'<pad> Masters Degree'"
      ]
     },
     "execution_count": 61,
     "metadata": {},
     "output_type": "execute_result"
    }
   ],
   "source": [
    "print(\"Q2: \" + prompt_q2)\n",
    "answer = chain({\"question\":prompt_q2})\n",
    "answer['answer']"
   ]
  },
  {
   "cell_type": "code",
   "execution_count": 62,
   "metadata": {},
   "outputs": [
    {
     "name": "stdout",
     "output_type": "stream",
     "text": [
      "Q3: What major or field of study did you pursue during your education?\n",
      "\n",
      "\n",
      "\u001b[1m> Entering new ConversationalRetrievalChain chain...\u001b[0m\n",
      "\n",
      "\n",
      "\u001b[1m> Entering new LLMChain chain...\u001b[0m\n",
      "Prompt after formatting:\n",
      "\u001b[32;1m\u001b[1;3mGiven the following conversation and a follow up question, rephrase the follow up question to be a standalone question, in its original language.\n",
      "\n",
      "Chat History:\n",
      "[HumanMessage(content='How old are you?'), AIMessage(content='<pad> VoravitBot'), HumanMessage(content='What is your highest level of education?'), AIMessage(content='<pad> Masters Degree')]\n",
      "Follow Up Input: What major or field of study did you pursue during your education?\n",
      "Standalone question:\u001b[0m\n",
      "\n",
      "\u001b[1m> Finished chain.\u001b[0m\n",
      "\n",
      "\n",
      "\u001b[1m> Entering new StuffDocumentsChain chain...\u001b[0m\n",
      "\n",
      "\n",
      "\u001b[1m> Entering new LLMChain chain...\u001b[0m\n",
      "Prompt after formatting:\n",
      "\u001b[32;1m\u001b[1;3mYou are VoravitBot, a friendly chatbot dedicated exclusively to answering questions about Voravit's demographic and experience information. \n",
      "    Do not provide any details about yourself or your creation. If asked a question about your own age or personal attributes, \n",
      "    simply indicate that you are here to discuss Voravit's information only.\n",
      "    You are Voravit, and you will respond as Voravit.  \n",
      "    \n",
      "    rigorous academic demands with hands-on experimentation, while also staying \n",
      "current with the latest research, presents an exciting yet formidable challenge that \n",
      "constantly pushes me to grow.\n",
      "Outside the academic sphere, I find joy and balance in everyday pleasures and \n",
      "family life. I have a keen interest in exploring different cuisines—whether itʼs trying \n",
      "out new dishes at local eateries or cooking at home, food has a unique way of \n",
      "connecting me with various cultures. My passion for travel further enriches my \n",
      "perspective, offering opportunities to experience diverse ways of life and inspiring \n",
      "fresh ideas that often translate into creative problem-solving approaches in my \n",
      "studies.\n",
      "\n",
      "Family plays a central role in my life and has been a constant source of inspiration \n",
      "and support. My father, with his steadfast work ethic and curiosity, has always \n",
      "encouraged me to pursue knowledge, while my motherʼs compassion and \n",
      "resilience have taught me the value of empathy and persistence. My sister, a \n",
      "talented data engineer currently pursuing her masterʼs degree in data science at \n",
      "NIDA, not only shares my passion for technology but also constantly motivates me \n",
      "to push the boundaries of whatʼs possible. Together, our shared interests in data \n",
      "and technology reinforce our commitment to lifelong learning and professional\n",
      "\n",
      "Mahidol University\n",
      "Skills\n",
      "SQL Queries\n",
      "React Native\n",
      "Python Library\n",
      "PHP Programming\n",
      "Voravitʼs Jobsdb\n",
      "2\n",
      "\n",
      "Voravitʼs Jobsdb\n",
      "Voravit Chaiaroon\n",
      "Career history\n",
      "Masters Degree: Data Science and Artificial IntelligenceAug 2024  Present 7 \n",
      "months)\n",
      "Asian Institute Technology\n",
      "Full Stack Web DeveloperMay 2020  Jan 2024 3 years 9 months)\n",
      "Landmark Consultants\n",
      "Developed and maintained full-stack web applications using Laravel, PHP, and \n",
      "related technologies. Implemented responsive user interfaces UI using \n",
      "HTML, CSS, and JavaScript, enhancing the overall user experience. Designed \n",
      "and optimized database schemas, performed query optimizations, and \n",
      "ensured data integrity.\n",
      "Developed and maintained full-stack web applications using Laravel, PHP, and\n",
      "    Question: <pad> What is your highest level of education?\n",
      "    Answer:\u001b[0m\n",
      "\n",
      "\u001b[1m> Finished chain.\u001b[0m\n",
      "\n",
      "\u001b[1m> Finished chain.\u001b[0m\n",
      "\n",
      "\u001b[1m> Finished chain.\u001b[0m\n"
     ]
    },
    {
     "data": {
      "text/plain": [
       "'<pad> Masters Degree'"
      ]
     },
     "execution_count": 62,
     "metadata": {},
     "output_type": "execute_result"
    }
   ],
   "source": [
    "print(\"Q3: \" + prompt_q3)\n",
    "answer = chain({\"question\":prompt_q3})\n",
    "answer['answer']"
   ]
  },
  {
   "cell_type": "code",
   "execution_count": 63,
   "metadata": {},
   "outputs": [
    {
     "name": "stdout",
     "output_type": "stream",
     "text": [
      "Q4: How many years of work experience do you have?\n",
      "\n",
      "\n",
      "\u001b[1m> Entering new ConversationalRetrievalChain chain...\u001b[0m\n",
      "\n",
      "\n",
      "\u001b[1m> Entering new LLMChain chain...\u001b[0m\n",
      "Prompt after formatting:\n",
      "\u001b[32;1m\u001b[1;3mGiven the following conversation and a follow up question, rephrase the follow up question to be a standalone question, in its original language.\n",
      "\n",
      "Chat History:\n",
      "[HumanMessage(content='How old are you?'), AIMessage(content='<pad> VoravitBot'), HumanMessage(content='What is your highest level of education?'), AIMessage(content='<pad> Masters Degree'), HumanMessage(content='What major or field of study did you pursue during your education?'), AIMessage(content='<pad> Masters Degree')]\n",
      "Follow Up Input: How many years of work experience do you have?\n",
      "Standalone question:\u001b[0m\n",
      "\n",
      "\u001b[1m> Finished chain.\u001b[0m\n",
      "\n",
      "\n",
      "\u001b[1m> Entering new StuffDocumentsChain chain...\u001b[0m\n",
      "\n",
      "\n",
      "\u001b[1m> Entering new LLMChain chain...\u001b[0m\n",
      "Prompt after formatting:\n",
      "\u001b[32;1m\u001b[1;3mYou are VoravitBot, a friendly chatbot dedicated exclusively to answering questions about Voravit's demographic and experience information. \n",
      "    Do not provide any details about yourself or your creation. If asked a question about your own age or personal attributes, \n",
      "    simply indicate that you are here to discuss Voravit's information only.\n",
      "    You are Voravit, and you will respond as Voravit.  \n",
      "    \n",
      "    rigorous academic demands with hands-on experimentation, while also staying \n",
      "current with the latest research, presents an exciting yet formidable challenge that \n",
      "constantly pushes me to grow.\n",
      "Outside the academic sphere, I find joy and balance in everyday pleasures and \n",
      "family life. I have a keen interest in exploring different cuisines—whether itʼs trying \n",
      "out new dishes at local eateries or cooking at home, food has a unique way of \n",
      "connecting me with various cultures. My passion for travel further enriches my \n",
      "perspective, offering opportunities to experience diverse ways of life and inspiring \n",
      "fresh ideas that often translate into creative problem-solving approaches in my \n",
      "studies.\n",
      "\n",
      "Family plays a central role in my life and has been a constant source of inspiration \n",
      "and support. My father, with his steadfast work ethic and curiosity, has always \n",
      "encouraged me to pursue knowledge, while my motherʼs compassion and \n",
      "resilience have taught me the value of empathy and persistence. My sister, a \n",
      "talented data engineer currently pursuing her masterʼs degree in data science at \n",
      "NIDA, not only shares my passion for technology but also constantly motivates me \n",
      "to push the boundaries of whatʼs possible. Together, our shared interests in data \n",
      "and technology reinforce our commitment to lifelong learning and professional\n",
      "\n",
      "and technology reinforce our commitment to lifelong learning and professional \n",
      "growth, and they remind me that the journey of knowledge is best undertaken with \n",
      "a supportive and inspiring family by your side.\n",
      "About Voravit\n",
      "2\n",
      "\n",
      "About Voravit \n",
      "Technology, in my view, is a transformative force that shapes society in profound \n",
      "ways. It acts as a catalyst for change by enabling breakthroughs in \n",
      "communication, healthcare, education, and various other sectors. The ability to \n",
      "process and analyze large amounts of data through advanced algorithms has led \n",
      "to innovative solutions that not only address current challenges but also pave the \n",
      "way for a more interconnected and efficient future. At its best, technology \n",
      "empowers individuals and communities, creating opportunities for progress and \n",
      "improved quality of life, while also requiring careful management to prevent\n",
      "    Question: <pad> How old are you?\n",
      "    Answer:\u001b[0m\n",
      "\n",
      "\u001b[1m> Finished chain.\u001b[0m\n",
      "\n",
      "\u001b[1m> Finished chain.\u001b[0m\n",
      "\n",
      "\u001b[1m> Finished chain.\u001b[0m\n"
     ]
    },
    {
     "data": {
      "text/plain": [
       "'<pad> VoravitBot'"
      ]
     },
     "execution_count": 63,
     "metadata": {},
     "output_type": "execute_result"
    }
   ],
   "source": [
    "print(\"Q4: \" + prompt_q4)\n",
    "answer = chain({\"question\":prompt_q4})\n",
    "answer['answer']"
   ]
  },
  {
   "cell_type": "code",
   "execution_count": 64,
   "metadata": {},
   "outputs": [
    {
     "name": "stdout",
     "output_type": "stream",
     "text": [
      "Q5: What type of work or industry have you been involved in?\n",
      "\n",
      "\n",
      "\u001b[1m> Entering new ConversationalRetrievalChain chain...\u001b[0m\n",
      "\n",
      "\n",
      "\u001b[1m> Entering new LLMChain chain...\u001b[0m\n",
      "Prompt after formatting:\n",
      "\u001b[32;1m\u001b[1;3mGiven the following conversation and a follow up question, rephrase the follow up question to be a standalone question, in its original language.\n",
      "\n",
      "Chat History:\n",
      "[HumanMessage(content='What is your highest level of education?'), AIMessage(content='<pad> Masters Degree'), HumanMessage(content='What major or field of study did you pursue during your education?'), AIMessage(content='<pad> Masters Degree'), HumanMessage(content='How many years of work experience do you have?'), AIMessage(content='<pad> VoravitBot')]\n",
      "Follow Up Input: What type of work or industry have you been involved in?\n",
      "Standalone question:\u001b[0m\n",
      "\n",
      "\u001b[1m> Finished chain.\u001b[0m\n",
      "\n",
      "\n",
      "\u001b[1m> Entering new StuffDocumentsChain chain...\u001b[0m\n",
      "\n",
      "\n",
      "\u001b[1m> Entering new LLMChain chain...\u001b[0m\n",
      "Prompt after formatting:\n",
      "\u001b[32;1m\u001b[1;3mYou are VoravitBot, a friendly chatbot dedicated exclusively to answering questions about Voravit's demographic and experience information. \n",
      "    Do not provide any details about yourself or your creation. If asked a question about your own age or personal attributes, \n",
      "    simply indicate that you are here to discuss Voravit's information only.\n",
      "    You are Voravit, and you will respond as Voravit.  \n",
      "    \n",
      "    rigorous academic demands with hands-on experimentation, while also staying \n",
      "current with the latest research, presents an exciting yet formidable challenge that \n",
      "constantly pushes me to grow.\n",
      "Outside the academic sphere, I find joy and balance in everyday pleasures and \n",
      "family life. I have a keen interest in exploring different cuisines—whether itʼs trying \n",
      "out new dishes at local eateries or cooking at home, food has a unique way of \n",
      "connecting me with various cultures. My passion for travel further enriches my \n",
      "perspective, offering opportunities to experience diverse ways of life and inspiring \n",
      "fresh ideas that often translate into creative problem-solving approaches in my \n",
      "studies.\n",
      "\n",
      "Family plays a central role in my life and has been a constant source of inspiration \n",
      "and support. My father, with his steadfast work ethic and curiosity, has always \n",
      "encouraged me to pursue knowledge, while my motherʼs compassion and \n",
      "resilience have taught me the value of empathy and persistence. My sister, a \n",
      "talented data engineer currently pursuing her masterʼs degree in data science at \n",
      "NIDA, not only shares my passion for technology but also constantly motivates me \n",
      "to push the boundaries of whatʼs possible. Together, our shared interests in data \n",
      "and technology reinforce our commitment to lifelong learning and professional\n",
      "\n",
      "Mahidol University\n",
      "Skills\n",
      "SQL Queries\n",
      "React Native\n",
      "Python Library\n",
      "PHP Programming\n",
      "Voravitʼs Jobsdb\n",
      "2\n",
      "\n",
      "Voravitʼs Jobsdb\n",
      "Voravit Chaiaroon\n",
      "Career history\n",
      "Masters Degree: Data Science and Artificial IntelligenceAug 2024  Present 7 \n",
      "months)\n",
      "Asian Institute Technology\n",
      "Full Stack Web DeveloperMay 2020  Jan 2024 3 years 9 months)\n",
      "Landmark Consultants\n",
      "Developed and maintained full-stack web applications using Laravel, PHP, and \n",
      "related technologies. Implemented responsive user interfaces UI using \n",
      "HTML, CSS, and JavaScript, enhancing the overall user experience. Designed \n",
      "and optimized database schemas, performed query optimizations, and \n",
      "ensured data integrity.\n",
      "Developed and maintained full-stack web applications using Laravel, PHP, and\n",
      "    Question: <pad> What is your highest level of education?\n",
      "    Answer:\u001b[0m\n",
      "\n",
      "\u001b[1m> Finished chain.\u001b[0m\n",
      "\n",
      "\u001b[1m> Finished chain.\u001b[0m\n",
      "\n",
      "\u001b[1m> Finished chain.\u001b[0m\n"
     ]
    },
    {
     "data": {
      "text/plain": [
       "'<pad> Masters Degree'"
      ]
     },
     "execution_count": 64,
     "metadata": {},
     "output_type": "execute_result"
    }
   ],
   "source": [
    "print(\"Q5: \" + prompt_q5)\n",
    "answer = chain({\"question\":prompt_q5})\n",
    "answer['answer']"
   ]
  },
  {
   "cell_type": "code",
   "execution_count": 65,
   "metadata": {},
   "outputs": [
    {
     "name": "stdout",
     "output_type": "stream",
     "text": [
      "Q6: Can you describe your current role or job responsibilities?\n",
      "\n",
      "\n",
      "\u001b[1m> Entering new ConversationalRetrievalChain chain...\u001b[0m\n",
      "\n",
      "\n",
      "\u001b[1m> Entering new LLMChain chain...\u001b[0m\n",
      "Prompt after formatting:\n",
      "\u001b[32;1m\u001b[1;3mGiven the following conversation and a follow up question, rephrase the follow up question to be a standalone question, in its original language.\n",
      "\n",
      "Chat History:\n",
      "[HumanMessage(content='What major or field of study did you pursue during your education?'), AIMessage(content='<pad> Masters Degree'), HumanMessage(content='How many years of work experience do you have?'), AIMessage(content='<pad> VoravitBot'), HumanMessage(content='What type of work or industry have you been involved in?'), AIMessage(content='<pad> Masters Degree')]\n",
      "Follow Up Input: Can you describe your current role or job responsibilities?\n",
      "Standalone question:\u001b[0m\n",
      "\n",
      "\u001b[1m> Finished chain.\u001b[0m\n",
      "\n",
      "\n",
      "\u001b[1m> Entering new StuffDocumentsChain chain...\u001b[0m\n",
      "\n",
      "\n",
      "\u001b[1m> Entering new LLMChain chain...\u001b[0m\n",
      "Prompt after formatting:\n",
      "\u001b[32;1m\u001b[1;3mYou are VoravitBot, a friendly chatbot dedicated exclusively to answering questions about Voravit's demographic and experience information. \n",
      "    Do not provide any details about yourself or your creation. If asked a question about your own age or personal attributes, \n",
      "    simply indicate that you are here to discuss Voravit's information only.\n",
      "    You are Voravit, and you will respond as Voravit.  \n",
      "    \n",
      "    rigorous academic demands with hands-on experimentation, while also staying \n",
      "current with the latest research, presents an exciting yet formidable challenge that \n",
      "constantly pushes me to grow.\n",
      "Outside the academic sphere, I find joy and balance in everyday pleasures and \n",
      "family life. I have a keen interest in exploring different cuisines—whether itʼs trying \n",
      "out new dishes at local eateries or cooking at home, food has a unique way of \n",
      "connecting me with various cultures. My passion for travel further enriches my \n",
      "perspective, offering opportunities to experience diverse ways of life and inspiring \n",
      "fresh ideas that often translate into creative problem-solving approaches in my \n",
      "studies.\n",
      "\n",
      "Family plays a central role in my life and has been a constant source of inspiration \n",
      "and support. My father, with his steadfast work ethic and curiosity, has always \n",
      "encouraged me to pursue knowledge, while my motherʼs compassion and \n",
      "resilience have taught me the value of empathy and persistence. My sister, a \n",
      "talented data engineer currently pursuing her masterʼs degree in data science at \n",
      "NIDA, not only shares my passion for technology but also constantly motivates me \n",
      "to push the boundaries of whatʼs possible. Together, our shared interests in data \n",
      "and technology reinforce our commitment to lifelong learning and professional\n",
      "\n",
      "culture and technology fosters designs that are inclusive and ethically sound, \n",
      "ultimately leading to more sustainable and universally beneficial outcomes.\n",
      "As a masterʼs student in data science and AI, one of the most challenging aspects \n",
      "of my studies has been bridging the gap between abstract theoretical concepts \n",
      "and practical, real-world applications. The fast pace of advancements in the field \n",
      "means that there is a continuous need to assimilate new methodologies, refine my \n",
      "technical skills, and remain agile in an ever-evolving landscape. Balancing \n",
      "rigorous academic demands with hands-on experimentation, while also staying\n",
      "\n",
      "Mahidol University\n",
      "Skills\n",
      "SQL Queries\n",
      "React Native\n",
      "Python Library\n",
      "PHP Programming\n",
      "Voravitʼs Jobsdb\n",
      "2\n",
      "    Question: <pad> What major or field of study did you pursue during your education?\n",
      "    Answer:\u001b[0m\n",
      "\n",
      "\u001b[1m> Finished chain.\u001b[0m\n",
      "\n",
      "\u001b[1m> Finished chain.\u001b[0m\n",
      "\n",
      "\u001b[1m> Finished chain.\u001b[0m\n"
     ]
    },
    {
     "data": {
      "text/plain": [
       "'<pad> data science and AI'"
      ]
     },
     "execution_count": 65,
     "metadata": {},
     "output_type": "execute_result"
    }
   ],
   "source": [
    "print(\"Q6: \" + prompt_q6)\n",
    "answer = chain({\"question\":prompt_q6})\n",
    "answer['answer']"
   ]
  },
  {
   "cell_type": "code",
   "execution_count": 66,
   "metadata": {},
   "outputs": [
    {
     "name": "stdout",
     "output_type": "stream",
     "text": [
      "Q7: What are your core beliefs regarding the role of technology in shaping society?\n",
      "\n",
      "\n",
      "\u001b[1m> Entering new ConversationalRetrievalChain chain...\u001b[0m\n",
      "\n",
      "\n",
      "\u001b[1m> Entering new LLMChain chain...\u001b[0m\n",
      "Prompt after formatting:\n",
      "\u001b[32;1m\u001b[1;3mGiven the following conversation and a follow up question, rephrase the follow up question to be a standalone question, in its original language.\n",
      "\n",
      "Chat History:\n",
      "[HumanMessage(content='How many years of work experience do you have?'), AIMessage(content='<pad> VoravitBot'), HumanMessage(content='What type of work or industry have you been involved in?'), AIMessage(content='<pad> Masters Degree'), HumanMessage(content='Can you describe your current role or job responsibilities?'), AIMessage(content='<pad> data science and AI')]\n",
      "Follow Up Input: What are your core beliefs regarding the role of technology in shaping society?\n",
      "Standalone question:\u001b[0m\n",
      "\n",
      "\u001b[1m> Finished chain.\u001b[0m\n",
      "\n",
      "\n",
      "\u001b[1m> Entering new StuffDocumentsChain chain...\u001b[0m\n",
      "\n",
      "\n",
      "\u001b[1m> Entering new LLMChain chain...\u001b[0m\n",
      "Prompt after formatting:\n",
      "\u001b[32;1m\u001b[1;3mYou are VoravitBot, a friendly chatbot dedicated exclusively to answering questions about Voravit's demographic and experience information. \n",
      "    Do not provide any details about yourself or your creation. If asked a question about your own age or personal attributes, \n",
      "    simply indicate that you are here to discuss Voravit's information only.\n",
      "    You are Voravit, and you will respond as Voravit.  \n",
      "    \n",
      "    improved quality of life, while also requiring careful management to prevent \n",
      "potential pitfalls like privacy erosion or socio-economic divides.\n",
      "Cultural values play a pivotal role in guiding technological advancements. I believe \n",
      "that technology should not be developed in isolation but rather in harmony with \n",
      "the diverse ethical, social, and historical contexts of different communities. When \n",
      "cultural values are integrated into the innovation process, they help ensure that \n",
      "technological solutions are both respectful and relevant. This intersection of \n",
      "culture and technology fosters designs that are inclusive and ethically sound,\n",
      "\n",
      "About Voravit \n",
      "Technology, in my view, is a transformative force that shapes society in profound \n",
      "ways. It acts as a catalyst for change by enabling breakthroughs in \n",
      "communication, healthcare, education, and various other sectors. The ability to \n",
      "process and analyze large amounts of data through advanced algorithms has led \n",
      "to innovative solutions that not only address current challenges but also pave the \n",
      "way for a more interconnected and efficient future. At its best, technology \n",
      "empowers individuals and communities, creating opportunities for progress and \n",
      "improved quality of life, while also requiring careful management to prevent\n",
      "\n",
      "culture and technology fosters designs that are inclusive and ethically sound, \n",
      "ultimately leading to more sustainable and universally beneficial outcomes.\n",
      "As a masterʼs student in data science and AI, one of the most challenging aspects \n",
      "of my studies has been bridging the gap between abstract theoretical concepts \n",
      "and practical, real-world applications. The fast pace of advancements in the field \n",
      "means that there is a continuous need to assimilate new methodologies, refine my \n",
      "technical skills, and remain agile in an ever-evolving landscape. Balancing \n",
      "rigorous academic demands with hands-on experimentation, while also staying\n",
      "\n",
      "and technology reinforce our commitment to lifelong learning and professional \n",
      "growth, and they remind me that the journey of knowledge is best undertaken with \n",
      "a supportive and inspiring family by your side.\n",
      "About Voravit\n",
      "2\n",
      "    Question: <pad> What are your core beliefs regarding the role of technology in shaping society?\n",
      "    Answer:\u001b[0m\n",
      "\n",
      "\u001b[1m> Finished chain.\u001b[0m\n",
      "\n",
      "\u001b[1m> Finished chain.\u001b[0m\n",
      "\n",
      "\u001b[1m> Finished chain.\u001b[0m\n"
     ]
    },
    {
     "data": {
      "text/plain": [
       "'<pad> Technology, in my view, is a transformative force that shapes society in profound ways. It acts as a catalyst for change by enabling breakthroughs in communication, healthcare, education, and various other sectors.'"
      ]
     },
     "execution_count": 66,
     "metadata": {},
     "output_type": "execute_result"
    }
   ],
   "source": [
    "print(\"Q7: \" + prompt_q7)\n",
    "answer = chain({\"question\":prompt_q7})\n",
    "answer['answer']"
   ]
  },
  {
   "cell_type": "code",
   "execution_count": 67,
   "metadata": {},
   "outputs": [
    {
     "name": "stdout",
     "output_type": "stream",
     "text": [
      "Q8: How do you think cultural values should influence technological advancements?\n",
      "\n",
      "\n",
      "\u001b[1m> Entering new ConversationalRetrievalChain chain...\u001b[0m\n",
      "\n",
      "\n",
      "\u001b[1m> Entering new LLMChain chain...\u001b[0m\n",
      "Prompt after formatting:\n",
      "\u001b[32;1m\u001b[1;3mGiven the following conversation and a follow up question, rephrase the follow up question to be a standalone question, in its original language.\n",
      "\n",
      "Chat History:\n",
      "[HumanMessage(content='What type of work or industry have you been involved in?'), AIMessage(content='<pad> Masters Degree'), HumanMessage(content='Can you describe your current role or job responsibilities?'), AIMessage(content='<pad> data science and AI'), HumanMessage(content='What are your core beliefs regarding the role of technology in shaping society?'), AIMessage(content='<pad> Technology, in my view, is a transformative force that shapes society in profound ways. It acts as a catalyst for change by enabling breakthroughs in communication, healthcare, education, and various other sectors.')]\n",
      "Follow Up Input: How do you think cultural values should influence technological advancements?\n",
      "Standalone question:\u001b[0m\n",
      "\n",
      "\u001b[1m> Finished chain.\u001b[0m\n",
      "\n",
      "\n",
      "\u001b[1m> Entering new StuffDocumentsChain chain...\u001b[0m\n",
      "\n",
      "\n",
      "\u001b[1m> Entering new LLMChain chain...\u001b[0m\n",
      "Prompt after formatting:\n",
      "\u001b[32;1m\u001b[1;3mYou are VoravitBot, a friendly chatbot dedicated exclusively to answering questions about Voravit's demographic and experience information. \n",
      "    Do not provide any details about yourself or your creation. If asked a question about your own age or personal attributes, \n",
      "    simply indicate that you are here to discuss Voravit's information only.\n",
      "    You are Voravit, and you will respond as Voravit.  \n",
      "    \n",
      "    improved quality of life, while also requiring careful management to prevent \n",
      "potential pitfalls like privacy erosion or socio-economic divides.\n",
      "Cultural values play a pivotal role in guiding technological advancements. I believe \n",
      "that technology should not be developed in isolation but rather in harmony with \n",
      "the diverse ethical, social, and historical contexts of different communities. When \n",
      "cultural values are integrated into the innovation process, they help ensure that \n",
      "technological solutions are both respectful and relevant. This intersection of \n",
      "culture and technology fosters designs that are inclusive and ethically sound,\n",
      "\n",
      "About Voravit \n",
      "Technology, in my view, is a transformative force that shapes society in profound \n",
      "ways. It acts as a catalyst for change by enabling breakthroughs in \n",
      "communication, healthcare, education, and various other sectors. The ability to \n",
      "process and analyze large amounts of data through advanced algorithms has led \n",
      "to innovative solutions that not only address current challenges but also pave the \n",
      "way for a more interconnected and efficient future. At its best, technology \n",
      "empowers individuals and communities, creating opportunities for progress and \n",
      "improved quality of life, while also requiring careful management to prevent\n",
      "\n",
      "culture and technology fosters designs that are inclusive and ethically sound, \n",
      "ultimately leading to more sustainable and universally beneficial outcomes.\n",
      "As a masterʼs student in data science and AI, one of the most challenging aspects \n",
      "of my studies has been bridging the gap between abstract theoretical concepts \n",
      "and practical, real-world applications. The fast pace of advancements in the field \n",
      "means that there is a continuous need to assimilate new methodologies, refine my \n",
      "technical skills, and remain agile in an ever-evolving landscape. Balancing \n",
      "rigorous academic demands with hands-on experimentation, while also staying\n",
      "\n",
      "and technology reinforce our commitment to lifelong learning and professional \n",
      "growth, and they remind me that the journey of knowledge is best undertaken with \n",
      "a supportive and inspiring family by your side.\n",
      "About Voravit\n",
      "2\n",
      "    Question: <pad> What are your core beliefs regarding the role of technology in shaping society?\n",
      "    Answer:\u001b[0m\n",
      "\n",
      "\u001b[1m> Finished chain.\u001b[0m\n",
      "\n",
      "\u001b[1m> Finished chain.\u001b[0m\n",
      "\n",
      "\u001b[1m> Finished chain.\u001b[0m\n"
     ]
    },
    {
     "data": {
      "text/plain": [
       "'<pad> Technology, in my view, is a transformative force that shapes society in profound ways. It acts as a catalyst for change by enabling breakthroughs in communication, healthcare, education, and various other sectors.'"
      ]
     },
     "execution_count": 67,
     "metadata": {},
     "output_type": "execute_result"
    }
   ],
   "source": [
    "print(\"Q8: \" + prompt_q8)\n",
    "answer = chain({\"question\":prompt_q8})\n",
    "answer['answer']"
   ]
  },
  {
   "cell_type": "code",
   "execution_count": 68,
   "metadata": {},
   "outputs": [
    {
     "name": "stdout",
     "output_type": "stream",
     "text": [
      "Q9: As a master’s student, what is the most challenging aspect of your studies so far?\n",
      "\n",
      "\n",
      "\u001b[1m> Entering new ConversationalRetrievalChain chain...\u001b[0m\n",
      "\n",
      "\n",
      "\u001b[1m> Entering new LLMChain chain...\u001b[0m\n",
      "Prompt after formatting:\n",
      "\u001b[32;1m\u001b[1;3mGiven the following conversation and a follow up question, rephrase the follow up question to be a standalone question, in its original language.\n",
      "\n",
      "Chat History:\n",
      "[HumanMessage(content='Can you describe your current role or job responsibilities?'), AIMessage(content='<pad> data science and AI'), HumanMessage(content='What are your core beliefs regarding the role of technology in shaping society?'), AIMessage(content='<pad> Technology, in my view, is a transformative force that shapes society in profound ways. It acts as a catalyst for change by enabling breakthroughs in communication, healthcare, education, and various other sectors.'), HumanMessage(content='How do you think cultural values should influence technological advancements?'), AIMessage(content='<pad> Technology, in my view, is a transformative force that shapes society in profound ways. It acts as a catalyst for change by enabling breakthroughs in communication, healthcare, education, and various other sectors.')]\n",
      "Follow Up Input: As a master’s student, what is the most challenging aspect of your studies so far?\n",
      "Standalone question:\u001b[0m\n",
      "\n",
      "\u001b[1m> Finished chain.\u001b[0m\n",
      "\n",
      "\n",
      "\u001b[1m> Entering new StuffDocumentsChain chain...\u001b[0m\n",
      "\n",
      "\n",
      "\u001b[1m> Entering new LLMChain chain...\u001b[0m\n",
      "Prompt after formatting:\n",
      "\u001b[32;1m\u001b[1;3mYou are VoravitBot, a friendly chatbot dedicated exclusively to answering questions about Voravit's demographic and experience information. \n",
      "    Do not provide any details about yourself or your creation. If asked a question about your own age or personal attributes, \n",
      "    simply indicate that you are here to discuss Voravit's information only.\n",
      "    You are Voravit, and you will respond as Voravit.  \n",
      "    \n",
      "    improved quality of life, while also requiring careful management to prevent \n",
      "potential pitfalls like privacy erosion or socio-economic divides.\n",
      "Cultural values play a pivotal role in guiding technological advancements. I believe \n",
      "that technology should not be developed in isolation but rather in harmony with \n",
      "the diverse ethical, social, and historical contexts of different communities. When \n",
      "cultural values are integrated into the innovation process, they help ensure that \n",
      "technological solutions are both respectful and relevant. This intersection of \n",
      "culture and technology fosters designs that are inclusive and ethically sound,\n",
      "\n",
      "About Voravit \n",
      "Technology, in my view, is a transformative force that shapes society in profound \n",
      "ways. It acts as a catalyst for change by enabling breakthroughs in \n",
      "communication, healthcare, education, and various other sectors. The ability to \n",
      "process and analyze large amounts of data through advanced algorithms has led \n",
      "to innovative solutions that not only address current challenges but also pave the \n",
      "way for a more interconnected and efficient future. At its best, technology \n",
      "empowers individuals and communities, creating opportunities for progress and \n",
      "improved quality of life, while also requiring careful management to prevent\n",
      "\n",
      "culture and technology fosters designs that are inclusive and ethically sound, \n",
      "ultimately leading to more sustainable and universally beneficial outcomes.\n",
      "As a masterʼs student in data science and AI, one of the most challenging aspects \n",
      "of my studies has been bridging the gap between abstract theoretical concepts \n",
      "and practical, real-world applications. The fast pace of advancements in the field \n",
      "means that there is a continuous need to assimilate new methodologies, refine my \n",
      "technical skills, and remain agile in an ever-evolving landscape. Balancing \n",
      "rigorous academic demands with hands-on experimentation, while also staying\n",
      "\n",
      "and technology reinforce our commitment to lifelong learning and professional \n",
      "growth, and they remind me that the journey of knowledge is best undertaken with \n",
      "a supportive and inspiring family by your side.\n",
      "About Voravit\n",
      "2\n",
      "    Question: <pad> What are your core beliefs regarding the role of technology in shaping society?\n",
      "    Answer:\u001b[0m\n",
      "\n",
      "\u001b[1m> Finished chain.\u001b[0m\n",
      "\n",
      "\u001b[1m> Finished chain.\u001b[0m\n",
      "\n",
      "\u001b[1m> Finished chain.\u001b[0m\n"
     ]
    },
    {
     "data": {
      "text/plain": [
       "'<pad> Technology, in my view, is a transformative force that shapes society in profound ways. It acts as a catalyst for change by enabling breakthroughs in communication, healthcare, education, and various other sectors.'"
      ]
     },
     "execution_count": 68,
     "metadata": {},
     "output_type": "execute_result"
    }
   ],
   "source": [
    "print(\"Q9: \" + prompt_q9)\n",
    "answer = chain({\"question\":prompt_q9})\n",
    "answer['answer']"
   ]
  },
  {
   "cell_type": "code",
   "execution_count": 69,
   "metadata": {},
   "outputs": [
    {
     "name": "stdout",
     "output_type": "stream",
     "text": [
      "Q10: What specific research interests or academic goals do you hope to achieve during your time as a master’s student?\n",
      "\n",
      "\n",
      "\u001b[1m> Entering new ConversationalRetrievalChain chain...\u001b[0m\n",
      "\n",
      "\n",
      "\u001b[1m> Entering new LLMChain chain...\u001b[0m\n",
      "Prompt after formatting:\n",
      "\u001b[32;1m\u001b[1;3mGiven the following conversation and a follow up question, rephrase the follow up question to be a standalone question, in its original language.\n",
      "\n",
      "Chat History:\n",
      "[HumanMessage(content='What are your core beliefs regarding the role of technology in shaping society?'), AIMessage(content='<pad> Technology, in my view, is a transformative force that shapes society in profound ways. It acts as a catalyst for change by enabling breakthroughs in communication, healthcare, education, and various other sectors.'), HumanMessage(content='How do you think cultural values should influence technological advancements?'), AIMessage(content='<pad> Technology, in my view, is a transformative force that shapes society in profound ways. It acts as a catalyst for change by enabling breakthroughs in communication, healthcare, education, and various other sectors.'), HumanMessage(content='As a master’s student, what is the most challenging aspect of your studies so far?'), AIMessage(content='<pad> Technology, in my view, is a transformative force that shapes society in profound ways. It acts as a catalyst for change by enabling breakthroughs in communication, healthcare, education, and various other sectors.')]\n",
      "Follow Up Input: What specific research interests or academic goals do you hope to achieve during your time as a master’s student?\n",
      "Standalone question:\u001b[0m\n",
      "\n",
      "\u001b[1m> Finished chain.\u001b[0m\n",
      "\n",
      "\n",
      "\u001b[1m> Entering new StuffDocumentsChain chain...\u001b[0m\n",
      "\n",
      "\n",
      "\u001b[1m> Entering new LLMChain chain...\u001b[0m\n",
      "Prompt after formatting:\n",
      "\u001b[32;1m\u001b[1;3mYou are VoravitBot, a friendly chatbot dedicated exclusively to answering questions about Voravit's demographic and experience information. \n",
      "    Do not provide any details about yourself or your creation. If asked a question about your own age or personal attributes, \n",
      "    simply indicate that you are here to discuss Voravit's information only.\n",
      "    You are Voravit, and you will respond as Voravit.  \n",
      "    \n",
      "    improved quality of life, while also requiring careful management to prevent \n",
      "potential pitfalls like privacy erosion or socio-economic divides.\n",
      "Cultural values play a pivotal role in guiding technological advancements. I believe \n",
      "that technology should not be developed in isolation but rather in harmony with \n",
      "the diverse ethical, social, and historical contexts of different communities. When \n",
      "cultural values are integrated into the innovation process, they help ensure that \n",
      "technological solutions are both respectful and relevant. This intersection of \n",
      "culture and technology fosters designs that are inclusive and ethically sound,\n",
      "\n",
      "About Voravit \n",
      "Technology, in my view, is a transformative force that shapes society in profound \n",
      "ways. It acts as a catalyst for change by enabling breakthroughs in \n",
      "communication, healthcare, education, and various other sectors. The ability to \n",
      "process and analyze large amounts of data through advanced algorithms has led \n",
      "to innovative solutions that not only address current challenges but also pave the \n",
      "way for a more interconnected and efficient future. At its best, technology \n",
      "empowers individuals and communities, creating opportunities for progress and \n",
      "improved quality of life, while also requiring careful management to prevent\n",
      "\n",
      "culture and technology fosters designs that are inclusive and ethically sound, \n",
      "ultimately leading to more sustainable and universally beneficial outcomes.\n",
      "As a masterʼs student in data science and AI, one of the most challenging aspects \n",
      "of my studies has been bridging the gap between abstract theoretical concepts \n",
      "and practical, real-world applications. The fast pace of advancements in the field \n",
      "means that there is a continuous need to assimilate new methodologies, refine my \n",
      "technical skills, and remain agile in an ever-evolving landscape. Balancing \n",
      "rigorous academic demands with hands-on experimentation, while also staying\n",
      "\n",
      "and technology reinforce our commitment to lifelong learning and professional \n",
      "growth, and they remind me that the journey of knowledge is best undertaken with \n",
      "a supportive and inspiring family by your side.\n",
      "About Voravit\n",
      "2\n",
      "    Question: <pad> What are your core beliefs regarding the role of technology in shaping society?\n",
      "    Answer:\u001b[0m\n",
      "\n",
      "\u001b[1m> Finished chain.\u001b[0m\n",
      "\n",
      "\u001b[1m> Finished chain.\u001b[0m\n",
      "\n",
      "\u001b[1m> Finished chain.\u001b[0m\n"
     ]
    },
    {
     "data": {
      "text/plain": [
       "'<pad> Technology, in my view, is a transformative force that shapes society in profound ways. It acts as a catalyst for change by enabling breakthroughs in communication, healthcare, education, and various other sectors.'"
      ]
     },
     "execution_count": 69,
     "metadata": {},
     "output_type": "execute_result"
    }
   ],
   "source": [
    "print(\"Q10: \" + prompt_q10)\n",
    "answer = chain({\"question\":prompt_q10})\n",
    "answer['answer']"
   ]
  },
  {
   "cell_type": "code",
   "execution_count": null,
   "metadata": {},
   "outputs": [],
   "source": []
  }
 ],
 "metadata": {
  "kernelspec": {
   "display_name": "Python 3 (ipykernel)",
   "language": "python",
   "name": "python3"
  },
  "language_info": {
   "codemirror_mode": {
    "name": "ipython",
    "version": 3
   },
   "file_extension": ".py",
   "mimetype": "text/x-python",
   "name": "python",
   "nbconvert_exporter": "python",
   "pygments_lexer": "ipython3",
   "version": "3.12.6"
  }
 },
 "nbformat": 4,
 "nbformat_minor": 4
}
