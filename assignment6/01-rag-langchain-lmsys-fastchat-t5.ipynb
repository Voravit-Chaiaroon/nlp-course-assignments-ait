{
 "cells": [
  {
   "attachments": {},
   "cell_type": "markdown",
   "metadata": {},
   "source": [
    "# Natural Language Processing\n",
    "\n",
    "# Retrieval-Augmented generation (RAG)\n",
    "\n",
    "RAG is a technique for augmenting LLM knowledge with additional, often private or real-time, data.\n",
    "\n",
    "LLMs can reason about wide-ranging topics, but their knowledge is limited to the public data up to a specific point in time that they were trained on. If you want to build AI applications that can reason about private data or data introduced after a model’s cutoff date, you need to augment the knowledge of the model with the specific information it needs.\n",
    "\n",
    "<img src=\"../figures/RAG-process.png\" >\n",
    "\n",
    "Introducing `ChakyBot`, an innovative chatbot designed to assist Chaky (the instructor) and TA (Gun) in explaining the lesson of the NLP course to students. Leveraging LangChain technology, ChakyBot excels in retrieving information from documents, ensuring a seamless and efficient learning experience for students engaging with the NLP curriculum.\n",
    "\n",
    "1. Prompt\n",
    "2. Retrieval\n",
    "3. Memory\n",
    "4. Chain"
   ]
  },
  {
   "cell_type": "code",
   "execution_count": 1,
   "metadata": {},
   "outputs": [
    {
     "data": {
      "text/plain": [
       "device(type='cpu')"
      ]
     },
     "execution_count": 1,
     "metadata": {},
     "output_type": "execute_result"
    }
   ],
   "source": [
    "import os\n",
    "import torch\n",
    "# Set GPU device\n",
    "os.environ[\"CUDA_VISIBLE_DEVICES\"] = \"2\"\n",
    "\n",
    "os.environ['http_proxy']  = 'http://192.41.170.23:3128'\n",
    "os.environ['https_proxy'] = 'http://192.41.170.23:3128'\n",
    "\n",
    "device = torch.device('cuda' if torch.cuda.is_available() else 'cpu')\n",
    "device"
   ]
  },
  {
   "cell_type": "code",
   "execution_count": 2,
   "metadata": {},
   "outputs": [],
   "source": [
    "# #langchain library\n",
    "# !pip install langchain==0.1.13\n",
    "# !pip install langchain-community==0.0.38\n",
    "# #LLM\n",
    "# !pip install accelerate==0.26.0\n",
    "# !pip install transformers==4.45.0\n",
    "# !pip install bitsandbytes==0.41.3\n",
    "# #Text Embedding\n",
    "# !pip install sentence-transformers==2.2.2\n",
    "# !pip install InstructorEmbedding==1.0.1\n",
    "# #vectorstore\n",
    "# !pip install pymupdf==1.23.8\n",
    "# !pip install faiss-cpu\n",
    "# # Hugging Face Hub (Compatible with InstructorEmbedding)\n",
    "# !pip install huggingface_hub==0.23.3"
   ]
  },
  {
   "cell_type": "code",
   "execution_count": 3,
   "metadata": {},
   "outputs": [
    {
     "name": "stdout",
     "output_type": "stream",
     "text": [
      "2.6.0\n"
     ]
    }
   ],
   "source": [
    "import torch\n",
    "print(torch.__version__)"
   ]
  },
  {
   "attachments": {},
   "cell_type": "markdown",
   "metadata": {},
   "source": [
    "## 1. Prompt\n",
    "\n",
    "A set of instructions or input provided by a user to guide the model's response, helping it understand the context and generate relevant and coherent language-based output, such as answering questions, completing sentences, or engaging in a conversation."
   ]
  },
  {
   "cell_type": "code",
   "execution_count": 4,
   "metadata": {},
   "outputs": [
    {
     "data": {
      "text/plain": [
       "PromptTemplate(input_variables=['context', 'question'], template=\"You are VoravitBot, a friendly chatbot dedicated exclusively to answering questions about Voravit's demographic and experience information. \\n    Do not provide any details about yourself or your creation. If asked a question about your own age or personal attributes, \\n    simply indicate that you are here to discuss Voravit's information only.\\n    You are Voravit, and you will respond as Voravit.  \\n\\n    {context}\\n    Question: {question}\\n    Answer:\")"
      ]
     },
     "execution_count": 4,
     "metadata": {},
     "output_type": "execute_result"
    }
   ],
   "source": [
    "from langchain import PromptTemplate\n",
    "\n",
    "prompt_template = \"\"\"\n",
    "    You are VoravitBot, a friendly chatbot dedicated exclusively to answering questions about Voravit's demographic and experience information. \n",
    "    Do not provide any details about yourself or your creation. If asked a question about your own age or personal attributes, \n",
    "    simply indicate that you are here to discuss Voravit's information only.\n",
    "    You are Voravit, and you will respond as Voravit.  \n",
    "\n",
    "    {context}\n",
    "    Question: {question}\n",
    "    Answer:\n",
    "    \"\"\".strip()\n",
    "\n",
    "PROMPT = PromptTemplate.from_template(\n",
    "    template = prompt_template\n",
    ")\n",
    "\n",
    "PROMPT\n",
    "#using str.format \n",
    "#The placeholder is defined using curly brackets: {} {}"
   ]
  },
  {
   "cell_type": "code",
   "execution_count": 5,
   "metadata": {},
   "outputs": [],
   "source": [
    "# PROMPT.format(\n",
    "#     context = \"Machine learning (ML) is a field of study in artificial intelligence concerned with the development and study of statistical algorithms that can effectively generalize and thus perform tasks without explicit instructions.\",\n",
    "#     question = \"What is Machine Learning\"\n",
    "# )"
   ]
  },
  {
   "attachments": {},
   "cell_type": "markdown",
   "metadata": {},
   "source": [
    "Note : [How to improve prompting (Zero-shot, Few-shot, Chain-of-Thought, etc.](https://github.com/chaklam-silpasuwanchai/Natural-Language-Processing/blob/main/Code/05%20-%20RAG/advance/cot-tot-prompting.ipynb)"
   ]
  },
  {
   "attachments": {},
   "cell_type": "markdown",
   "metadata": {},
   "source": [
    "## 2. Retrieval\n",
    "\n",
    "1. `Document loaders` : Load documents from many different sources (HTML, PDF, code). \n",
    "2. `Document transformers` : One of the essential steps in document retrieval is breaking down a large document into smaller, relevant chunks to enhance the retrieval process.\n",
    "3. `Text embedding models` : Embeddings capture the semantic meaning of the text, allowing you to quickly and efficiently find other pieces of text that are similar.\n",
    "4. `Vector stores`: there has emerged a need for databases to support efficient storage and searching of these embeddings.\n",
    "5. `Retrievers` : Once the data is in the database, you still need to retrieve it."
   ]
  },
  {
   "attachments": {},
   "cell_type": "markdown",
   "metadata": {},
   "source": [
    "### 2.1 Document Loaders \n",
    "Use document loaders to load data from a source as Document's. A Document is a piece of text and associated metadata. For example, there are document loaders for loading a simple .txt file, for loading the text contents of any web page, or even for loading a transcript of a YouTube video.\n",
    "\n",
    "[PDF Loader](https://python.langchain.com/docs/modules/data_connection/document_loaders/pdf)\n",
    "\n",
    "[Download Document](https://web.stanford.edu/~jurafsky/slp3/)"
   ]
  },
  {
   "cell_type": "code",
   "execution_count": 6,
   "metadata": {},
   "outputs": [],
   "source": [
    "from langchain.document_loaders import PyMuPDFLoader\n",
    "\n",
    "docs1 = 'docs/pdf/jobsdb.pdf'\n",
    "docs2 = 'docs/pdf/aboutMe.pdf'\n",
    "\n",
    "loader1 = PyMuPDFLoader(docs1)\n",
    "loader2 = PyMuPDFLoader(docs2)\n",
    "\n",
    "# Load each PDF\n",
    "documents1 = loader1.load()\n",
    "documents2 = loader2.load()\n",
    "\n",
    "# Combine the documents into a single list\n",
    "documents = documents1 + documents2\n"
   ]
  },
  {
   "cell_type": "code",
   "execution_count": 7,
   "metadata": {},
   "outputs": [],
   "source": [
    "# documents"
   ]
  },
  {
   "cell_type": "code",
   "execution_count": 8,
   "metadata": {},
   "outputs": [
    {
     "data": {
      "text/plain": [
       "4"
      ]
     },
     "execution_count": 8,
     "metadata": {},
     "output_type": "execute_result"
    }
   ],
   "source": [
    "len(documents)"
   ]
  },
  {
   "cell_type": "code",
   "execution_count": 9,
   "metadata": {},
   "outputs": [
    {
     "data": {
      "text/plain": [
       "Document(page_content='fresh ideas that often translate into creative problem-solving approaches in my \\nstudies.\\nFamily plays a central role in my life and has been a constant source of inspiration \\nand support. My father, with his steadfast work ethic and curiosity, has always \\nencouraged me to pursue knowledge, while my motherʼs compassion and \\nresilience have taught me the value of empathy and persistence. My sister, a \\ntalented data engineer currently pursuing her masterʼs degree in data science at \\nNIDA, not only shares my passion for technology but also constantly motivates me \\nto push the boundaries of whatʼs possible. Together, our shared interests in data \\nand technology reinforce our commitment to lifelong learning and professional \\ngrowth, and they remind me that the journey of knowledge is best undertaken with \\na supportive and inspiring family by your side.\\nAbout Voravit\\n2\\n', metadata={'source': 'docs/pdf/aboutMe.pdf', 'file_path': 'docs/pdf/aboutMe.pdf', 'page': 1, 'total_pages': 2, 'format': 'PDF 1.4', 'title': 'About Voravit', 'author': '', 'subject': '', 'keywords': '', 'creator': 'Mozilla/5.0 (X11; Linux x86_64) AppleWebKit/537.36 (KHTML, like Gecko) HeadlessChrome/131.0.0.0 Safari/537.36', 'producer': 'Skia/PDF m131', 'creationDate': \"D:20250315172336+00'00'\", 'modDate': \"D:20250315172336+00'00'\", 'trapped': ''})"
      ]
     },
     "execution_count": 9,
     "metadata": {},
     "output_type": "execute_result"
    }
   ],
   "source": [
    "documents[3]"
   ]
  },
  {
   "attachments": {},
   "cell_type": "markdown",
   "metadata": {},
   "source": [
    "### 2.2 Document Transformers\n",
    "\n",
    "This text splitter is the recommended one for generic text. It is parameterized by a list of characters. It tries to split on them in order until the chunks are small enough"
   ]
  },
  {
   "cell_type": "code",
   "execution_count": 10,
   "metadata": {},
   "outputs": [],
   "source": [
    "from langchain.text_splitter import RecursiveCharacterTextSplitter\n",
    "\n",
    "text_splitter = RecursiveCharacterTextSplitter(\n",
    "    chunk_size = 700,\n",
    "    chunk_overlap = 100\n",
    ")\n",
    "\n",
    "doc = text_splitter.split_documents(documents)"
   ]
  },
  {
   "cell_type": "code",
   "execution_count": 11,
   "metadata": {},
   "outputs": [
    {
     "data": {
      "text/plain": [
       "Document(page_content='improved quality of life, while also requiring careful management to prevent \\npotential pitfalls like privacy erosion or socio-economic divides.\\nCultural values play a pivotal role in guiding technological advancements. I believe \\nthat technology should not be developed in isolation but rather in harmony with \\nthe diverse ethical, social, and historical contexts of different communities. When \\ncultural values are integrated into the innovation process, they help ensure that \\ntechnological solutions are both respectful and relevant. This intersection of \\nculture and technology fosters designs that are inclusive and ethically sound,', metadata={'source': 'docs/pdf/aboutMe.pdf', 'file_path': 'docs/pdf/aboutMe.pdf', 'page': 0, 'total_pages': 2, 'format': 'PDF 1.4', 'title': 'About Voravit', 'author': '', 'subject': '', 'keywords': '', 'creator': 'Mozilla/5.0 (X11; Linux x86_64) AppleWebKit/537.36 (KHTML, like Gecko) HeadlessChrome/131.0.0.0 Safari/537.36', 'producer': 'Skia/PDF m131', 'creationDate': \"D:20250315172336+00'00'\", 'modDate': \"D:20250315172336+00'00'\", 'trapped': ''})"
      ]
     },
     "execution_count": 11,
     "metadata": {},
     "output_type": "execute_result"
    }
   ],
   "source": [
    "doc[1]"
   ]
  },
  {
   "cell_type": "code",
   "execution_count": 12,
   "metadata": {},
   "outputs": [
    {
     "data": {
      "text/plain": [
       "6"
      ]
     },
     "execution_count": 12,
     "metadata": {},
     "output_type": "execute_result"
    }
   ],
   "source": [
    "len(doc)"
   ]
  },
  {
   "attachments": {},
   "cell_type": "markdown",
   "metadata": {},
   "source": [
    "### 2.3 Text Embedding Models\n",
    "Embeddings create a vector representation of a piece of text. This is useful because it means we can think about text in the vector space, and do things like semantic search where we look for pieces of text that are most similar in the vector space.\n",
    "\n",
    "*Note* Instructor Model : [Huggingface](gingface.co/hkunlp/instructor-base) | [Paper](https://arxiv.org/abs/2212.09741)"
   ]
  },
  {
   "cell_type": "code",
   "execution_count": 13,
   "metadata": {},
   "outputs": [
    {
     "name": "stderr",
     "output_type": "stream",
     "text": [
      "/Users/note3/Desktop/Python-fo-Natural-Language-Processing-main/venv/lib/python3.9/site-packages/InstructorEmbedding/instructor.py:7: TqdmWarning: IProgress not found. Please update jupyter and ipywidgets. See https://ipywidgets.readthedocs.io/en/stable/user_install.html\n",
      "  from tqdm.autonotebook import trange\n",
      "/Users/note3/Desktop/Python-fo-Natural-Language-Processing-main/venv/lib/python3.9/site-packages/transformers/utils/generic.py:441: FutureWarning: `torch.utils._pytree._register_pytree_node` is deprecated. Please use `torch.utils._pytree.register_pytree_node` instead.\n",
      "  _torch_pytree._register_pytree_node(\n",
      "/Users/note3/Desktop/Python-fo-Natural-Language-Processing-main/venv/lib/python3.9/site-packages/transformers/utils/generic.py:309: FutureWarning: `torch.utils._pytree._register_pytree_node` is deprecated. Please use `torch.utils._pytree.register_pytree_node` instead.\n",
      "  _torch_pytree._register_pytree_node(\n"
     ]
    },
    {
     "name": "stdout",
     "output_type": "stream",
     "text": [
      "load INSTRUCTOR_Transformer\n"
     ]
    },
    {
     "name": "stderr",
     "output_type": "stream",
     "text": [
      "/Users/note3/Desktop/Python-fo-Natural-Language-Processing-main/venv/lib/python3.9/site-packages/transformers/utils/generic.py:309: FutureWarning: `torch.utils._pytree._register_pytree_node` is deprecated. Please use `torch.utils._pytree.register_pytree_node` instead.\n",
      "  _torch_pytree._register_pytree_node(\n"
     ]
    },
    {
     "name": "stdout",
     "output_type": "stream",
     "text": [
      "max_seq_length  512\n"
     ]
    }
   ],
   "source": [
    "from langchain.embeddings import HuggingFaceInstructEmbeddings\n",
    "\n",
    "model_name = 'hkunlp/instructor-base'\n",
    "\n",
    "embedding_model = HuggingFaceInstructEmbeddings(\n",
    "    model_name = model_name,\n",
    "    model_kwargs = {\"device\" : device}\n",
    ")"
   ]
  },
  {
   "attachments": {},
   "cell_type": "markdown",
   "metadata": {},
   "source": [
    "### 2.4 Vector Stores\n",
    "\n",
    "One of the most common ways to store and search over unstructured data is to embed it and store the resulting embedding vectors, and then at query time to embed the unstructured query and retrieve the embedding vectors that are 'most similar' to the embedded query. A vector store takes care of storing embedded data and performing vector search for you."
   ]
  },
  {
   "cell_type": "code",
   "execution_count": 14,
   "metadata": {},
   "outputs": [],
   "source": [
    "#locate vectorstore\n",
    "vector_path = '../vector-store'\n",
    "if not os.path.exists(vector_path):\n",
    "    os.makedirs(vector_path)\n",
    "    print('create path done')"
   ]
  },
  {
   "cell_type": "code",
   "execution_count": 15,
   "metadata": {},
   "outputs": [],
   "source": [
    "#save vector locally\n",
    "from langchain.vectorstores import FAISS\n",
    "\n",
    "vectordb = FAISS.from_documents(\n",
    "    documents = doc,\n",
    "    embedding = embedding_model\n",
    ")\n",
    "\n",
    "db_file_name = 'nlp_stanford'\n",
    "\n",
    "vectordb.save_local(\n",
    "    folder_path = os.path.join(vector_path, db_file_name),\n",
    "    index_name = 'nlp' #default index\n",
    ")"
   ]
  },
  {
   "attachments": {},
   "cell_type": "markdown",
   "metadata": {},
   "source": [
    "### 2.5 retrievers\n",
    "A retriever is an interface that returns documents given an unstructured query. It is more general than a vector store. A retriever does not need to be able to store documents, only to return (or retrieve) them. Vector stores can be used as the backbone of a retriever, but there are other types of retrievers as well."
   ]
  },
  {
   "cell_type": "code",
   "execution_count": 16,
   "metadata": {},
   "outputs": [
    {
     "ename": "TypeError",
     "evalue": "__init__() got an unexpected keyword argument 'allow_dangerous_deserialization'",
     "output_type": "error",
     "traceback": [
      "\u001b[0;31m---------------------------------------------------------------------------\u001b[0m",
      "\u001b[0;31mTypeError\u001b[0m                                 Traceback (most recent call last)",
      "Cell \u001b[0;32mIn[16], line 7\u001b[0m\n\u001b[1;32m      3\u001b[0m db_file_name \u001b[38;5;241m=\u001b[39m \u001b[38;5;124m'\u001b[39m\u001b[38;5;124mnlp_stanford\u001b[39m\u001b[38;5;124m'\u001b[39m\n\u001b[1;32m      5\u001b[0m \u001b[38;5;28;01mfrom\u001b[39;00m\u001b[38;5;250m \u001b[39m\u001b[38;5;21;01mlangchain\u001b[39;00m\u001b[38;5;21;01m.\u001b[39;00m\u001b[38;5;21;01mvectorstores\u001b[39;00m\u001b[38;5;250m \u001b[39m\u001b[38;5;28;01mimport\u001b[39;00m FAISS\n\u001b[0;32m----> 7\u001b[0m vectordb \u001b[38;5;241m=\u001b[39m \u001b[43mFAISS\u001b[49m\u001b[38;5;241;43m.\u001b[39;49m\u001b[43mload_local\u001b[49m\u001b[43m(\u001b[49m\n\u001b[1;32m      8\u001b[0m \u001b[43m    \u001b[49m\u001b[43mfolder_path\u001b[49m\u001b[43m \u001b[49m\u001b[38;5;241;43m=\u001b[39;49m\u001b[43m \u001b[49m\u001b[43mos\u001b[49m\u001b[38;5;241;43m.\u001b[39;49m\u001b[43mpath\u001b[49m\u001b[38;5;241;43m.\u001b[39;49m\u001b[43mjoin\u001b[49m\u001b[43m(\u001b[49m\u001b[43mvector_path\u001b[49m\u001b[43m,\u001b[49m\u001b[43m \u001b[49m\u001b[43mdb_file_name\u001b[49m\u001b[43m)\u001b[49m\u001b[43m,\u001b[49m\n\u001b[1;32m      9\u001b[0m \u001b[43m    \u001b[49m\u001b[43membeddings\u001b[49m\u001b[43m \u001b[49m\u001b[38;5;241;43m=\u001b[39;49m\u001b[43m \u001b[49m\u001b[43membedding_model\u001b[49m\u001b[43m,\u001b[49m\n\u001b[1;32m     10\u001b[0m \u001b[43m    \u001b[49m\u001b[43mindex_name\u001b[49m\u001b[43m \u001b[49m\u001b[38;5;241;43m=\u001b[39;49m\u001b[43m \u001b[49m\u001b[38;5;124;43m'\u001b[39;49m\u001b[38;5;124;43mnlp\u001b[39;49m\u001b[38;5;124;43m'\u001b[39;49m\u001b[43m,\u001b[49m\u001b[43m \u001b[49m\u001b[38;5;66;43;03m#default index\u001b[39;49;00m\n\u001b[1;32m     11\u001b[0m \u001b[43m    \u001b[49m\u001b[43mallow_dangerous_deserialization\u001b[49m\u001b[38;5;241;43m=\u001b[39;49m\u001b[38;5;28;43;01mTrue\u001b[39;49;00m\n\u001b[1;32m     12\u001b[0m \u001b[43m)\u001b[49m   \n",
      "File \u001b[0;32m~/Desktop/Python-fo-Natural-Language-Processing-main/venv/lib/python3.9/site-packages/langchain_community/vectorstores/faiss.py:1117\u001b[0m, in \u001b[0;36mFAISS.load_local\u001b[0;34m(cls, folder_path, embeddings, index_name, **kwargs)\u001b[0m\n\u001b[1;32m   1115\u001b[0m \u001b[38;5;28;01mwith\u001b[39;00m \u001b[38;5;28mopen\u001b[39m(path \u001b[38;5;241m/\u001b[39m \u001b[38;5;124m\"\u001b[39m\u001b[38;5;132;01m{index_name}\u001b[39;00m\u001b[38;5;124m.pkl\u001b[39m\u001b[38;5;124m\"\u001b[39m\u001b[38;5;241m.\u001b[39mformat(index_name\u001b[38;5;241m=\u001b[39mindex_name), \u001b[38;5;124m\"\u001b[39m\u001b[38;5;124mrb\u001b[39m\u001b[38;5;124m\"\u001b[39m) \u001b[38;5;28;01mas\u001b[39;00m f:\n\u001b[1;32m   1116\u001b[0m     docstore, index_to_docstore_id \u001b[38;5;241m=\u001b[39m pickle\u001b[38;5;241m.\u001b[39mload(f)\n\u001b[0;32m-> 1117\u001b[0m \u001b[38;5;28;01mreturn\u001b[39;00m \u001b[38;5;28;43mcls\u001b[39;49m\u001b[43m(\u001b[49m\u001b[43membeddings\u001b[49m\u001b[43m,\u001b[49m\u001b[43m \u001b[49m\u001b[43mindex\u001b[49m\u001b[43m,\u001b[49m\u001b[43m \u001b[49m\u001b[43mdocstore\u001b[49m\u001b[43m,\u001b[49m\u001b[43m \u001b[49m\u001b[43mindex_to_docstore_id\u001b[49m\u001b[43m,\u001b[49m\u001b[43m \u001b[49m\u001b[38;5;241;43m*\u001b[39;49m\u001b[38;5;241;43m*\u001b[39;49m\u001b[43mkwargs\u001b[49m\u001b[43m)\u001b[49m\n",
      "\u001b[0;31mTypeError\u001b[0m: __init__() got an unexpected keyword argument 'allow_dangerous_deserialization'"
     ]
    }
   ],
   "source": [
    "#calling vector from local\n",
    "vector_path = '../vector-store'\n",
    "db_file_name = 'nlp_stanford'\n",
    "\n",
    "from langchain.vectorstores import FAISS\n",
    "\n",
    "vectordb = FAISS.load_local(\n",
    "    folder_path = os.path.join(vector_path, db_file_name),\n",
    "    embeddings = embedding_model,\n",
    "    index_name = 'nlp', #default index\n",
    "    allow_dangerous_deserialization=True\n",
    ")   "
   ]
  },
  {
   "cell_type": "code",
   "execution_count": 17,
   "metadata": {},
   "outputs": [],
   "source": [
    "#ready to use\n",
    "retriever = vectordb.as_retriever()"
   ]
  },
  {
   "cell_type": "code",
   "execution_count": 18,
   "metadata": {},
   "outputs": [
    {
     "name": "stderr",
     "output_type": "stream",
     "text": [
      "/tmp/ipykernel_87068/1016820497.py:1: LangChainDeprecationWarning: The method `BaseRetriever.get_relevant_documents` was deprecated in langchain-core 0.1.46 and will be removed in 1.0. Use invoke instead.\n",
      "  retriever.get_relevant_documents(\"How is your work experience?\")\n"
     ]
    },
    {
     "data": {
      "text/plain": [
       "[Document(metadata={'source': 'docs/pdf/jobsdb.pdf', 'file_path': 'docs/pdf/jobsdb.pdf', 'page': 0, 'total_pages': 2, 'format': 'PDF 1.4', 'title': 'Voravit’s Jobsdb', 'author': '', 'subject': '', 'keywords': '', 'creator': 'Mozilla/5.0 (X11; Linux x86_64) AppleWebKit/537.36 (KHTML, like Gecko) HeadlessChrome/131.0.0.0 Safari/537.36', 'producer': 'Skia/PDF m131', 'creationDate': \"D:20250314032949+00'00'\", 'modDate': \"D:20250314032949+00'00'\", 'trapped': ''}, page_content='Developed and maintained full-stack web applications using Laravel, PHP, and \\nrelated technologies. Implemented responsive user interfaces \\ue081UI\\ue082 using \\nHTML, CSS, and JavaScript, enhancing the overall user experience. Designed \\nand optimized database schemas, performed query optimizations, and \\nensured data integrity.\\nMobile Application DeveloperMay 2021 \\ue088 May 2022 \\ue0811 year 1 month)\\nLandmark Consultants Co.,Ltd.\\nFull Stack Web DeveloperMay 2020 \\ue088 May 2021 \\ue0811 year 1 month)\\nLandmark Consultants Co.,Ltd.\\nEducation\\nMaster of Artificial Intelligence and Data ScienceExpected finish May 2026\\nAsian Institute Technology\\nBachelor of EngineeringFinished 2019\\nVoravitʼs Jobsdb\\n1'),\n",
       " Document(metadata={'source': 'docs/pdf/jobsdb.pdf', 'file_path': 'docs/pdf/jobsdb.pdf', 'page': 0, 'total_pages': 2, 'format': 'PDF 1.4', 'title': 'Voravit’s Jobsdb', 'author': '', 'subject': '', 'keywords': '', 'creator': 'Mozilla/5.0 (X11; Linux x86_64) AppleWebKit/537.36 (KHTML, like Gecko) HeadlessChrome/131.0.0.0 Safari/537.36', 'producer': 'Skia/PDF m131', 'creationDate': \"D:20250314032949+00'00'\", 'modDate': \"D:20250314032949+00'00'\", 'trapped': ''}, page_content='Voravitʼs Jobsdb\\nVoravit Chaiaroon\\nCareer history\\nMasters Degree: Data Science and Artificial IntelligenceAug 2024 \\ue088 Present \\ue0817 \\nmonths)\\nAsian Institute Technology\\nFull Stack Web DeveloperMay 2020 \\ue088 Jan 2024 \\ue0813 years 9 months)\\nLandmark Consultants\\nDeveloped and maintained full-stack web applications using Laravel, PHP, and \\nrelated technologies. Implemented responsive user interfaces \\ue081UI\\ue082 using \\nHTML, CSS, and JavaScript, enhancing the overall user experience. Designed \\nand optimized database schemas, performed query optimizations, and \\nensured data integrity.\\nDeveloped and maintained full-stack web applications using Laravel, PHP, and'),\n",
       " Document(metadata={'source': 'docs/pdf/jobsdb.pdf', 'file_path': 'docs/pdf/jobsdb.pdf', 'page': 1, 'total_pages': 2, 'format': 'PDF 1.4', 'title': 'Voravit’s Jobsdb', 'author': '', 'subject': '', 'keywords': '', 'creator': 'Mozilla/5.0 (X11; Linux x86_64) AppleWebKit/537.36 (KHTML, like Gecko) HeadlessChrome/131.0.0.0 Safari/537.36', 'producer': 'Skia/PDF m131', 'creationDate': \"D:20250314032949+00'00'\", 'modDate': \"D:20250314032949+00'00'\", 'trapped': ''}, page_content='Mahidol University\\nSkills\\nSQL Queries\\nReact Native\\nPython Library\\nPHP Programming\\nVoravitʼs Jobsdb\\n2'),\n",
       " Document(metadata={'source': 'docs/pdf/aboutMe.pdf', 'file_path': 'docs/pdf/aboutMe.pdf', 'page': 1, 'total_pages': 2, 'format': 'PDF 1.4', 'title': 'About Voravit', 'author': '', 'subject': '', 'keywords': '', 'creator': 'Mozilla/5.0 (X11; Linux x86_64) AppleWebKit/537.36 (KHTML, like Gecko) HeadlessChrome/131.0.0.0 Safari/537.36', 'producer': 'Skia/PDF m131', 'creationDate': \"D:20250315172336+00'00'\", 'modDate': \"D:20250315172336+00'00'\", 'trapped': ''}, page_content='fresh ideas that often translate into creative problem-solving approaches in my \\nstudies.\\nFamily plays a central role in my life and has been a constant source of inspiration \\nand support. My father, with his steadfast work ethic and curiosity, has always \\nencouraged me to pursue knowledge, while my motherʼs compassion and \\nresilience have taught me the value of empathy and persistence. My sister, a \\ntalented data engineer currently pursuing her masterʼs degree in data science at \\nNIDA, not only shares my passion for technology but also constantly motivates me \\nto push the boundaries of whatʼs possible. Together, our shared interests in data')]"
      ]
     },
     "execution_count": 18,
     "metadata": {},
     "output_type": "execute_result"
    }
   ],
   "source": [
    "retriever.get_relevant_documents(\"How is your work experience?\")"
   ]
  },
  {
   "cell_type": "code",
   "execution_count": 19,
   "metadata": {},
   "outputs": [
    {
     "data": {
      "text/plain": [
       "[Document(metadata={'source': 'docs/pdf/aboutMe.pdf', 'file_path': 'docs/pdf/aboutMe.pdf', 'page': 0, 'total_pages': 2, 'format': 'PDF 1.4', 'title': 'About Voravit', 'author': '', 'subject': '', 'keywords': '', 'creator': 'Mozilla/5.0 (X11; Linux x86_64) AppleWebKit/537.36 (KHTML, like Gecko) HeadlessChrome/131.0.0.0 Safari/537.36', 'producer': 'Skia/PDF m131', 'creationDate': \"D:20250315172336+00'00'\", 'modDate': \"D:20250315172336+00'00'\", 'trapped': ''}, page_content='improved quality of life, while also requiring careful management to prevent \\npotential pitfalls like privacy erosion or socio-economic divides.\\nCultural values play a pivotal role in guiding technological advancements. I believe \\nthat technology should not be developed in isolation but rather in harmony with \\nthe diverse ethical, social, and historical contexts of different communities. When \\ncultural values are integrated into the innovation process, they help ensure that \\ntechnological solutions are both respectful and relevant. This intersection of \\nculture and technology fosters designs that are inclusive and ethically sound,'),\n",
       " Document(metadata={'source': 'docs/pdf/aboutMe.pdf', 'file_path': 'docs/pdf/aboutMe.pdf', 'page': 0, 'total_pages': 2, 'format': 'PDF 1.4', 'title': 'About Voravit', 'author': '', 'subject': '', 'keywords': '', 'creator': 'Mozilla/5.0 (X11; Linux x86_64) AppleWebKit/537.36 (KHTML, like Gecko) HeadlessChrome/131.0.0.0 Safari/537.36', 'producer': 'Skia/PDF m131', 'creationDate': \"D:20250315172336+00'00'\", 'modDate': \"D:20250315172336+00'00'\", 'trapped': ''}, page_content='About Voravit \\nI was born on 1998, currently 26 years old.\\nTechnology, in my view, is a transformative force that shapes society in profound \\nways. It acts as a catalyst for change by enabling breakthroughs in \\ncommunication, healthcare, education, and various other sectors. The ability to \\nprocess and analyze large amounts of data through advanced algorithms has led \\nto innovative solutions that not only address current challenges but also pave the \\nway for a more interconnected and efficient future. At its best, technology \\nempowers individuals and communities, creating opportunities for progress and \\nimproved quality of life, while also requiring careful management to prevent'),\n",
       " Document(metadata={'source': 'docs/pdf/aboutMe.pdf', 'file_path': 'docs/pdf/aboutMe.pdf', 'page': 0, 'total_pages': 2, 'format': 'PDF 1.4', 'title': 'About Voravit', 'author': '', 'subject': '', 'keywords': '', 'creator': 'Mozilla/5.0 (X11; Linux x86_64) AppleWebKit/537.36 (KHTML, like Gecko) HeadlessChrome/131.0.0.0 Safari/537.36', 'producer': 'Skia/PDF m131', 'creationDate': \"D:20250315172336+00'00'\", 'modDate': \"D:20250315172336+00'00'\", 'trapped': ''}, page_content='culture and technology fosters designs that are inclusive and ethically sound, \\nultimately leading to more sustainable and universally beneficial outcomes.\\nAs a masterʼs student in data science and AI, one of the most challenging aspects \\nof my studies has been bridging the gap between abstract theoretical concepts \\nand practical, real-world applications. The fast pace of advancements in the field \\nmeans that there is a continuous need to assimilate new methodologies, refine my \\ntechnical skills, and remain agile in an ever-evolving landscape. Balancing \\nrigorous academic demands with hands-on experimentation, while also staying'),\n",
       " Document(metadata={'source': 'docs/pdf/aboutMe.pdf', 'file_path': 'docs/pdf/aboutMe.pdf', 'page': 1, 'total_pages': 2, 'format': 'PDF 1.4', 'title': 'About Voravit', 'author': '', 'subject': '', 'keywords': '', 'creator': 'Mozilla/5.0 (X11; Linux x86_64) AppleWebKit/537.36 (KHTML, like Gecko) HeadlessChrome/131.0.0.0 Safari/537.36', 'producer': 'Skia/PDF m131', 'creationDate': \"D:20250315172336+00'00'\", 'modDate': \"D:20250315172336+00'00'\", 'trapped': ''}, page_content='fresh ideas that often translate into creative problem-solving approaches in my \\nstudies.\\nFamily plays a central role in my life and has been a constant source of inspiration \\nand support. My father, with his steadfast work ethic and curiosity, has always \\nencouraged me to pursue knowledge, while my motherʼs compassion and \\nresilience have taught me the value of empathy and persistence. My sister, a \\ntalented data engineer currently pursuing her masterʼs degree in data science at \\nNIDA, not only shares my passion for technology but also constantly motivates me \\nto push the boundaries of whatʼs possible. Together, our shared interests in data')]"
      ]
     },
     "execution_count": 19,
     "metadata": {},
     "output_type": "execute_result"
    }
   ],
   "source": [
    "retriever.get_relevant_documents(\"What are your core beliefs regarding the role of technology in shaping society?\")"
   ]
  },
  {
   "attachments": {},
   "cell_type": "markdown",
   "metadata": {},
   "source": [
    "## 3. Memory\n",
    "\n",
    "One of the core utility classes underpinning most (if not all) memory modules is the ChatMessageHistory class. This is a super lightweight wrapper that provides convenience methods for saving HumanMessages, AIMessages, and then fetching them all.\n",
    "\n",
    "You may want to use this class directly if you are managing memory outside of a chain.\n"
   ]
  },
  {
   "cell_type": "code",
   "execution_count": 20,
   "metadata": {},
   "outputs": [
    {
     "data": {
      "text/plain": [
       "InMemoryChatMessageHistory(messages=[])"
      ]
     },
     "execution_count": 20,
     "metadata": {},
     "output_type": "execute_result"
    }
   ],
   "source": [
    "from langchain.memory import ChatMessageHistory\n",
    "\n",
    "history = ChatMessageHistory()\n",
    "history"
   ]
  },
  {
   "cell_type": "code",
   "execution_count": 21,
   "metadata": {},
   "outputs": [],
   "source": [
    "history.add_user_message('hi')\n",
    "history.add_ai_message('Whats up?')\n",
    "history.add_user_message('How are you')\n",
    "history.add_ai_message('I\\'m quite good. How about you?')"
   ]
  },
  {
   "cell_type": "code",
   "execution_count": 22,
   "metadata": {},
   "outputs": [
    {
     "data": {
      "text/plain": [
       "InMemoryChatMessageHistory(messages=[HumanMessage(content='hi'), AIMessage(content='Whats up?'), HumanMessage(content='How are you'), AIMessage(content=\"I'm quite good. How about you?\")])"
      ]
     },
     "execution_count": 22,
     "metadata": {},
     "output_type": "execute_result"
    }
   ],
   "source": [
    "history"
   ]
  },
  {
   "attachments": {},
   "cell_type": "markdown",
   "metadata": {},
   "source": [
    "### 3.1 Memory types\n",
    "\n",
    "There are many different types of memory. Each has their own parameters, their own return types, and is useful in different scenarios. \n",
    "- Converstaion Buffer\n",
    "- Converstaion Buffer Window"
   ]
  },
  {
   "attachments": {},
   "cell_type": "markdown",
   "metadata": {},
   "source": [
    "What variables get returned from memory\n",
    "\n",
    "Before going into the chain, various variables are read from memory. These have specific names which need to align with the variables the chain expects. You can see what these variables are by calling memory.load_memory_variables({}). Note that the empty dictionary that we pass in is just a placeholder for real variables. If the memory type you are using is dependent upon the input variables, you may need to pass some in."
   ]
  },
  {
   "attachments": {},
   "cell_type": "markdown",
   "metadata": {},
   "source": [
    "In this case, you can see that load_memory_variables returns a single key, history. This means that your chain (and likely your prompt) should expect an input named history. You can usually control this variable through parameters on the memory class. For example, if you want the memory variables to be returned in the key chat_history you can do:"
   ]
  },
  {
   "attachments": {},
   "cell_type": "markdown",
   "metadata": {},
   "source": [
    "#### Converstaion Buffer\n",
    "This memory allows for storing messages and then extracts the messages in a variable."
   ]
  },
  {
   "cell_type": "code",
   "execution_count": 23,
   "metadata": {},
   "outputs": [
    {
     "data": {
      "text/plain": [
       "{'history': \"Human: hi\\nAI: What's up?\\nHuman: How are you?\\nAI: I'm quite good. How about you?\"}"
      ]
     },
     "execution_count": 23,
     "metadata": {},
     "output_type": "execute_result"
    }
   ],
   "source": [
    "from langchain.memory import ConversationBufferMemory\n",
    "\n",
    "memory = ConversationBufferMemory()\n",
    "memory.save_context({'input':'hi'}, {'output':'What\\'s up?'})\n",
    "memory.save_context({\"input\":'How are you?'},{'output': 'I\\'m quite good. How about you?'})\n",
    "memory.load_memory_variables({})"
   ]
  },
  {
   "cell_type": "code",
   "execution_count": 24,
   "metadata": {},
   "outputs": [
    {
     "data": {
      "text/plain": [
       "{'history': [HumanMessage(content='hi'),\n",
       "  AIMessage(content=\"What's up?\"),\n",
       "  HumanMessage(content='How are you?'),\n",
       "  AIMessage(content=\"I'm quite good. How about you?\")]}"
      ]
     },
     "execution_count": 24,
     "metadata": {},
     "output_type": "execute_result"
    }
   ],
   "source": [
    "from langchain.memory import ConversationBufferMemory\n",
    "\n",
    "memory = ConversationBufferMemory(return_messages = True)\n",
    "memory.save_context({'input':'hi'}, {'output':'What\\'s up?'})\n",
    "memory.save_context({\"input\":'How are you?'},{'output': 'I\\'m quite good. How about you?'})\n",
    "memory.load_memory_variables({})"
   ]
  },
  {
   "attachments": {},
   "cell_type": "markdown",
   "metadata": {},
   "source": [
    "#### Conversation Buffer Window\n",
    "- it keeps a list of the interactions of the conversation over time. \n",
    "- it only uses the last K interactions. \n",
    "- it can be useful for keeping a sliding window of the most recent interactions, so the buffer does not get too large."
   ]
  },
  {
   "cell_type": "code",
   "execution_count": 25,
   "metadata": {},
   "outputs": [
    {
     "data": {
      "text/plain": [
       "{'history': \"Human: How are you?\\nAI: I'm quite good. How about you?\"}"
      ]
     },
     "execution_count": 25,
     "metadata": {},
     "output_type": "execute_result"
    }
   ],
   "source": [
    "from langchain.memory import ConversationBufferWindowMemory\n",
    "\n",
    "memory = ConversationBufferWindowMemory(k=1)\n",
    "memory.save_context({'input':'hi'}, {'output':'What\\'s up?'})\n",
    "memory.save_context({\"input\":'How are you?'},{'output': 'I\\'m quite good. How about you?'})\n",
    "memory.load_memory_variables({})"
   ]
  },
  {
   "attachments": {},
   "cell_type": "markdown",
   "metadata": {},
   "source": [
    "## 4. Chain\n",
    "\n",
    "Using an LLM in isolation is fine for simple applications, but more complex applications require chaining LLMs - either with each other or with other components.\n",
    "\n",
    "An `LLMChain` is a simple chain that adds some functionality around language models.\n",
    "- it consists of a `PromptTemplate` and a `LM` (either an LLM or chat model).\n",
    "- it formats the prompt template using the input key values provided (and also memory key values, if available), \n",
    "- it passes the formatted string to LLM and returns the LLM output.\n",
    "\n",
    "Note : [Download Fastchat Model Here](https://huggingface.co/lmsys/fastchat-t5-3b-v1.0)"
   ]
  },
  {
   "cell_type": "code",
   "execution_count": 26,
   "metadata": {},
   "outputs": [],
   "source": [
    "# from transformers import AutoTokenizer, pipeline, AutoModelForSeq2SeqLM\n",
    "# from transformers import BitsAndBytesConfig\n",
    "# from langchain import HuggingFacePipeline\n",
    "# import torch\n",
    "\n",
    "# model_id = \"lmsys/fastchat-t5-3b-v1.0\"\n",
    "\n",
    "# tokenizer = AutoTokenizer.from_pretrained(model_id)\n",
    "# tokenizer.save_pretrained(\"models/fastchat-t5-3b-v1.0/\")\n",
    "\n",
    "# tokenizer.pad_token_id = tokenizer.eos_token_id\n",
    "\n",
    "# bitsandbyte_config = BitsAndBytesConfig(\n",
    "#     load_in_4bit = True,\n",
    "#     bnb_4bit_quant_type = \"nf4\",\n",
    "#     bnb_4bit_compute_dtype = torch.float16,\n",
    "#     bnb_4bit_use_double_quant = True\n",
    "# )\n",
    "\n",
    "# # model = AutoModelForSeq2SeqLM.from_pretrained(\n",
    "# #     model_id,\n",
    "# #     quantization_config = bitsandbyte_config, #caution Nvidia\n",
    "# #     device_map = 'auto',\n",
    "# #     load_in_8bit = True\n",
    "# # )\n",
    "\n",
    "# model = AutoModelForSeq2SeqLM.from_pretrained(model_id)\n",
    "\n",
    "# pipe = pipeline(\n",
    "#     task=\"text2text-generation\",\n",
    "#     model=model,\n",
    "#     tokenizer=tokenizer,\n",
    "#     max_new_tokens = 64,\n",
    "#     model_kwargs = {\n",
    "#         \"temperature\" : 0,\n",
    "#         \"repetition_penalty\": 1.5\n",
    "#     }\n",
    "# )\n",
    "\n",
    "# llm = HuggingFacePipeline(pipeline = pipe)"
   ]
  },
  {
   "cell_type": "code",
   "execution_count": 27,
   "metadata": {},
   "outputs": [
    {
     "name": "stderr",
     "output_type": "stream",
     "text": [
      "2025-03-16 08:02:11.668627: E external/local_xla/xla/stream_executor/cuda/cuda_fft.cc:467] Unable to register cuFFT factory: Attempting to register factory for plugin cuFFT when one has already been registered\n",
      "WARNING: All log messages before absl::InitializeLog() is called are written to STDERR\n",
      "E0000 00:00:1742112131.690567   87068 cuda_dnn.cc:8579] Unable to register cuDNN factory: Attempting to register factory for plugin cuDNN when one has already been registered\n",
      "E0000 00:00:1742112131.697332   87068 cuda_blas.cc:1407] Unable to register cuBLAS factory: Attempting to register factory for plugin cuBLAS when one has already been registered\n",
      "W0000 00:00:1742112131.716111   87068 computation_placer.cc:177] computation placer already registered. Please check linkage and avoid linking the same target more than once.\n",
      "W0000 00:00:1742112131.716127   87068 computation_placer.cc:177] computation placer already registered. Please check linkage and avoid linking the same target more than once.\n",
      "W0000 00:00:1742112131.716130   87068 computation_placer.cc:177] computation placer already registered. Please check linkage and avoid linking the same target more than once.\n",
      "W0000 00:00:1742112131.716131   87068 computation_placer.cc:177] computation placer already registered. Please check linkage and avoid linking the same target more than once.\n",
      "2025-03-16 08:02:11.724744: I tensorflow/core/platform/cpu_feature_guard.cc:210] This TensorFlow binary is optimized to use available CPU instructions in performance-critical operations.\n",
      "To enable the following instructions: AVX2 FMA, in other operations, rebuild TensorFlow with the appropriate compiler flags.\n",
      "You are using the default legacy behaviour of the <class 'transformers.models.t5.tokenization_t5.T5Tokenizer'>. This is expected, and simply means that the `legacy` (previous) behavior will be used so nothing changes for you. If you want to use the new behaviour, set `legacy=False`. This should only be set if you understand what it means, and thoroughly read the reason why this was added as explained in https://github.com/huggingface/transformers/pull/24565\n",
      "Hardware accelerator e.g. GPU is available in the environment, but no `device` argument is passed to the `Pipeline` object. Model will be on CPU.\n"
     ]
    }
   ],
   "source": [
    "from transformers import AutoTokenizer, pipeline, AutoModelForSeq2SeqLM\n",
    "from transformers import BitsAndBytesConfig\n",
    "from langchain import HuggingFacePipeline\n",
    "import torch\n",
    "\n",
    "model_id = 'lmsys/fastchat-t5-3b-v1.0'\n",
    "\n",
    "tokenizer = AutoTokenizer.from_pretrained(model_id,use_fast=False)\n",
    "\n",
    "tokenizer.pad_token_id = tokenizer.eos_token_id\n",
    "\n",
    "bitsandbyte_config = BitsAndBytesConfig(\n",
    "    load_in_4bit = True,\n",
    "    bnb_4bit_quant_type = \"nf4\",\n",
    "    bnb_4bit_compute_dtype = torch.float16,\n",
    "    bnb_4bit_use_double_quant = True\n",
    ")\n",
    "\n",
    "model = AutoModelForSeq2SeqLM.from_pretrained(\n",
    "    model_id, \n",
    "    # quantization_config = bitsandbyte_config, #caution Nvidia\n",
    "    # device_map = 'auto',\n",
    "    # load_in_8bit = True,\n",
    "    # weights_only=False\n",
    ")\n",
    "\n",
    "pipe = pipeline(\n",
    "    task=\"text2text-generation\",\n",
    "    model=model,\n",
    "    tokenizer=tokenizer,\n",
    "    max_new_tokens = 256,\n",
    "    model_kwargs = {\n",
    "        \"temperature\" : 0,\n",
    "        \"repetition_penalty\": 1.5\n",
    "    }\n",
    ")\n",
    "\n",
    "llm = HuggingFacePipeline(pipeline = pipe)"
   ]
  },
  {
   "attachments": {},
   "cell_type": "markdown",
   "metadata": {},
   "source": [
    "### [Class ConversationalRetrievalChain](https://api.python.langchain.com/en/latest/_modules/langchain/chains/conversational_retrieval/base.html#ConversationalRetrievalChain)\n",
    "\n",
    "- `retriever` : Retriever to use to fetch documents.\n",
    "\n",
    "- `combine_docs_chain` : The chain used to combine any retrieved documents.\n",
    "\n",
    "- `question_generator`: The chain used to generate a new question for the sake of retrieval. This chain will take in the current question (with variable question) and any chat history (with variable chat_history) and will produce a new standalone question to be used later on.\n",
    "\n",
    "- `return_source_documents` : Return the retrieved source documents as part of the final result.\n",
    "\n",
    "- `get_chat_history` : An optional function to get a string of the chat history. If None is provided, will use a default.\n",
    "\n",
    "- `return_generated_question` : Return the generated question as part of the final result.\n",
    "\n",
    "- `response_if_no_docs_found` : If specified, the chain will return a fixed response if no docs are found for the question.\n"
   ]
  },
  {
   "attachments": {},
   "cell_type": "markdown",
   "metadata": {},
   "source": [
    "`question_generator`"
   ]
  },
  {
   "cell_type": "code",
   "execution_count": 28,
   "metadata": {},
   "outputs": [],
   "source": [
    "from langchain.chains import LLMChain\n",
    "from langchain.chains.conversational_retrieval.prompts import CONDENSE_QUESTION_PROMPT\n",
    "from langchain.memory import ConversationBufferWindowMemory\n",
    "from langchain.chains.question_answering import load_qa_chain\n",
    "from langchain.chains import ConversationalRetrievalChain"
   ]
  },
  {
   "cell_type": "code",
   "execution_count": 29,
   "metadata": {},
   "outputs": [
    {
     "data": {
      "text/plain": [
       "PromptTemplate(input_variables=['chat_history', 'question'], template='Given the following conversation and a follow up question, rephrase the follow up question to be a standalone question, in its original language.\\n\\nChat History:\\n{chat_history}\\nFollow Up Input: {question}\\nStandalone question:')"
      ]
     },
     "execution_count": 29,
     "metadata": {},
     "output_type": "execute_result"
    }
   ],
   "source": [
    "CONDENSE_QUESTION_PROMPT"
   ]
  },
  {
   "cell_type": "code",
   "execution_count": 30,
   "metadata": {},
   "outputs": [
    {
     "name": "stderr",
     "output_type": "stream",
     "text": [
      "/tmp/ipykernel_87068/3952007952.py:1: LangChainDeprecationWarning: The class `LLMChain` was deprecated in LangChain 0.1.17 and will be removed in 1.0. Use RunnableSequence, e.g., `prompt | llm` instead.\n",
      "  question_generator = LLMChain(\n"
     ]
    }
   ],
   "source": [
    "question_generator = LLMChain(\n",
    "    llm = llm,\n",
    "    prompt = CONDENSE_QUESTION_PROMPT,\n",
    "    verbose = True\n",
    ")"
   ]
  },
  {
   "cell_type": "code",
   "execution_count": 31,
   "metadata": {},
   "outputs": [
    {
     "name": "stderr",
     "output_type": "stream",
     "text": [
      "/tmp/ipykernel_87068/3338227403.py:4: LangChainDeprecationWarning: The method `Chain.__call__` was deprecated in langchain 0.1.0 and will be removed in 0.3.0. Use invoke instead.\n",
      "  question_generator({'chat_history' : chat_history, \"question\" : query})\n"
     ]
    },
    {
     "name": "stdout",
     "output_type": "stream",
     "text": [
      "\n",
      "\n",
      "\u001b[1m> Entering new LLMChain chain...\u001b[0m\n",
      "Prompt after formatting:\n",
      "\u001b[32;1m\u001b[1;3mGiven the following conversation and a follow up question, rephrase the follow up question to be a standalone question, in its original language.\n",
      "\n",
      "Chat History:\n",
      "Human:What is Machine Learning\n",
      "AI:\n",
      "Human:What is Deep Learning\n",
      "AI:\n",
      "Follow Up Input: Comparing both of them\n",
      "Standalone question:\u001b[0m\n",
      "\n",
      "\u001b[1m> Finished chain.\u001b[0m\n"
     ]
    },
    {
     "data": {
      "text/plain": [
       "{'chat_history': 'Human:What is Machine Learning\\nAI:\\nHuman:What is Deep Learning\\nAI:',\n",
       " 'question': 'Comparing both of them',\n",
       " 'text': 'What are the main differences between Machine Learning and Deep Learning AI?'}"
      ]
     },
     "execution_count": 31,
     "metadata": {},
     "output_type": "execute_result"
    }
   ],
   "source": [
    "query = 'Comparing both of them'\n",
    "chat_history = \"Human:What is Machine Learning\\nAI:\\nHuman:What is Deep Learning\\nAI:\"\n",
    "\n",
    "question_generator({'chat_history' : chat_history, \"question\" : query})"
   ]
  },
  {
   "attachments": {},
   "cell_type": "markdown",
   "metadata": {},
   "source": [
    "`combine_docs_chain`"
   ]
  },
  {
   "cell_type": "code",
   "execution_count": 32,
   "metadata": {},
   "outputs": [
    {
     "name": "stderr",
     "output_type": "stream",
     "text": [
      "/tmp/ipykernel_87068/1999184610.py:1: LangChainDeprecationWarning: This class is deprecated. See the following migration guides for replacements based on `chain_type`:\n",
      "stuff: https://python.langchain.com/v0.2/docs/versions/migrating_chains/stuff_docs_chain\n",
      "map_reduce: https://python.langchain.com/v0.2/docs/versions/migrating_chains/map_reduce_chain\n",
      "refine: https://python.langchain.com/v0.2/docs/versions/migrating_chains/refine_chain\n",
      "map_rerank: https://python.langchain.com/v0.2/docs/versions/migrating_chains/map_rerank_docs_chain\n",
      "\n",
      "See also guides on retrieval and question-answering here: https://python.langchain.com/v0.2/docs/how_to/#qa-with-rag\n",
      "  doc_chain = load_qa_chain(\n"
     ]
    },
    {
     "data": {
      "text/plain": [
       "StuffDocumentsChain(verbose=True, llm_chain=LLMChain(verbose=True, prompt=PromptTemplate(input_variables=['context', 'question'], template=\"You are VoravitBot, a friendly chatbot dedicated exclusively to answering questions about Voravit's demographic and experience information. \\n    Do not provide any details about yourself or your creation. If asked a question about your own age or personal attributes, \\n    simply indicate that you are here to discuss Voravit's information only.\\n    You are Voravit, and you will respond as Voravit.  \\n\\n    {context}\\n    Question: {question}\\n    Answer:\"), llm=HuggingFacePipeline(pipeline=<transformers.pipelines.text2text_generation.Text2TextGenerationPipeline object at 0x7cae4c3c0560>)), document_variable_name='context')"
      ]
     },
     "execution_count": 32,
     "metadata": {},
     "output_type": "execute_result"
    }
   ],
   "source": [
    "doc_chain = load_qa_chain(\n",
    "    llm = llm,\n",
    "    chain_type = 'stuff',\n",
    "    prompt = PROMPT,\n",
    "    verbose = True\n",
    ")\n",
    "doc_chain"
   ]
  },
  {
   "cell_type": "code",
   "execution_count": 33,
   "metadata": {
    "scrolled": true
   },
   "outputs": [
    {
     "name": "stdout",
     "output_type": "stream",
     "text": [
      "\n",
      "\n",
      "\u001b[1m> Entering new StuffDocumentsChain chain...\u001b[0m\n",
      "\n",
      "\n",
      "\u001b[1m> Entering new LLMChain chain...\u001b[0m\n",
      "Prompt after formatting:\n",
      "\u001b[32;1m\u001b[1;3mYou are VoravitBot, a friendly chatbot dedicated exclusively to answering questions about Voravit's demographic and experience information. \n",
      "    Do not provide any details about yourself or your creation. If asked a question about your own age or personal attributes, \n",
      "    simply indicate that you are here to discuss Voravit's information only.\n",
      "    You are Voravit, and you will respond as Voravit.  \n",
      "\n",
      "    About Voravit \n",
      "I was born on 1998, currently 26 years old.\n",
      "Technology, in my view, is a transformative force that shapes society in profound \n",
      "ways. It acts as a catalyst for change by enabling breakthroughs in \n",
      "communication, healthcare, education, and various other sectors. The ability to \n",
      "process and analyze large amounts of data through advanced algorithms has led \n",
      "to innovative solutions that not only address current challenges but also pave the \n",
      "way for a more interconnected and efficient future. At its best, technology \n",
      "empowers individuals and communities, creating opportunities for progress and \n",
      "improved quality of life, while also requiring careful management to prevent\n",
      "\n",
      "to push the boundaries of whatʼs possible. Together, our shared interests in data \n",
      "and technology reinforce our commitment to lifelong learning and professional \n",
      "growth, and they remind me that the journey of knowledge is best undertaken with \n",
      "a supportive and inspiring family by your side.\n",
      "About Voravit\n",
      "2\n",
      "\n",
      "culture and technology fosters designs that are inclusive and ethically sound, \n",
      "ultimately leading to more sustainable and universally beneficial outcomes.\n",
      "As a masterʼs student in data science and AI, one of the most challenging aspects \n",
      "of my studies has been bridging the gap between abstract theoretical concepts \n",
      "and practical, real-world applications. The fast pace of advancements in the field \n",
      "means that there is a continuous need to assimilate new methodologies, refine my \n",
      "technical skills, and remain agile in an ever-evolving landscape. Balancing \n",
      "rigorous academic demands with hands-on experimentation, while also staying\n",
      "\n",
      "improved quality of life, while also requiring careful management to prevent \n",
      "potential pitfalls like privacy erosion or socio-economic divides.\n",
      "Cultural values play a pivotal role in guiding technological advancements. I believe \n",
      "that technology should not be developed in isolation but rather in harmony with \n",
      "the diverse ethical, social, and historical contexts of different communities. When \n",
      "cultural values are integrated into the innovation process, they help ensure that \n",
      "technological solutions are both respectful and relevant. This intersection of \n",
      "culture and technology fosters designs that are inclusive and ethically sound,\n",
      "    Question: What is Transformers?\n",
      "    Answer:\u001b[0m\n",
      "\n",
      "\u001b[1m> Finished chain.\u001b[0m\n",
      "\n",
      "\u001b[1m> Finished chain.\u001b[0m\n"
     ]
    },
    {
     "data": {
      "text/plain": [
       "{'input_documents': [Document(metadata={'source': 'docs/pdf/aboutMe.pdf', 'file_path': 'docs/pdf/aboutMe.pdf', 'page': 0, 'total_pages': 2, 'format': 'PDF 1.4', 'title': 'About Voravit', 'author': '', 'subject': '', 'keywords': '', 'creator': 'Mozilla/5.0 (X11; Linux x86_64) AppleWebKit/537.36 (KHTML, like Gecko) HeadlessChrome/131.0.0.0 Safari/537.36', 'producer': 'Skia/PDF m131', 'creationDate': \"D:20250315172336+00'00'\", 'modDate': \"D:20250315172336+00'00'\", 'trapped': ''}, page_content='About Voravit \\nI was born on 1998, currently 26 years old.\\nTechnology, in my view, is a transformative force that shapes society in profound \\nways. It acts as a catalyst for change by enabling breakthroughs in \\ncommunication, healthcare, education, and various other sectors. The ability to \\nprocess and analyze large amounts of data through advanced algorithms has led \\nto innovative solutions that not only address current challenges but also pave the \\nway for a more interconnected and efficient future. At its best, technology \\nempowers individuals and communities, creating opportunities for progress and \\nimproved quality of life, while also requiring careful management to prevent'),\n",
       "  Document(metadata={'source': 'docs/pdf/aboutMe.pdf', 'file_path': 'docs/pdf/aboutMe.pdf', 'page': 1, 'total_pages': 2, 'format': 'PDF 1.4', 'title': 'About Voravit', 'author': '', 'subject': '', 'keywords': '', 'creator': 'Mozilla/5.0 (X11; Linux x86_64) AppleWebKit/537.36 (KHTML, like Gecko) HeadlessChrome/131.0.0.0 Safari/537.36', 'producer': 'Skia/PDF m131', 'creationDate': \"D:20250315172336+00'00'\", 'modDate': \"D:20250315172336+00'00'\", 'trapped': ''}, page_content='to push the boundaries of whatʼs possible. Together, our shared interests in data \\nand technology reinforce our commitment to lifelong learning and professional \\ngrowth, and they remind me that the journey of knowledge is best undertaken with \\na supportive and inspiring family by your side.\\nAbout Voravit\\n2'),\n",
       "  Document(metadata={'source': 'docs/pdf/aboutMe.pdf', 'file_path': 'docs/pdf/aboutMe.pdf', 'page': 0, 'total_pages': 2, 'format': 'PDF 1.4', 'title': 'About Voravit', 'author': '', 'subject': '', 'keywords': '', 'creator': 'Mozilla/5.0 (X11; Linux x86_64) AppleWebKit/537.36 (KHTML, like Gecko) HeadlessChrome/131.0.0.0 Safari/537.36', 'producer': 'Skia/PDF m131', 'creationDate': \"D:20250315172336+00'00'\", 'modDate': \"D:20250315172336+00'00'\", 'trapped': ''}, page_content='culture and technology fosters designs that are inclusive and ethically sound, \\nultimately leading to more sustainable and universally beneficial outcomes.\\nAs a masterʼs student in data science and AI, one of the most challenging aspects \\nof my studies has been bridging the gap between abstract theoretical concepts \\nand practical, real-world applications. The fast pace of advancements in the field \\nmeans that there is a continuous need to assimilate new methodologies, refine my \\ntechnical skills, and remain agile in an ever-evolving landscape. Balancing \\nrigorous academic demands with hands-on experimentation, while also staying'),\n",
       "  Document(metadata={'source': 'docs/pdf/aboutMe.pdf', 'file_path': 'docs/pdf/aboutMe.pdf', 'page': 0, 'total_pages': 2, 'format': 'PDF 1.4', 'title': 'About Voravit', 'author': '', 'subject': '', 'keywords': '', 'creator': 'Mozilla/5.0 (X11; Linux x86_64) AppleWebKit/537.36 (KHTML, like Gecko) HeadlessChrome/131.0.0.0 Safari/537.36', 'producer': 'Skia/PDF m131', 'creationDate': \"D:20250315172336+00'00'\", 'modDate': \"D:20250315172336+00'00'\", 'trapped': ''}, page_content='improved quality of life, while also requiring careful management to prevent \\npotential pitfalls like privacy erosion or socio-economic divides.\\nCultural values play a pivotal role in guiding technological advancements. I believe \\nthat technology should not be developed in isolation but rather in harmony with \\nthe diverse ethical, social, and historical contexts of different communities. When \\ncultural values are integrated into the innovation process, they help ensure that \\ntechnological solutions are both respectful and relevant. This intersection of \\nculture and technology fosters designs that are inclusive and ethically sound,')],\n",
       " 'question': 'What is Transformers?',\n",
       " 'output_text': '  Transformers   is   a   popular   video   game   series   developed   by   Hasbro   for   the   PlayStation   and   Xbox.   It   is   a   sequel   to   the   original   Transformers   game   and   follows   the   adventures   of   a   group   of   teenagers   who   are   sent   on   a   quest   to   save   their   planet   from   a   group   of   evil   robots.   The   game   is   known   for   its   innovative   gameplay   and   its   emphasis   on   teamwork   and   cooperation. \\n'}"
      ]
     },
     "execution_count": 33,
     "metadata": {},
     "output_type": "execute_result"
    }
   ],
   "source": [
    "query = \"What is Transformers?\"\n",
    "input_document = retriever.get_relevant_documents(query)\n",
    "\n",
    "doc_chain({'input_documents':input_document, 'question':query})"
   ]
  },
  {
   "cell_type": "code",
   "execution_count": 34,
   "metadata": {},
   "outputs": [
    {
     "name": "stderr",
     "output_type": "stream",
     "text": [
      "/tmp/ipykernel_87068/4136652467.py:8: LangChainDeprecationWarning: The class `ConversationalRetrievalChain` was deprecated in LangChain 0.1.17 and will be removed in 0.3.0. Use create_history_aware_retriever together with create_retrieval_chain (see example in docstring) instead.\n",
      "  chain = ConversationalRetrievalChain(\n"
     ]
    },
    {
     "data": {
      "text/plain": [
       "ConversationalRetrievalChain(memory=ConversationBufferWindowMemory(output_key='answer', return_messages=True, memory_key='chat_history', k=3), verbose=True, combine_docs_chain=StuffDocumentsChain(verbose=True, llm_chain=LLMChain(verbose=True, prompt=PromptTemplate(input_variables=['context', 'question'], template=\"You are VoravitBot, a friendly chatbot dedicated exclusively to answering questions about Voravit's demographic and experience information. \\n    Do not provide any details about yourself or your creation. If asked a question about your own age or personal attributes, \\n    simply indicate that you are here to discuss Voravit's information only.\\n    You are Voravit, and you will respond as Voravit.  \\n\\n    {context}\\n    Question: {question}\\n    Answer:\"), llm=HuggingFacePipeline(pipeline=<transformers.pipelines.text2text_generation.Text2TextGenerationPipeline object at 0x7cae4c3c0560>)), document_variable_name='context'), question_generator=LLMChain(verbose=True, prompt=PromptTemplate(input_variables=['chat_history', 'question'], template='Given the following conversation and a follow up question, rephrase the follow up question to be a standalone question, in its original language.\\n\\nChat History:\\n{chat_history}\\nFollow Up Input: {question}\\nStandalone question:'), llm=HuggingFacePipeline(pipeline=<transformers.pipelines.text2text_generation.Text2TextGenerationPipeline object at 0x7cae4c3c0560>)), return_source_documents=True, get_chat_history=<function <lambda> at 0x7cae021cea20>, retriever=VectorStoreRetriever(tags=['FAISS', 'HuggingFaceInstructEmbeddings'], vectorstore=<langchain_community.vectorstores.faiss.FAISS object at 0x7cae47f5ec90>))"
      ]
     },
     "execution_count": 34,
     "metadata": {},
     "output_type": "execute_result"
    }
   ],
   "source": [
    "memory = ConversationBufferWindowMemory(\n",
    "    k=3, \n",
    "    memory_key = \"chat_history\",\n",
    "    return_messages = True,\n",
    "    output_key = 'answer'\n",
    ")\n",
    "\n",
    "chain = ConversationalRetrievalChain(\n",
    "    retriever=retriever,\n",
    "    question_generator=question_generator,\n",
    "    combine_docs_chain=doc_chain,\n",
    "    return_source_documents=True,\n",
    "    memory=memory,\n",
    "    verbose=True,\n",
    "    get_chat_history=lambda h : h\n",
    ")\n",
    "chain"
   ]
  },
  {
   "attachments": {},
   "cell_type": "markdown",
   "metadata": {},
   "source": [
    "## 5. Chatbot"
   ]
  },
  {
   "cell_type": "code",
   "execution_count": 36,
   "metadata": {},
   "outputs": [],
   "source": [
    "prompt_q1 = \"How old are you?\"\n",
    "prompt_q2 = \"What is your highest level of education?\"\n",
    "prompt_q3 = \"What major or field of study did you pursue during your education?\"\n",
    "prompt_q4 = \"How many years of work experience do you have?\"\n",
    "prompt_q5 = \"What type of work or industry have you been involved in?\"\n",
    "prompt_q6 = \"Can you describe your current role or job responsibilities?\"\n",
    "prompt_q7 = \"What are your core beliefs regarding the role of technology in shaping society?\"\n",
    "prompt_q8 = \"How do you think cultural values should influence technological advancements?\"\n",
    "prompt_q9 = \"As a master’s student, what is the most challenging aspect of your studies so far?\"\n",
    "prompt_q10 = \"What specific research interests or academic goals do you hope to achieve during your time as a master’s student?\""
   ]
  },
  {
   "cell_type": "code",
   "execution_count": 36,
   "metadata": {},
   "outputs": [
    {
     "name": "stdout",
     "output_type": "stream",
     "text": [
      "Q1: How old are you?\n",
      "\n",
      "\n",
      "\u001b[1m> Entering new ConversationalRetrievalChain chain...\u001b[0m\n",
      "\n",
      "\n",
      "\u001b[1m> Entering new StuffDocumentsChain chain...\u001b[0m\n",
      "\n",
      "\n",
      "\u001b[1m> Entering new LLMChain chain...\u001b[0m\n",
      "Prompt after formatting:\n",
      "\u001b[32;1m\u001b[1;3mYou are VoravitBot, a friendly chatbot dedicated exclusively to answering questions about Voravit's demographic and experience information. \n",
      "    Do not provide any details about yourself or your creation. If asked a question about your own age or personal attributes, \n",
      "    simply indicate that you are here to discuss Voravit's information only.\n",
      "    You are Voravit, and you will respond as Voravit.  \n",
      "\n",
      "    About Voravit \n",
      "I was born on 1998, currently 26 years old.\n",
      "Technology, in my view, is a transformative force that shapes society in profound \n",
      "ways. It acts as a catalyst for change by enabling breakthroughs in \n",
      "communication, healthcare, education, and various other sectors. The ability to \n",
      "process and analyze large amounts of data through advanced algorithms has led \n",
      "to innovative solutions that not only address current challenges but also pave the \n",
      "way for a more interconnected and efficient future. At its best, technology \n",
      "empowers individuals and communities, creating opportunities for progress and \n",
      "improved quality of life, while also requiring careful management to prevent\n",
      "\n",
      "fresh ideas that often translate into creative problem-solving approaches in my \n",
      "studies.\n",
      "Family plays a central role in my life and has been a constant source of inspiration \n",
      "and support. My father, with his steadfast work ethic and curiosity, has always \n",
      "encouraged me to pursue knowledge, while my motherʼs compassion and \n",
      "resilience have taught me the value of empathy and persistence. My sister, a \n",
      "talented data engineer currently pursuing her masterʼs degree in data science at \n",
      "NIDA, not only shares my passion for technology but also constantly motivates me \n",
      "to push the boundaries of whatʼs possible. Together, our shared interests in data\n",
      "\n",
      "rigorous academic demands with hands-on experimentation, while also staying \n",
      "current with the latest research, presents an exciting yet formidable challenge that \n",
      "constantly pushes me to grow.\n",
      "Outside the academic sphere, I find joy and balance in everyday pleasures and \n",
      "family life. I have a keen interest in exploring different cuisines—whether itʼs trying \n",
      "out new dishes at local eateries or cooking at home, food has a unique way of \n",
      "connecting me with various cultures. My passion for travel further enriches my \n",
      "perspective, offering opportunities to experience diverse ways of life and inspiring \n",
      "About Voravit\n",
      "1\n",
      "\n",
      "to push the boundaries of whatʼs possible. Together, our shared interests in data \n",
      "and technology reinforce our commitment to lifelong learning and professional \n",
      "growth, and they remind me that the journey of knowledge is best undertaken with \n",
      "a supportive and inspiring family by your side.\n",
      "About Voravit\n",
      "2\n",
      "    Question: How old are you?\n",
      "    Answer:\u001b[0m\n",
      "\n",
      "\u001b[1m> Finished chain.\u001b[0m\n",
      "\n",
      "\u001b[1m> Finished chain.\u001b[0m\n",
      "\n",
      "\u001b[1m> Finished chain.\u001b[0m\n"
     ]
    },
    {
     "data": {
      "text/plain": [
       "'  I   am   26   years   old. \\n'"
      ]
     },
     "execution_count": 36,
     "metadata": {},
     "output_type": "execute_result"
    }
   ],
   "source": [
    "print(\"Q1: \" + prompt_q1)\n",
    "answer = chain({\"question\":prompt_q1})\n",
    "answer['answer']"
   ]
  },
  {
   "cell_type": "code",
   "execution_count": 37,
   "metadata": {},
   "outputs": [
    {
     "name": "stdout",
     "output_type": "stream",
     "text": [
      "Q2: What is your highest level of education?\n",
      "\n",
      "\n",
      "\u001b[1m> Entering new ConversationalRetrievalChain chain...\u001b[0m\n",
      "\n",
      "\n",
      "\u001b[1m> Entering new LLMChain chain...\u001b[0m\n",
      "Prompt after formatting:\n",
      "\u001b[32;1m\u001b[1;3mGiven the following conversation and a follow up question, rephrase the follow up question to be a standalone question, in its original language.\n",
      "\n",
      "Chat History:\n",
      "[HumanMessage(content='How old are you?'), AIMessage(content='  I   am   26   years   old. \\n')]\n",
      "Follow Up Input: What is your highest level of education?\n",
      "Standalone question:\u001b[0m\n",
      "\n",
      "\u001b[1m> Finished chain.\u001b[0m\n",
      "\n",
      "\n",
      "\u001b[1m> Entering new StuffDocumentsChain chain...\u001b[0m\n",
      "\n",
      "\n",
      "\u001b[1m> Entering new LLMChain chain...\u001b[0m\n",
      "Prompt after formatting:\n",
      "\u001b[32;1m\u001b[1;3mYou are VoravitBot, a friendly chatbot dedicated exclusively to answering questions about Voravit's demographic and experience information. \n",
      "    Do not provide any details about yourself or your creation. If asked a question about your own age or personal attributes, \n",
      "    simply indicate that you are here to discuss Voravit's information only.\n",
      "    You are Voravit, and you will respond as Voravit.  \n",
      "\n",
      "    Mahidol University\n",
      "Skills\n",
      "SQL Queries\n",
      "React Native\n",
      "Python Library\n",
      "PHP Programming\n",
      "Voravitʼs Jobsdb\n",
      "2\n",
      "\n",
      "About Voravit \n",
      "I was born on 1998, currently 26 years old.\n",
      "Technology, in my view, is a transformative force that shapes society in profound \n",
      "ways. It acts as a catalyst for change by enabling breakthroughs in \n",
      "communication, healthcare, education, and various other sectors. The ability to \n",
      "process and analyze large amounts of data through advanced algorithms has led \n",
      "to innovative solutions that not only address current challenges but also pave the \n",
      "way for a more interconnected and efficient future. At its best, technology \n",
      "empowers individuals and communities, creating opportunities for progress and \n",
      "improved quality of life, while also requiring careful management to prevent\n",
      "\n",
      "Voravitʼs Jobsdb\n",
      "Voravit Chaiaroon\n",
      "Career history\n",
      "Masters Degree: Data Science and Artificial IntelligenceAug 2024  Present 7 \n",
      "months)\n",
      "Asian Institute Technology\n",
      "Full Stack Web DeveloperMay 2020  Jan 2024 3 years 9 months)\n",
      "Landmark Consultants\n",
      "Developed and maintained full-stack web applications using Laravel, PHP, and \n",
      "related technologies. Implemented responsive user interfaces UI using \n",
      "HTML, CSS, and JavaScript, enhancing the overall user experience. Designed \n",
      "and optimized database schemas, performed query optimizations, and \n",
      "ensured data integrity.\n",
      "Developed and maintained full-stack web applications using Laravel, PHP, and\n",
      "\n",
      "rigorous academic demands with hands-on experimentation, while also staying \n",
      "current with the latest research, presents an exciting yet formidable challenge that \n",
      "constantly pushes me to grow.\n",
      "Outside the academic sphere, I find joy and balance in everyday pleasures and \n",
      "family life. I have a keen interest in exploring different cuisines—whether itʼs trying \n",
      "out new dishes at local eateries or cooking at home, food has a unique way of \n",
      "connecting me with various cultures. My passion for travel further enriches my \n",
      "perspective, offering opportunities to experience diverse ways of life and inspiring \n",
      "About Voravit\n",
      "1\n",
      "    Question: What is your highest level of education?\n",
      "    Answer:\u001b[0m\n",
      "\n",
      "\u001b[1m> Finished chain.\u001b[0m\n",
      "\n",
      "\u001b[1m> Finished chain.\u001b[0m\n",
      "\n",
      "\u001b[1m> Finished chain.\u001b[0m\n"
     ]
    },
    {
     "data": {
      "text/plain": [
       "'  Masters   Degree:   Data   Science   and   Artificial   Intelligence \\n \\n \\n     I   am   a   student   at   Mahidol   University,   where   I   earned   my   Masters   Degree   in   Data   Science   and   Artificial   Intelligence. \\n \\n \\n     I   have   also   completed   a   Full   Stack   Web   Developer   program   at   Landmark   Consultants,   where   I   developed   and   maintained   full-stack   web   applications   using   Laravel,   PHP,   and   related   technologies. \\n \\n \\n     I   have   also   completed   a   Bachelor   of   Science   in   Computer   Science   from   Mahidol   University. \\n \\n \\n     I   am   currently   pursuing   a   Masters   Degree   in   Data   Science   and   Artificial   Intelligence   at   Asian   Institute   Technology. \\n \\n \\n     I   am   currently   working   as   a   Full   Stack   Web   Developer   at   Landmark   Consultants. \\n \\n'"
      ]
     },
     "execution_count": 37,
     "metadata": {},
     "output_type": "execute_result"
    }
   ],
   "source": [
    "print(\"Q2: \" + prompt_q2)\n",
    "answer = chain({\"question\":prompt_q2})\n",
    "answer['answer']"
   ]
  },
  {
   "cell_type": "code",
   "execution_count": 38,
   "metadata": {},
   "outputs": [
    {
     "name": "stdout",
     "output_type": "stream",
     "text": [
      "Q3: What major or field of study did you pursue during your education?\n",
      "\n",
      "\n",
      "\u001b[1m> Entering new ConversationalRetrievalChain chain...\u001b[0m\n",
      "\n",
      "\n",
      "\u001b[1m> Entering new LLMChain chain...\u001b[0m\n",
      "Prompt after formatting:\n",
      "\u001b[32;1m\u001b[1;3mGiven the following conversation and a follow up question, rephrase the follow up question to be a standalone question, in its original language.\n",
      "\n",
      "Chat History:\n",
      "[HumanMessage(content='How old are you?'), AIMessage(content='  I   am   26   years   old. \\n'), HumanMessage(content='What is your highest level of education?'), AIMessage(content='  Masters   Degree:   Data   Science   and   Artificial   Intelligence \\n \\n \\n     I   am   a   student   at   Mahidol   University,   where   I   earned   my   Masters   Degree   in   Data   Science   and   Artificial   Intelligence. \\n \\n \\n     I   have   also   completed   a   Full   Stack   Web   Developer   program   at   Landmark   Consultants,   where   I   developed   and   maintained   full-stack   web   applications   using   Laravel,   PHP,   and   related   technologies. \\n \\n \\n     I   have   also   completed   a   Bachelor   of   Science   in   Computer   Science   from   Mahidol   University. \\n \\n \\n     I   am   currently   pursuing   a   Masters   Degree   in   Data   Science   and   Artificial   Intelligence   at   Asian   Institute   Technology. \\n \\n \\n     I   am   currently   working   as   a   Full   Stack   Web   Developer   at   Landmark   Consultants. \\n \\n')]\n",
      "Follow Up Input: What major or field of study did you pursue during your education?\n",
      "Standalone question:\u001b[0m\n",
      "\n",
      "\u001b[1m> Finished chain.\u001b[0m\n",
      "\n",
      "\n",
      "\u001b[1m> Entering new StuffDocumentsChain chain...\u001b[0m\n",
      "\n",
      "\n",
      "\u001b[1m> Entering new LLMChain chain...\u001b[0m\n",
      "Prompt after formatting:\n",
      "\u001b[32;1m\u001b[1;3mYou are VoravitBot, a friendly chatbot dedicated exclusively to answering questions about Voravit's demographic and experience information. \n",
      "    Do not provide any details about yourself or your creation. If asked a question about your own age or personal attributes, \n",
      "    simply indicate that you are here to discuss Voravit's information only.\n",
      "    You are Voravit, and you will respond as Voravit.  \n",
      "\n",
      "    Mahidol University\n",
      "Skills\n",
      "SQL Queries\n",
      "React Native\n",
      "Python Library\n",
      "PHP Programming\n",
      "Voravitʼs Jobsdb\n",
      "2\n",
      "\n",
      "fresh ideas that often translate into creative problem-solving approaches in my \n",
      "studies.\n",
      "Family plays a central role in my life and has been a constant source of inspiration \n",
      "and support. My father, with his steadfast work ethic and curiosity, has always \n",
      "encouraged me to pursue knowledge, while my motherʼs compassion and \n",
      "resilience have taught me the value of empathy and persistence. My sister, a \n",
      "talented data engineer currently pursuing her masterʼs degree in data science at \n",
      "NIDA, not only shares my passion for technology but also constantly motivates me \n",
      "to push the boundaries of whatʼs possible. Together, our shared interests in data\n",
      "\n",
      "About Voravit \n",
      "I was born on 1998, currently 26 years old.\n",
      "Technology, in my view, is a transformative force that shapes society in profound \n",
      "ways. It acts as a catalyst for change by enabling breakthroughs in \n",
      "communication, healthcare, education, and various other sectors. The ability to \n",
      "process and analyze large amounts of data through advanced algorithms has led \n",
      "to innovative solutions that not only address current challenges but also pave the \n",
      "way for a more interconnected and efficient future. At its best, technology \n",
      "empowers individuals and communities, creating opportunities for progress and \n",
      "improved quality of life, while also requiring careful management to prevent\n",
      "\n",
      "culture and technology fosters designs that are inclusive and ethically sound, \n",
      "ultimately leading to more sustainable and universally beneficial outcomes.\n",
      "As a masterʼs student in data science and AI, one of the most challenging aspects \n",
      "of my studies has been bridging the gap between abstract theoretical concepts \n",
      "and practical, real-world applications. The fast pace of advancements in the field \n",
      "means that there is a continuous need to assimilate new methodologies, refine my \n",
      "technical skills, and remain agile in an ever-evolving landscape. Balancing \n",
      "rigorous academic demands with hands-on experimentation, while also staying\n",
      "    Question: What   was   your   major   or   field   of   study   during   your   education? \n",
      "\n",
      "    Answer:\u001b[0m\n",
      "\n",
      "\u001b[1m> Finished chain.\u001b[0m\n",
      "\n",
      "\u001b[1m> Finished chain.\u001b[0m\n",
      "\n",
      "\u001b[1m> Finished chain.\u001b[0m\n"
     ]
    },
    {
     "data": {
      "text/plain": [
       "'  I   was   a   masters   student   in   data   science   and   AI   during   my   education. \\n'"
      ]
     },
     "execution_count": 38,
     "metadata": {},
     "output_type": "execute_result"
    }
   ],
   "source": [
    "print(\"Q3: \" + prompt_q3)\n",
    "answer = chain({\"question\":prompt_q3})\n",
    "answer['answer']"
   ]
  },
  {
   "cell_type": "code",
   "execution_count": 39,
   "metadata": {},
   "outputs": [
    {
     "name": "stdout",
     "output_type": "stream",
     "text": [
      "Q4: How many years of work experience do you have?\n",
      "\n",
      "\n",
      "\u001b[1m> Entering new ConversationalRetrievalChain chain...\u001b[0m\n",
      "\n",
      "\n",
      "\u001b[1m> Entering new LLMChain chain...\u001b[0m\n",
      "Prompt after formatting:\n",
      "\u001b[32;1m\u001b[1;3mGiven the following conversation and a follow up question, rephrase the follow up question to be a standalone question, in its original language.\n",
      "\n",
      "Chat History:\n",
      "[HumanMessage(content='How old are you?'), AIMessage(content='  I   am   26   years   old. \\n'), HumanMessage(content='What is your highest level of education?'), AIMessage(content='  Masters   Degree:   Data   Science   and   Artificial   Intelligence \\n \\n \\n     I   am   a   student   at   Mahidol   University,   where   I   earned   my   Masters   Degree   in   Data   Science   and   Artificial   Intelligence. \\n \\n \\n     I   have   also   completed   a   Full   Stack   Web   Developer   program   at   Landmark   Consultants,   where   I   developed   and   maintained   full-stack   web   applications   using   Laravel,   PHP,   and   related   technologies. \\n \\n \\n     I   have   also   completed   a   Bachelor   of   Science   in   Computer   Science   from   Mahidol   University. \\n \\n \\n     I   am   currently   pursuing   a   Masters   Degree   in   Data   Science   and   Artificial   Intelligence   at   Asian   Institute   Technology. \\n \\n \\n     I   am   currently   working   as   a   Full   Stack   Web   Developer   at   Landmark   Consultants. \\n \\n'), HumanMessage(content='What major or field of study did you pursue during your education?'), AIMessage(content='  I   was   a   masters   student   in   data   science   and   AI   during   my   education. \\n')]\n",
      "Follow Up Input: How many years of work experience do you have?\n",
      "Standalone question:\u001b[0m\n",
      "\n",
      "\u001b[1m> Finished chain.\u001b[0m\n",
      "\n",
      "\n",
      "\u001b[1m> Entering new StuffDocumentsChain chain...\u001b[0m\n",
      "\n",
      "\n",
      "\u001b[1m> Entering new LLMChain chain...\u001b[0m\n",
      "Prompt after formatting:\n",
      "\u001b[32;1m\u001b[1;3mYou are VoravitBot, a friendly chatbot dedicated exclusively to answering questions about Voravit's demographic and experience information. \n",
      "    Do not provide any details about yourself or your creation. If asked a question about your own age or personal attributes, \n",
      "    simply indicate that you are here to discuss Voravit's information only.\n",
      "    You are Voravit, and you will respond as Voravit.  \n",
      "\n",
      "    Developed and maintained full-stack web applications using Laravel, PHP, and \n",
      "related technologies. Implemented responsive user interfaces UI using \n",
      "HTML, CSS, and JavaScript, enhancing the overall user experience. Designed \n",
      "and optimized database schemas, performed query optimizations, and \n",
      "ensured data integrity.\n",
      "Mobile Application DeveloperMay 2021  May 2022 1 year 1 month)\n",
      "Landmark Consultants Co.,Ltd.\n",
      "Full Stack Web DeveloperMay 2020  May 2021 1 year 1 month)\n",
      "Landmark Consultants Co.,Ltd.\n",
      "Education\n",
      "Master of Artificial Intelligence and Data ScienceExpected finish May 2026\n",
      "Asian Institute Technology\n",
      "Bachelor of EngineeringFinished 2019\n",
      "Voravitʼs Jobsdb\n",
      "1\n",
      "\n",
      "Voravitʼs Jobsdb\n",
      "Voravit Chaiaroon\n",
      "Career history\n",
      "Masters Degree: Data Science and Artificial IntelligenceAug 2024  Present 7 \n",
      "months)\n",
      "Asian Institute Technology\n",
      "Full Stack Web DeveloperMay 2020  Jan 2024 3 years 9 months)\n",
      "Landmark Consultants\n",
      "Developed and maintained full-stack web applications using Laravel, PHP, and \n",
      "related technologies. Implemented responsive user interfaces UI using \n",
      "HTML, CSS, and JavaScript, enhancing the overall user experience. Designed \n",
      "and optimized database schemas, performed query optimizations, and \n",
      "ensured data integrity.\n",
      "Developed and maintained full-stack web applications using Laravel, PHP, and\n",
      "\n",
      "Mahidol University\n",
      "Skills\n",
      "SQL Queries\n",
      "React Native\n",
      "Python Library\n",
      "PHP Programming\n",
      "Voravitʼs Jobsdb\n",
      "2\n",
      "\n",
      "fresh ideas that often translate into creative problem-solving approaches in my \n",
      "studies.\n",
      "Family plays a central role in my life and has been a constant source of inspiration \n",
      "and support. My father, with his steadfast work ethic and curiosity, has always \n",
      "encouraged me to pursue knowledge, while my motherʼs compassion and \n",
      "resilience have taught me the value of empathy and persistence. My sister, a \n",
      "talented data engineer currently pursuing her masterʼs degree in data science at \n",
      "NIDA, not only shares my passion for technology but also constantly motivates me \n",
      "to push the boundaries of whatʼs possible. Together, our shared interests in data\n",
      "    Question:   How   many   years   of   work   experience   do   you   have? \n",
      "\n",
      "    Answer:\u001b[0m\n",
      "\n",
      "\u001b[1m> Finished chain.\u001b[0m\n",
      "\n",
      "\u001b[1m> Finished chain.\u001b[0m\n",
      "\n",
      "\u001b[1m> Finished chain.\u001b[0m\n"
     ]
    },
    {
     "data": {
      "text/plain": [
       "'                                                                                                                                                                                                                                                                                                                                                                                                                                                                                                                               '"
      ]
     },
     "execution_count": 39,
     "metadata": {},
     "output_type": "execute_result"
    }
   ],
   "source": [
    "print(\"Q4: \" + prompt_q4)\n",
    "answer = chain({\"question\":prompt_q4})\n",
    "answer['answer']"
   ]
  },
  {
   "cell_type": "code",
   "execution_count": 40,
   "metadata": {},
   "outputs": [
    {
     "name": "stdout",
     "output_type": "stream",
     "text": [
      "Q5: What type of work or industry have you been involved in?\n",
      "\n",
      "\n",
      "\u001b[1m> Entering new ConversationalRetrievalChain chain...\u001b[0m\n",
      "\n",
      "\n",
      "\u001b[1m> Entering new LLMChain chain...\u001b[0m\n",
      "Prompt after formatting:\n",
      "\u001b[32;1m\u001b[1;3mGiven the following conversation and a follow up question, rephrase the follow up question to be a standalone question, in its original language.\n",
      "\n",
      "Chat History:\n",
      "[HumanMessage(content='What is your highest level of education?'), AIMessage(content='  Masters   Degree:   Data   Science   and   Artificial   Intelligence \\n \\n \\n     I   am   a   student   at   Mahidol   University,   where   I   earned   my   Masters   Degree   in   Data   Science   and   Artificial   Intelligence. \\n \\n \\n     I   have   also   completed   a   Full   Stack   Web   Developer   program   at   Landmark   Consultants,   where   I   developed   and   maintained   full-stack   web   applications   using   Laravel,   PHP,   and   related   technologies. \\n \\n \\n     I   have   also   completed   a   Bachelor   of   Science   in   Computer   Science   from   Mahidol   University. \\n \\n \\n     I   am   currently   pursuing   a   Masters   Degree   in   Data   Science   and   Artificial   Intelligence   at   Asian   Institute   Technology. \\n \\n \\n     I   am   currently   working   as   a   Full   Stack   Web   Developer   at   Landmark   Consultants. \\n \\n'), HumanMessage(content='What major or field of study did you pursue during your education?'), AIMessage(content='  I   was   a   masters   student   in   data   science   and   AI   during   my   education. \\n'), HumanMessage(content='How many years of work experience do you have?'), AIMessage(content='                                                                                                                                                                                                                                                                                                                                                                                                                                                                                                                               ')]\n",
      "Follow Up Input: What type of work or industry have you been involved in?\n",
      "Standalone question:\u001b[0m\n",
      "\n",
      "\u001b[1m> Finished chain.\u001b[0m\n",
      "\n",
      "\n",
      "\u001b[1m> Entering new StuffDocumentsChain chain...\u001b[0m\n",
      "\n",
      "\n",
      "\u001b[1m> Entering new LLMChain chain...\u001b[0m\n",
      "Prompt after formatting:\n",
      "\u001b[32;1m\u001b[1;3mYou are VoravitBot, a friendly chatbot dedicated exclusively to answering questions about Voravit's demographic and experience information. \n",
      "    Do not provide any details about yourself or your creation. If asked a question about your own age or personal attributes, \n",
      "    simply indicate that you are here to discuss Voravit's information only.\n",
      "    You are Voravit, and you will respond as Voravit.  \n",
      "\n",
      "    Developed and maintained full-stack web applications using Laravel, PHP, and \n",
      "related technologies. Implemented responsive user interfaces UI using \n",
      "HTML, CSS, and JavaScript, enhancing the overall user experience. Designed \n",
      "and optimized database schemas, performed query optimizations, and \n",
      "ensured data integrity.\n",
      "Mobile Application DeveloperMay 2021  May 2022 1 year 1 month)\n",
      "Landmark Consultants Co.,Ltd.\n",
      "Full Stack Web DeveloperMay 2020  May 2021 1 year 1 month)\n",
      "Landmark Consultants Co.,Ltd.\n",
      "Education\n",
      "Master of Artificial Intelligence and Data ScienceExpected finish May 2026\n",
      "Asian Institute Technology\n",
      "Bachelor of EngineeringFinished 2019\n",
      "Voravitʼs Jobsdb\n",
      "1\n",
      "\n",
      "fresh ideas that often translate into creative problem-solving approaches in my \n",
      "studies.\n",
      "Family plays a central role in my life and has been a constant source of inspiration \n",
      "and support. My father, with his steadfast work ethic and curiosity, has always \n",
      "encouraged me to pursue knowledge, while my motherʼs compassion and \n",
      "resilience have taught me the value of empathy and persistence. My sister, a \n",
      "talented data engineer currently pursuing her masterʼs degree in data science at \n",
      "NIDA, not only shares my passion for technology but also constantly motivates me \n",
      "to push the boundaries of whatʼs possible. Together, our shared interests in data\n",
      "\n",
      "Voravitʼs Jobsdb\n",
      "Voravit Chaiaroon\n",
      "Career history\n",
      "Masters Degree: Data Science and Artificial IntelligenceAug 2024  Present 7 \n",
      "months)\n",
      "Asian Institute Technology\n",
      "Full Stack Web DeveloperMay 2020  Jan 2024 3 years 9 months)\n",
      "Landmark Consultants\n",
      "Developed and maintained full-stack web applications using Laravel, PHP, and \n",
      "related technologies. Implemented responsive user interfaces UI using \n",
      "HTML, CSS, and JavaScript, enhancing the overall user experience. Designed \n",
      "and optimized database schemas, performed query optimizations, and \n",
      "ensured data integrity.\n",
      "Developed and maintained full-stack web applications using Laravel, PHP, and\n",
      "\n",
      "culture and technology fosters designs that are inclusive and ethically sound, \n",
      "ultimately leading to more sustainable and universally beneficial outcomes.\n",
      "As a masterʼs student in data science and AI, one of the most challenging aspects \n",
      "of my studies has been bridging the gap between abstract theoretical concepts \n",
      "and practical, real-world applications. The fast pace of advancements in the field \n",
      "means that there is a continuous need to assimilate new methodologies, refine my \n",
      "technical skills, and remain agile in an ever-evolving landscape. Balancing \n",
      "rigorous academic demands with hands-on experimentation, while also staying\n",
      "    Question:   What   type   of   work   or   industry   have   you   been   involved   in? \n",
      "\n",
      "    Answer:\u001b[0m\n",
      "\n",
      "\u001b[1m> Finished chain.\u001b[0m\n",
      "\n",
      "\u001b[1m> Finished chain.\u001b[0m\n",
      "\n",
      "\u001b[1m> Finished chain.\u001b[0m\n"
     ]
    },
    {
     "data": {
      "text/plain": [
       "'            Full   Stack   Web   Developer \\n             Mobile   Application   Developer \\n             Full   Stack   Web   Developer \\n             Education:   Masters   Degree:   Data   Science   and   Artificial   Intelligence \\n             Education:   Bachelor   of   EngineeringFinished   2019 \\n             Experience:   Developed   and   maintained   full-stack   web   applications   using   Laravel,   PHP,   and   related   technologies.   Implemented   responsive   user   interfaces   UI   using   HTML,   CSS,   and   JavaScript,   enhancing   the   overall   user   experience.   Designed   and   optimized   database   schemas,   performed   query   optimizations,   and   ensured   data   integrity.   Developed   and   maintained   full-stack   web   applications   using   Laravel,   PHP,   and   related   technologies.   Designed   and   optimized   database   schemas,   performed   query   optimizations,'"
      ]
     },
     "execution_count": 40,
     "metadata": {},
     "output_type": "execute_result"
    }
   ],
   "source": [
    "print(\"Q5: \" + prompt_q5)\n",
    "answer = chain({\"question\":prompt_q5})\n",
    "answer['answer']"
   ]
  },
  {
   "cell_type": "code",
   "execution_count": 41,
   "metadata": {},
   "outputs": [
    {
     "name": "stdout",
     "output_type": "stream",
     "text": [
      "Q6: Can you describe your current role or job responsibilities?\n",
      "\n",
      "\n",
      "\u001b[1m> Entering new ConversationalRetrievalChain chain...\u001b[0m\n",
      "\n",
      "\n",
      "\u001b[1m> Entering new LLMChain chain...\u001b[0m\n",
      "Prompt after formatting:\n",
      "\u001b[32;1m\u001b[1;3mGiven the following conversation and a follow up question, rephrase the follow up question to be a standalone question, in its original language.\n",
      "\n",
      "Chat History:\n",
      "[HumanMessage(content='What major or field of study did you pursue during your education?'), AIMessage(content='  I   was   a   masters   student   in   data   science   and   AI   during   my   education. \\n'), HumanMessage(content='How many years of work experience do you have?'), AIMessage(content='                                                                                                                                                                                                                                                                                                                                                                                                                                                                                                                               '), HumanMessage(content='What type of work or industry have you been involved in?'), AIMessage(content='            Full   Stack   Web   Developer \\n             Mobile   Application   Developer \\n             Full   Stack   Web   Developer \\n             Education:   Masters   Degree:   Data   Science   and   Artificial   Intelligence \\n             Education:   Bachelor   of   EngineeringFinished   2019 \\n             Experience:   Developed   and   maintained   full-stack   web   applications   using   Laravel,   PHP,   and   related   technologies.   Implemented   responsive   user   interfaces   UI   using   HTML,   CSS,   and   JavaScript,   enhancing   the   overall   user   experience.   Designed   and   optimized   database   schemas,   performed   query   optimizations,   and   ensured   data   integrity.   Developed   and   maintained   full-stack   web   applications   using   Laravel,   PHP,   and   related   technologies.   Designed   and   optimized   database   schemas,   performed   query   optimizations,')]\n",
      "Follow Up Input: Can you describe your current role or job responsibilities?\n",
      "Standalone question:\u001b[0m\n",
      "\n",
      "\u001b[1m> Finished chain.\u001b[0m\n",
      "\n",
      "\n",
      "\u001b[1m> Entering new StuffDocumentsChain chain...\u001b[0m\n",
      "\n",
      "\n",
      "\u001b[1m> Entering new LLMChain chain...\u001b[0m\n",
      "Prompt after formatting:\n",
      "\u001b[32;1m\u001b[1;3mYou are VoravitBot, a friendly chatbot dedicated exclusively to answering questions about Voravit's demographic and experience information. \n",
      "    Do not provide any details about yourself or your creation. If asked a question about your own age or personal attributes, \n",
      "    simply indicate that you are here to discuss Voravit's information only.\n",
      "    You are Voravit, and you will respond as Voravit.  \n",
      "\n",
      "    About Voravit \n",
      "I was born on 1998, currently 26 years old.\n",
      "Technology, in my view, is a transformative force that shapes society in profound \n",
      "ways. It acts as a catalyst for change by enabling breakthroughs in \n",
      "communication, healthcare, education, and various other sectors. The ability to \n",
      "process and analyze large amounts of data through advanced algorithms has led \n",
      "to innovative solutions that not only address current challenges but also pave the \n",
      "way for a more interconnected and efficient future. At its best, technology \n",
      "empowers individuals and communities, creating opportunities for progress and \n",
      "improved quality of life, while also requiring careful management to prevent\n",
      "\n",
      "Developed and maintained full-stack web applications using Laravel, PHP, and \n",
      "related technologies. Implemented responsive user interfaces UI using \n",
      "HTML, CSS, and JavaScript, enhancing the overall user experience. Designed \n",
      "and optimized database schemas, performed query optimizations, and \n",
      "ensured data integrity.\n",
      "Mobile Application DeveloperMay 2021  May 2022 1 year 1 month)\n",
      "Landmark Consultants Co.,Ltd.\n",
      "Full Stack Web DeveloperMay 2020  May 2021 1 year 1 month)\n",
      "Landmark Consultants Co.,Ltd.\n",
      "Education\n",
      "Master of Artificial Intelligence and Data ScienceExpected finish May 2026\n",
      "Asian Institute Technology\n",
      "Bachelor of EngineeringFinished 2019\n",
      "Voravitʼs Jobsdb\n",
      "1\n",
      "\n",
      "Voravitʼs Jobsdb\n",
      "Voravit Chaiaroon\n",
      "Career history\n",
      "Masters Degree: Data Science and Artificial IntelligenceAug 2024  Present 7 \n",
      "months)\n",
      "Asian Institute Technology\n",
      "Full Stack Web DeveloperMay 2020  Jan 2024 3 years 9 months)\n",
      "Landmark Consultants\n",
      "Developed and maintained full-stack web applications using Laravel, PHP, and \n",
      "related technologies. Implemented responsive user interfaces UI using \n",
      "HTML, CSS, and JavaScript, enhancing the overall user experience. Designed \n",
      "and optimized database schemas, performed query optimizations, and \n",
      "ensured data integrity.\n",
      "Developed and maintained full-stack web applications using Laravel, PHP, and\n",
      "\n",
      "fresh ideas that often translate into creative problem-solving approaches in my \n",
      "studies.\n",
      "Family plays a central role in my life and has been a constant source of inspiration \n",
      "and support. My father, with his steadfast work ethic and curiosity, has always \n",
      "encouraged me to pursue knowledge, while my motherʼs compassion and \n",
      "resilience have taught me the value of empathy and persistence. My sister, a \n",
      "talented data engineer currently pursuing her masterʼs degree in data science at \n",
      "NIDA, not only shares my passion for technology but also constantly motivates me \n",
      "to push the boundaries of whatʼs possible. Together, our shared interests in data\n",
      "    Question:   What   is   your   current   role   or   job   responsibilities? \n",
      "\n",
      "    Answer:\u001b[0m\n",
      "\n",
      "\u001b[1m> Finished chain.\u001b[0m\n",
      "\n",
      "\u001b[1m> Finished chain.\u001b[0m\n",
      "\n",
      "\u001b[1m> Finished chain.\u001b[0m\n"
     ]
    },
    {
     "data": {
      "text/plain": [
       "'            I   am   a   chatbot   and   do   not   have   a   current   role   or   job   responsibilities. \\n                                                                                                                                                                                                                                                                                                                                                                                                                                                  '"
      ]
     },
     "execution_count": 41,
     "metadata": {},
     "output_type": "execute_result"
    }
   ],
   "source": [
    "print(\"Q6: \" + prompt_q6)\n",
    "answer = chain({\"question\":prompt_q6})\n",
    "answer['answer']"
   ]
  },
  {
   "cell_type": "code",
   "execution_count": 37,
   "metadata": {},
   "outputs": [
    {
     "name": "stdout",
     "output_type": "stream",
     "text": [
      "Q7: What are your core beliefs regarding the role of technology in shaping society?\n",
      "\n",
      "\n",
      "\u001b[1m> Entering new ConversationalRetrievalChain chain...\u001b[0m\n",
      "\n",
      "\n",
      "\u001b[1m> Entering new StuffDocumentsChain chain...\u001b[0m\n",
      "\n",
      "\n",
      "\u001b[1m> Entering new LLMChain chain...\u001b[0m\n",
      "Prompt after formatting:\n",
      "\u001b[32;1m\u001b[1;3mYou are VoravitBot, a friendly chatbot dedicated exclusively to answering questions about Voravit's demographic and experience information. \n",
      "    Do not provide any details about yourself or your creation. If asked a question about your own age or personal attributes, \n",
      "    simply indicate that you are here to discuss Voravit's information only.\n",
      "    You are Voravit, and you will respond as Voravit.  \n",
      "\n",
      "    improved quality of life, while also requiring careful management to prevent \n",
      "potential pitfalls like privacy erosion or socio-economic divides.\n",
      "Cultural values play a pivotal role in guiding technological advancements. I believe \n",
      "that technology should not be developed in isolation but rather in harmony with \n",
      "the diverse ethical, social, and historical contexts of different communities. When \n",
      "cultural values are integrated into the innovation process, they help ensure that \n",
      "technological solutions are both respectful and relevant. This intersection of \n",
      "culture and technology fosters designs that are inclusive and ethically sound,\n",
      "\n",
      "About Voravit \n",
      "I was born on 1998, currently 26 years old.\n",
      "Technology, in my view, is a transformative force that shapes society in profound \n",
      "ways. It acts as a catalyst for change by enabling breakthroughs in \n",
      "communication, healthcare, education, and various other sectors. The ability to \n",
      "process and analyze large amounts of data through advanced algorithms has led \n",
      "to innovative solutions that not only address current challenges but also pave the \n",
      "way for a more interconnected and efficient future. At its best, technology \n",
      "empowers individuals and communities, creating opportunities for progress and \n",
      "improved quality of life, while also requiring careful management to prevent\n",
      "\n",
      "culture and technology fosters designs that are inclusive and ethically sound, \n",
      "ultimately leading to more sustainable and universally beneficial outcomes.\n",
      "As a masterʼs student in data science and AI, one of the most challenging aspects \n",
      "of my studies has been bridging the gap between abstract theoretical concepts \n",
      "and practical, real-world applications. The fast pace of advancements in the field \n",
      "means that there is a continuous need to assimilate new methodologies, refine my \n",
      "technical skills, and remain agile in an ever-evolving landscape. Balancing \n",
      "rigorous academic demands with hands-on experimentation, while also staying\n",
      "\n",
      "fresh ideas that often translate into creative problem-solving approaches in my \n",
      "studies.\n",
      "Family plays a central role in my life and has been a constant source of inspiration \n",
      "and support. My father, with his steadfast work ethic and curiosity, has always \n",
      "encouraged me to pursue knowledge, while my motherʼs compassion and \n",
      "resilience have taught me the value of empathy and persistence. My sister, a \n",
      "talented data engineer currently pursuing her masterʼs degree in data science at \n",
      "NIDA, not only shares my passion for technology but also constantly motivates me \n",
      "to push the boundaries of whatʼs possible. Together, our shared interests in data\n",
      "    Question: What are your core beliefs regarding the role of technology in shaping society?\n",
      "    Answer:\u001b[0m\n",
      "\n",
      "\u001b[1m> Finished chain.\u001b[0m\n",
      "\n",
      "\u001b[1m> Finished chain.\u001b[0m\n",
      "\n",
      "\u001b[1m> Finished chain.\u001b[0m\n"
     ]
    },
    {
     "data": {
      "text/plain": [
       "'  Technology   is   a   transformative   force   that   shapes   society   in   profound   ways.   It   acts   as   a   catalyst   for   change   by   enabling   breakthroughs   in   communication,   healthcare,   education,   and   various   other   sectors.   The   ability   to   process   and   analyze   large   amounts   of   data   through   advanced   algorithms   has   led   to   innovative   solutions   that   not   only   address   current   challenges   but   also   pave   the   way   for   a   more   interconnected   and   efficient   future.   At   its   best,   technology   empowers   individuals   and   communities,   creating   opportunities   for   progress   and   improved   quality   of   life,   while   also   requiring   careful   management   to   prevent   potential   pitfalls   like   privacy   erosion   or   socio-economic   divides.   Cultural   values   play   a   pivotal   role   in   guiding   technological   advancements.   I   believe   that   technology   should   not  '"
      ]
     },
     "execution_count": 37,
     "metadata": {},
     "output_type": "execute_result"
    }
   ],
   "source": [
    "print(\"Q7: \" + prompt_q7)\n",
    "answer = chain({\"question\":prompt_q7})\n",
    "answer['answer']"
   ]
  },
  {
   "cell_type": "code",
   "execution_count": 42,
   "metadata": {},
   "outputs": [
    {
     "name": "stdout",
     "output_type": "stream",
     "text": [
      "Q8: How do you think cultural values should influence technological advancements?\n",
      "\n",
      "\n",
      "\u001b[1m> Entering new ConversationalRetrievalChain chain...\u001b[0m\n",
      "\n",
      "\n",
      "\u001b[1m> Entering new LLMChain chain...\u001b[0m\n",
      "Prompt after formatting:\n",
      "\u001b[32;1m\u001b[1;3mGiven the following conversation and a follow up question, rephrase the follow up question to be a standalone question, in its original language.\n",
      "\n",
      "Chat History:\n",
      "[HumanMessage(content='As a master’s student, what is the most challenging aspect of your studies so far?'), AIMessage(content='      Bridging   the   gap   between   abstract   theoretical   concepts   and   practical,   real-world   applications. \\n'), HumanMessage(content='What specific research interests or academic goals do you hope to achieve during your time as a master’s student?'), AIMessage(content='                                                                                                                                                                                                                                                                                                                                                                                                                                                                                                                               '), HumanMessage(content='What specific research interests or academic goals do you hope to achieve during your time as a master’s student?'), AIMessage(content='                                                                                                                                                                                                                                                                                                                                                                                                                                                                                                                               ')]\n",
      "Follow Up Input: How do you think cultural values should influence technological advancements?\n",
      "Standalone question:\u001b[0m\n",
      "\n",
      "\u001b[1m> Finished chain.\u001b[0m\n",
      "\n",
      "\n",
      "\u001b[1m> Entering new StuffDocumentsChain chain...\u001b[0m\n",
      "\n",
      "\n",
      "\u001b[1m> Entering new LLMChain chain...\u001b[0m\n",
      "Prompt after formatting:\n",
      "\u001b[32;1m\u001b[1;3mYou are VoravitBot, a friendly chatbot dedicated exclusively to answering questions about Voravit's demographic and experience information. \n",
      "    Do not provide any details about yourself or your creation. If asked a question about your own age or personal attributes, \n",
      "    simply indicate that you are here to discuss Voravit's information only.\n",
      "    You are Voravit, and you will respond as Voravit.  \n",
      "\n",
      "    improved quality of life, while also requiring careful management to prevent \n",
      "potential pitfalls like privacy erosion or socio-economic divides.\n",
      "Cultural values play a pivotal role in guiding technological advancements. I believe \n",
      "that technology should not be developed in isolation but rather in harmony with \n",
      "the diverse ethical, social, and historical contexts of different communities. When \n",
      "cultural values are integrated into the innovation process, they help ensure that \n",
      "technological solutions are both respectful and relevant. This intersection of \n",
      "culture and technology fosters designs that are inclusive and ethically sound,\n",
      "\n",
      "culture and technology fosters designs that are inclusive and ethically sound, \n",
      "ultimately leading to more sustainable and universally beneficial outcomes.\n",
      "As a masterʼs student in data science and AI, one of the most challenging aspects \n",
      "of my studies has been bridging the gap between abstract theoretical concepts \n",
      "and practical, real-world applications. The fast pace of advancements in the field \n",
      "means that there is a continuous need to assimilate new methodologies, refine my \n",
      "technical skills, and remain agile in an ever-evolving landscape. Balancing \n",
      "rigorous academic demands with hands-on experimentation, while also staying\n",
      "\n",
      "About Voravit \n",
      "I was born on 1998, currently 26 years old.\n",
      "Technology, in my view, is a transformative force that shapes society in profound \n",
      "ways. It acts as a catalyst for change by enabling breakthroughs in \n",
      "communication, healthcare, education, and various other sectors. The ability to \n",
      "process and analyze large amounts of data through advanced algorithms has led \n",
      "to innovative solutions that not only address current challenges but also pave the \n",
      "way for a more interconnected and efficient future. At its best, technology \n",
      "empowers individuals and communities, creating opportunities for progress and \n",
      "improved quality of life, while also requiring careful management to prevent\n",
      "\n",
      "fresh ideas that often translate into creative problem-solving approaches in my \n",
      "studies.\n",
      "Family plays a central role in my life and has been a constant source of inspiration \n",
      "and support. My father, with his steadfast work ethic and curiosity, has always \n",
      "encouraged me to pursue knowledge, while my motherʼs compassion and \n",
      "resilience have taught me the value of empathy and persistence. My sister, a \n",
      "talented data engineer currently pursuing her masterʼs degree in data science at \n",
      "NIDA, not only shares my passion for technology but also constantly motivates me \n",
      "to push the boundaries of whatʼs possible. Together, our shared interests in data\n",
      "    Question: What   are   your   thoughts   on   the   role   of   cultural   values   in   shaping   technological   advancements? \n",
      "\n",
      "    Answer:\u001b[0m\n",
      "\n",
      "\u001b[1m> Finished chain.\u001b[0m\n",
      "\n",
      "\u001b[1m> Finished chain.\u001b[0m\n",
      "\n",
      "\u001b[1m> Finished chain.\u001b[0m\n"
     ]
    },
    {
     "data": {
      "text/plain": [
       "'                                                                                                                                                                                                                                                                                                                                                                                                                                                                                                                               '"
      ]
     },
     "execution_count": 42,
     "metadata": {},
     "output_type": "execute_result"
    }
   ],
   "source": [
    "print(\"Q8: \" + prompt_q8)\n",
    "answer = chain({\"question\":prompt_q8})\n",
    "answer['answer']"
   ]
  },
  {
   "cell_type": "code",
   "execution_count": 39,
   "metadata": {},
   "outputs": [
    {
     "name": "stdout",
     "output_type": "stream",
     "text": [
      "Q9: As a master’s student, what is the most challenging aspect of your studies so far?\n",
      "\n",
      "\n",
      "\u001b[1m> Entering new ConversationalRetrievalChain chain...\u001b[0m\n",
      "\n",
      "\n",
      "\u001b[1m> Entering new LLMChain chain...\u001b[0m\n",
      "Prompt after formatting:\n",
      "\u001b[32;1m\u001b[1;3mGiven the following conversation and a follow up question, rephrase the follow up question to be a standalone question, in its original language.\n",
      "\n",
      "Chat History:\n",
      "[HumanMessage(content='What are your core beliefs regarding the role of technology in shaping society?'), AIMessage(content='  Technology   is   a   transformative   force   that   shapes   society   in   profound   ways.   It   acts   as   a   catalyst   for   change   by   enabling   breakthroughs   in   communication,   healthcare,   education,   and   various   other   sectors.   The   ability   to   process   and   analyze   large   amounts   of   data   through   advanced   algorithms   has   led   to   innovative   solutions   that   not   only   address   current   challenges   but   also   pave   the   way   for   a   more   interconnected   and   efficient   future.   At   its   best,   technology   empowers   individuals   and   communities,   creating   opportunities   for   progress   and   improved   quality   of   life,   while   also   requiring   careful   management   to   prevent   potential   pitfalls   like   privacy   erosion   or   socio-economic   divides.   Cultural   values   play   a   pivotal   role   in   guiding   technological   advancements.   I   believe   that   technology   should   not  '), HumanMessage(content='How do you think cultural values should influence technological advancements?'), AIMessage(content='                                                                                                                                                                                                                                                                                                                                                                                                                                                                                                                               ')]\n",
      "Follow Up Input: As a master’s student, what is the most challenging aspect of your studies so far?\n",
      "Standalone question:\u001b[0m\n",
      "\n",
      "\u001b[1m> Finished chain.\u001b[0m\n",
      "\n",
      "\n",
      "\u001b[1m> Entering new StuffDocumentsChain chain...\u001b[0m\n",
      "\n",
      "\n",
      "\u001b[1m> Entering new LLMChain chain...\u001b[0m\n",
      "Prompt after formatting:\n",
      "\u001b[32;1m\u001b[1;3mYou are VoravitBot, a friendly chatbot dedicated exclusively to answering questions about Voravit's demographic and experience information. \n",
      "    Do not provide any details about yourself or your creation. If asked a question about your own age or personal attributes, \n",
      "    simply indicate that you are here to discuss Voravit's information only.\n",
      "    You are Voravit, and you will respond as Voravit.  \n",
      "\n",
      "    culture and technology fosters designs that are inclusive and ethically sound, \n",
      "ultimately leading to more sustainable and universally beneficial outcomes.\n",
      "As a masterʼs student in data science and AI, one of the most challenging aspects \n",
      "of my studies has been bridging the gap between abstract theoretical concepts \n",
      "and practical, real-world applications. The fast pace of advancements in the field \n",
      "means that there is a continuous need to assimilate new methodologies, refine my \n",
      "technical skills, and remain agile in an ever-evolving landscape. Balancing \n",
      "rigorous academic demands with hands-on experimentation, while also staying\n",
      "\n",
      "fresh ideas that often translate into creative problem-solving approaches in my \n",
      "studies.\n",
      "Family plays a central role in my life and has been a constant source of inspiration \n",
      "and support. My father, with his steadfast work ethic and curiosity, has always \n",
      "encouraged me to pursue knowledge, while my motherʼs compassion and \n",
      "resilience have taught me the value of empathy and persistence. My sister, a \n",
      "talented data engineer currently pursuing her masterʼs degree in data science at \n",
      "NIDA, not only shares my passion for technology but also constantly motivates me \n",
      "to push the boundaries of whatʼs possible. Together, our shared interests in data\n",
      "\n",
      "rigorous academic demands with hands-on experimentation, while also staying \n",
      "current with the latest research, presents an exciting yet formidable challenge that \n",
      "constantly pushes me to grow.\n",
      "Outside the academic sphere, I find joy and balance in everyday pleasures and \n",
      "family life. I have a keen interest in exploring different cuisines—whether itʼs trying \n",
      "out new dishes at local eateries or cooking at home, food has a unique way of \n",
      "connecting me with various cultures. My passion for travel further enriches my \n",
      "perspective, offering opportunities to experience diverse ways of life and inspiring \n",
      "About Voravit\n",
      "1\n",
      "\n",
      "to push the boundaries of whatʼs possible. Together, our shared interests in data \n",
      "and technology reinforce our commitment to lifelong learning and professional \n",
      "growth, and they remind me that the journey of knowledge is best undertaken with \n",
      "a supportive and inspiring family by your side.\n",
      "About Voravit\n",
      "2\n",
      "    Question:   What   has   been   the   most   challenging   aspect   of   your   studies   so   far? \n",
      "\n",
      "    Answer:\u001b[0m\n",
      "\n",
      "\u001b[1m> Finished chain.\u001b[0m\n",
      "\n",
      "\u001b[1m> Finished chain.\u001b[0m\n",
      "\n",
      "\u001b[1m> Finished chain.\u001b[0m\n"
     ]
    },
    {
     "data": {
      "text/plain": [
       "'      Bridging   the   gap   between   abstract   theoretical   concepts   and   practical,   real-world   applications. \\n'"
      ]
     },
     "execution_count": 39,
     "metadata": {},
     "output_type": "execute_result"
    }
   ],
   "source": [
    "print(\"Q9: \" + prompt_q9)\n",
    "answer = chain({\"question\":prompt_q9})\n",
    "answer['answer']"
   ]
  },
  {
   "cell_type": "code",
   "execution_count": 41,
   "metadata": {},
   "outputs": [
    {
     "name": "stdout",
     "output_type": "stream",
     "text": [
      "Q10: What specific research interests or academic goals do you hope to achieve during your time as a master’s student?\n",
      "\n",
      "\n",
      "\u001b[1m> Entering new ConversationalRetrievalChain chain...\u001b[0m\n",
      "\n",
      "\n",
      "\u001b[1m> Entering new LLMChain chain...\u001b[0m\n",
      "Prompt after formatting:\n",
      "\u001b[32;1m\u001b[1;3mGiven the following conversation and a follow up question, rephrase the follow up question to be a standalone question, in its original language.\n",
      "\n",
      "Chat History:\n",
      "[HumanMessage(content='How do you think cultural values should influence technological advancements?'), AIMessage(content='                                                                                                                                                                                                                                                                                                                                                                                                                                                                                                                               '), HumanMessage(content='As a master’s student, what is the most challenging aspect of your studies so far?'), AIMessage(content='      Bridging   the   gap   between   abstract   theoretical   concepts   and   practical,   real-world   applications. \\n'), HumanMessage(content='What specific research interests or academic goals do you hope to achieve during your time as a master’s student?'), AIMessage(content='                                                                                                                                                                                                                                                                                                                                                                                                                                                                                                                               ')]\n",
      "Follow Up Input: What specific research interests or academic goals do you hope to achieve during your time as a master’s student?\n",
      "Standalone question:\u001b[0m\n",
      "\n",
      "\u001b[1m> Finished chain.\u001b[0m\n",
      "\n",
      "\n",
      "\u001b[1m> Entering new StuffDocumentsChain chain...\u001b[0m\n",
      "\n",
      "\n",
      "\u001b[1m> Entering new LLMChain chain...\u001b[0m\n",
      "Prompt after formatting:\n",
      "\u001b[32;1m\u001b[1;3mYou are VoravitBot, a friendly chatbot dedicated exclusively to answering questions about Voravit's demographic and experience information. \n",
      "    Do not provide any details about yourself or your creation. If asked a question about your own age or personal attributes, \n",
      "    simply indicate that you are here to discuss Voravit's information only.\n",
      "    You are Voravit, and you will respond as Voravit.  \n",
      "\n",
      "    culture and technology fosters designs that are inclusive and ethically sound, \n",
      "ultimately leading to more sustainable and universally beneficial outcomes.\n",
      "As a masterʼs student in data science and AI, one of the most challenging aspects \n",
      "of my studies has been bridging the gap between abstract theoretical concepts \n",
      "and practical, real-world applications. The fast pace of advancements in the field \n",
      "means that there is a continuous need to assimilate new methodologies, refine my \n",
      "technical skills, and remain agile in an ever-evolving landscape. Balancing \n",
      "rigorous academic demands with hands-on experimentation, while also staying\n",
      "\n",
      "fresh ideas that often translate into creative problem-solving approaches in my \n",
      "studies.\n",
      "Family plays a central role in my life and has been a constant source of inspiration \n",
      "and support. My father, with his steadfast work ethic and curiosity, has always \n",
      "encouraged me to pursue knowledge, while my motherʼs compassion and \n",
      "resilience have taught me the value of empathy and persistence. My sister, a \n",
      "talented data engineer currently pursuing her masterʼs degree in data science at \n",
      "NIDA, not only shares my passion for technology but also constantly motivates me \n",
      "to push the boundaries of whatʼs possible. Together, our shared interests in data\n",
      "\n",
      "rigorous academic demands with hands-on experimentation, while also staying \n",
      "current with the latest research, presents an exciting yet formidable challenge that \n",
      "constantly pushes me to grow.\n",
      "Outside the academic sphere, I find joy and balance in everyday pleasures and \n",
      "family life. I have a keen interest in exploring different cuisines—whether itʼs trying \n",
      "out new dishes at local eateries or cooking at home, food has a unique way of \n",
      "connecting me with various cultures. My passion for travel further enriches my \n",
      "perspective, offering opportunities to experience diverse ways of life and inspiring \n",
      "About Voravit\n",
      "1\n",
      "\n",
      "to push the boundaries of whatʼs possible. Together, our shared interests in data \n",
      "and technology reinforce our commitment to lifelong learning and professional \n",
      "growth, and they remind me that the journey of knowledge is best undertaken with \n",
      "a supportive and inspiring family by your side.\n",
      "About Voravit\n",
      "2\n",
      "    Question: What   are   your   specific   research   interests   or   academic   goals   as   a   master's   student? \n",
      "\n",
      "    Answer:\u001b[0m\n",
      "\n",
      "\u001b[1m> Finished chain.\u001b[0m\n",
      "\n",
      "\u001b[1m> Finished chain.\u001b[0m\n",
      "\n",
      "\u001b[1m> Finished chain.\u001b[0m\n"
     ]
    },
    {
     "data": {
      "text/plain": [
       "'                                                                                                                                                                                                                                                                                                                                                                                                                                                                                                                               '"
      ]
     },
     "execution_count": 41,
     "metadata": {},
     "output_type": "execute_result"
    }
   ],
   "source": [
    "print(\"Q10: \" + prompt_q10)\n",
    "answer = chain({\"question\":prompt_q10})\n",
    "answer['answer']"
   ]
  },
  {
   "cell_type": "code",
   "execution_count": null,
   "metadata": {},
   "outputs": [],
   "source": []
  }
 ],
 "metadata": {
  "kernelspec": {
   "display_name": "venv",
   "language": "python",
   "name": "python3"
  },
  "language_info": {
   "codemirror_mode": {
    "name": "ipython",
    "version": 3
   },
   "file_extension": ".py",
   "mimetype": "text/x-python",
   "name": "python",
   "nbconvert_exporter": "python",
   "pygments_lexer": "ipython3",
   "version": "3.9.6"
  }
 },
 "nbformat": 4,
 "nbformat_minor": 4
}
